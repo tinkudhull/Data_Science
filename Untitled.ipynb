{
 "cells": [
  {
   "cell_type": "code",
   "execution_count": 1,
   "metadata": {
    "collapsed": true
   },
   "outputs": [],
   "source": [
    "import numpy as np\n",
    "import pandas as pd\n",
    "import matplotlib.pyplot as plt"
   ]
  },
  {
   "cell_type": "code",
   "execution_count": 2,
   "metadata": {
    "collapsed": true
   },
   "outputs": [],
   "source": [
    "train = pd.read_csv('train.csv')\n",
    "buildingo = pd.read_csv('Building_Ownership_Use.csv')\n",
    "buildingc = pd.read_csv('Building_Structure.csv')\n",
    "test = pd.read_csv('test.csv')"
   ]
  },
  {
   "cell_type": "code",
   "execution_count": 3,
   "metadata": {},
   "outputs": [
    {
     "data": {
      "text/plain": [
       "damage_grade  damage_grade\n",
       "Grade 1       Grade 1          61320\n",
       "Grade 2       Grade 2          85084\n",
       "Grade 3       Grade 3         122288\n",
       "Grade 4       Grade 4         152244\n",
       "Grade 5       Grade 5         210825\n",
       "Name: damage_grade, dtype: int64"
      ]
     },
     "execution_count": 3,
     "metadata": {},
     "output_type": "execute_result"
    }
   ],
   "source": [
    "train.groupby(\"damage_grade\")['damage_grade'].value_counts()"
   ]
  },
  {
   "cell_type": "code",
   "execution_count": 4,
   "metadata": {
    "collapsed": true
   },
   "outputs": [],
   "source": [
    "combin = pd.concat([train, test])"
   ]
  },
  {
   "cell_type": "code",
   "execution_count": 5,
   "metadata": {
    "collapsed": true
   },
   "outputs": [],
   "source": [
    "combin = pd.merge(left = combin, right = buildingo, on = ['building_id','vdcmun_id', 'district_id'] )"
   ]
  },
  {
   "cell_type": "code",
   "execution_count": 6,
   "metadata": {
    "collapsed": true
   },
   "outputs": [],
   "source": [
    "combin = pd.merge(left = combin, right = buildingc, on = ['building_id','vdcmun_id', 'district_id', 'ward_id'] )"
   ]
  },
  {
   "cell_type": "code",
   "execution_count": 7,
   "metadata": {
    "collapsed": true
   },
   "outputs": [],
   "source": [
    "del( buildingo, buildingc)"
   ]
  },
  {
   "cell_type": "code",
   "execution_count": 8,
   "metadata": {},
   "outputs": [
    {
     "data": {
      "text/html": [
       "<div>\n",
       "<style>\n",
       "    .dataframe thead tr:only-child th {\n",
       "        text-align: right;\n",
       "    }\n",
       "\n",
       "    .dataframe thead th {\n",
       "        text-align: left;\n",
       "    }\n",
       "\n",
       "    .dataframe tbody tr th {\n",
       "        vertical-align: top;\n",
       "    }\n",
       "</style>\n",
       "<table border=\"1\" class=\"dataframe\">\n",
       "  <thead>\n",
       "    <tr style=\"text-align: right;\">\n",
       "      <th></th>\n",
       "      <th>Missing</th>\n",
       "    </tr>\n",
       "  </thead>\n",
       "  <tbody>\n",
       "    <tr>\n",
       "      <th>damage_grade</th>\n",
       "      <td>4.000006e-01</td>\n",
       "    </tr>\n",
       "    <tr>\n",
       "      <th>has_repair_started</th>\n",
       "      <td>5.255685e-02</td>\n",
       "    </tr>\n",
       "    <tr>\n",
       "      <th>count_families</th>\n",
       "      <td>9.497253e-07</td>\n",
       "    </tr>\n",
       "  </tbody>\n",
       "</table>\n",
       "</div>"
      ],
      "text/plain": [
       "                         Missing\n",
       "damage_grade        4.000006e-01\n",
       "has_repair_started  5.255685e-02\n",
       "count_families      9.497253e-07"
      ]
     },
     "execution_count": 8,
     "metadata": {},
     "output_type": "execute_result"
    }
   ],
   "source": [
    "combin_na = (combin.isnull().sum()/len(combin))\n",
    "combin_na = combin_na.drop(combin_na[combin_na==0].index).sort_values(ascending = False)\n",
    "missing_data = pd.DataFrame({'Missing': combin_na})\n",
    "missing_data"
   ]
  },
  {
   "cell_type": "code",
   "execution_count": 9,
   "metadata": {},
   "outputs": [
    {
     "data": {
      "text/plain": [
       "has_repair_started  has_repair_started\n",
       "0.0                 0.0                   682263\n",
       "1.0                 1.0                   315334\n",
       "Name: has_repair_started, dtype: int64"
      ]
     },
     "execution_count": 9,
     "metadata": {},
     "output_type": "execute_result"
    }
   ],
   "source": [
    "combin.groupby('has_repair_started')['has_repair_started'].value_counts()"
   ]
  },
  {
   "cell_type": "code",
   "execution_count": 10,
   "metadata": {},
   "outputs": [
    {
     "data": {
      "text/plain": [
       "count_families  count_families\n",
       "0.0             0.0                84304\n",
       "1.0             1.0               913095\n",
       "2.0             2.0                46244\n",
       "3.0             3.0                 7075\n",
       "4.0             4.0                 1618\n",
       "5.0             5.0                  413\n",
       "6.0             6.0                  128\n",
       "7.0             7.0                   33\n",
       "8.0             8.0                   16\n",
       "9.0             9.0                    8\n",
       "11.0            11.0                   1\n",
       "Name: count_families, dtype: int64"
      ]
     },
     "execution_count": 10,
     "metadata": {},
     "output_type": "execute_result"
    }
   ],
   "source": [
    "combin.groupby('count_families')['count_families'].value_counts()"
   ]
  },
  {
   "cell_type": "code",
   "execution_count": 11,
   "metadata": {
    "collapsed": true
   },
   "outputs": [],
   "source": [
    "combin.count_families.fillna(1, inplace = True)\n",
    "combin.has_repair_started.fillna(0, inplace = True)"
   ]
  },
  {
   "cell_type": "code",
   "execution_count": 12,
   "metadata": {
    "collapsed": true
   },
   "outputs": [],
   "source": [
    "combin.area_assesed.unique()\n",
    "pd.crosstab(train['damage_grade'], train['area_assesed']).apply(lambda x: (x/x.sum())*100, axis = 0)\n",
    "#combin.groupby('area_assesed')['area_assesed'].value_counts()\n",
    "combin['area_assesed_count'] = combin.groupby('area_assesed')['area_assesed'].transform('count')"
   ]
  },
  {
   "cell_type": "code",
   "execution_count": 13,
   "metadata": {
    "collapsed": true
   },
   "outputs": [],
   "source": [
    "combin.drop('building_id', axis = 1, inplace = True)\n"
   ]
  },
  {
   "cell_type": "code",
   "execution_count": 14,
   "metadata": {
    "collapsed": true
   },
   "outputs": [],
   "source": [
    "combin['district_id_count'] = combin.groupby('district_id')['district_id'].transform('count')\n",
    "combin['vdcmun_id_count'] = combin.groupby('vdcmun_id')['vdcmun_id'].transform('count')\n",
    "combin['ward_id_count'] = combin.groupby('ward_id')['ward_id'].transform('count')"
   ]
  },
  {
   "cell_type": "code",
   "execution_count": 15,
   "metadata": {
    "collapsed": true
   },
   "outputs": [],
   "source": [
    "combin['dis_vdc_count'] = combin.groupby(['district_id', 'vdcmun_id'])['district_id'].transform('count')\n",
    "combin['dis_war_count'] = combin.groupby(['district_id', 'ward_id'])['ward_id'].transform('count')\n",
    "combin['dis_war_vdc_count'] = combin.groupby(['district_id', 'ward_id', 'vdcmun_id'])['district_id'].transform('count')\n",
    "combin.loc[combin['age_building'] > 200, 'age_building'] = 200 \n",
    "combin['floor_age'] = (combin['count_floors_pre_eq'] / (combin['age_building'] +1 ))"
   ]
  },
  {
   "cell_type": "code",
   "execution_count": 16,
   "metadata": {
    "collapsed": true
   },
   "outputs": [],
   "source": [
    "combin['area_height'] = (combin['height_ft_pre_eq'] / (combin['plinth_area_sq_ft'] +1 ))\n",
    "combin['floor_area'] = (combin['count_floors_pre_eq'] / (combin['plinth_area_sq_ft'] +1 ))\n",
    "combin['height_diff'] = (combin['height_ft_pre_eq'] - combin['height_ft_post_eq'])\n",
    "combin['floor_diff']  = (combin['count_floors_pre_eq'] - combin['count_floors_post_eq'])"
   ]
  },
  {
   "cell_type": "code",
   "execution_count": 17,
   "metadata": {},
   "outputs": [
    {
     "data": {
      "text/plain": [
       "array(['Damaged-Not used', 'Damaged-Repaired and used', 'Not damaged',\n",
       "       'Damaged-Rubble clear', 'Damaged-Used in risk',\n",
       "       'Damaged-Rubble unclear', 'Damaged-Rubble Clear-New building built',\n",
       "       'Covered by landslide'], dtype=object)"
      ]
     },
     "execution_count": 17,
     "metadata": {},
     "output_type": "execute_result"
    }
   ],
   "source": [
    "combin.condition_post_eq.unique()"
   ]
  },
  {
   "cell_type": "code",
   "execution_count": 18,
   "metadata": {},
   "outputs": [
    {
     "name": "stdout",
     "output_type": "stream",
     "text": [
      "<class 'pandas.core.frame.DataFrame'>\n",
      "Int64Index: 1052936 entries, 0 to 1052935\n",
      "Data columns (total 64 columns):\n",
      "area_assesed                              1052936 non-null object\n",
      "damage_grade                              631761 non-null object\n",
      "district_id                               1052936 non-null int64\n",
      "has_geotechnical_risk                     1052936 non-null float64\n",
      "has_geotechnical_risk_fault_crack         1052936 non-null int64\n",
      "has_geotechnical_risk_flood               1052936 non-null int64\n",
      "has_geotechnical_risk_land_settlement     1052936 non-null int64\n",
      "has_geotechnical_risk_landslide           1052936 non-null int64\n",
      "has_geotechnical_risk_liquefaction        1052936 non-null int64\n",
      "has_geotechnical_risk_other               1052936 non-null int64\n",
      "has_geotechnical_risk_rock_fall           1052936 non-null int64\n",
      "has_repair_started                        1052936 non-null float64\n",
      "vdcmun_id                                 1052936 non-null int64\n",
      "ward_id                                   1052936 non-null int64\n",
      "legal_ownership_status                    1052936 non-null object\n",
      "count_families                            1052936 non-null float64\n",
      "has_secondary_use                         1052936 non-null float64\n",
      "has_secondary_use_agriculture             1052936 non-null int64\n",
      "has_secondary_use_hotel                   1052936 non-null int64\n",
      "has_secondary_use_rental                  1052936 non-null int64\n",
      "has_secondary_use_institution             1052936 non-null int64\n",
      "has_secondary_use_school                  1052936 non-null int64\n",
      "has_secondary_use_industry                1052936 non-null int64\n",
      "has_secondary_use_health_post             1052936 non-null int64\n",
      "has_secondary_use_gov_office              1052936 non-null int64\n",
      "has_secondary_use_use_police              1052936 non-null int64\n",
      "has_secondary_use_other                   1052936 non-null int64\n",
      "count_floors_pre_eq                       1052936 non-null int64\n",
      "count_floors_post_eq                      1052936 non-null int64\n",
      "age_building                              1052936 non-null int64\n",
      "plinth_area_sq_ft                         1052936 non-null int64\n",
      "height_ft_pre_eq                          1052936 non-null int64\n",
      "height_ft_post_eq                         1052936 non-null int64\n",
      "land_surface_condition                    1052936 non-null object\n",
      "foundation_type                           1052936 non-null object\n",
      "roof_type                                 1052936 non-null object\n",
      "ground_floor_type                         1052936 non-null object\n",
      "other_floor_type                          1052936 non-null object\n",
      "position                                  1052936 non-null object\n",
      "plan_configuration                        1052936 non-null object\n",
      "has_superstructure_adobe_mud              1052936 non-null int64\n",
      "has_superstructure_mud_mortar_stone       1052936 non-null int64\n",
      "has_superstructure_stone_flag             1052936 non-null int64\n",
      "has_superstructure_cement_mortar_stone    1052936 non-null int64\n",
      "has_superstructure_mud_mortar_brick       1052936 non-null int64\n",
      "has_superstructure_cement_mortar_brick    1052936 non-null int64\n",
      "has_superstructure_timber                 1052936 non-null int64\n",
      "has_superstructure_bamboo                 1052936 non-null int64\n",
      "has_superstructure_rc_non_engineered      1052936 non-null int64\n",
      "has_superstructure_rc_engineered          1052936 non-null int64\n",
      "has_superstructure_other                  1052936 non-null int64\n",
      "condition_post_eq                         1052936 non-null object\n",
      "area_assesed_count                        1052936 non-null int64\n",
      "district_id_count                         1052936 non-null int64\n",
      "vdcmun_id_count                           1052936 non-null int64\n",
      "ward_id_count                             1052936 non-null int64\n",
      "dis_vdc_count                             1052936 non-null int64\n",
      "dis_war_count                             1052936 non-null int64\n",
      "dis_war_vdc_count                         1052936 non-null int64\n",
      "floor_age                                 1052936 non-null float64\n",
      "area_height                               1052936 non-null float64\n",
      "floor_area                                1052936 non-null float64\n",
      "height_diff                               1052936 non-null int64\n",
      "floor_diff                                1052936 non-null int64\n",
      "dtypes: float64(7), int64(46), object(11)\n",
      "memory usage: 522.2+ MB\n"
     ]
    }
   ],
   "source": [
    "combin.info()"
   ]
  },
  {
   "cell_type": "code",
   "execution_count": 19,
   "metadata": {
    "collapsed": true
   },
   "outputs": [],
   "source": [
    "combin = combin.drop(['district_id'], axis = 1)\n",
    "combin = combin.drop(['vdcmun_id'], axis = 1)\n",
    "combin = combin.drop(['ward_id'], axis = 1)"
   ]
  },
  {
   "cell_type": "code",
   "execution_count": 20,
   "metadata": {
    "collapsed": true
   },
   "outputs": [],
   "source": [
    "train2 = combin[combin.damage_grade.isnull() == False]\n",
    "test2 = combin[combin.damage_grade.isnull() == True]\n",
    "del(combin)"
   ]
  },
  {
   "cell_type": "code",
   "execution_count": 21,
   "metadata": {
    "collapsed": true
   },
   "outputs": [],
   "source": [
    "test2 = test2.drop(['damage_grade'], axis = 1)"
   ]
  },
  {
   "cell_type": "code",
   "execution_count": 22,
   "metadata": {
    "collapsed": true
   },
   "outputs": [],
   "source": [
    "X = train2.drop(['damage_grade'], axis = 1)\n",
    "X = pd.get_dummies(X, drop_first=True)\n",
    "test2 = pd.get_dummies(test2, drop_first=True)\n",
    "y = train2['damage_grade']"
   ]
  },
  {
   "cell_type": "code",
   "execution_count": 23,
   "metadata": {
    "collapsed": true
   },
   "outputs": [],
   "source": [
    "from sklearn.model_selection import train_test_split\n",
    "X_train, X_test, y_train, y_test = train_test_split(X, y, test_size=0.3, random_state=5)"
   ]
  },
  {
   "cell_type": "code",
   "execution_count": 24,
   "metadata": {
    "collapsed": true
   },
   "outputs": [],
   "source": [
    "from sklearn.preprocessing import LabelEncoder\n",
    "le = LabelEncoder()\n",
    "le.fit(y_train)\n",
    "y_train = le.transform(y_train)"
   ]
  },
  {
   "cell_type": "code",
   "execution_count": 54,
   "metadata": {
    "collapsed": true
   },
   "outputs": [
    {
     "name": "stdout",
     "output_type": "stream",
     "text": [
      "[10]\tcv_agg's multi_error: 0.281784 + 0.00227599\n",
      "[20]\tcv_agg's multi_error: 0.278164 + 0.00152244\n",
      "[30]\tcv_agg's multi_error: 0.275215 + 0.00148743\n",
      "[40]\tcv_agg's multi_error: 0.27209 + 0.0013203\n",
      "[50]\tcv_agg's multi_error: 0.269261 + 0.0011767\n",
      "[60]\tcv_agg's multi_error: 0.266769 + 0.000899311\n",
      "[70]\tcv_agg's multi_error: 0.264689 + 0.000915602\n",
      "[80]\tcv_agg's multi_error: 0.262555 + 0.00093782\n",
      "[90]\tcv_agg's multi_error: 0.261085 + 0.00092355\n",
      "[100]\tcv_agg's multi_error: 0.259337 + 0.000908447\n",
      "[110]\tcv_agg's multi_error: 0.25803 + 0.00100927\n",
      "[120]\tcv_agg's multi_error: 0.257085 + 0.00108347\n",
      "[130]\tcv_agg's multi_error: 0.256038 + 0.00123163\n",
      "[140]\tcv_agg's multi_error: 0.254902 + 0.00122563\n",
      "[150]\tcv_agg's multi_error: 0.254005 + 0.00132371\n",
      "[160]\tcv_agg's multi_error: 0.253166 + 0.00138162\n",
      "[170]\tcv_agg's multi_error: 0.252295 + 0.00131389\n",
      "[180]\tcv_agg's multi_error: 0.251572 + 0.00144245\n",
      "[190]\tcv_agg's multi_error: 0.250746 + 0.00144314\n",
      "[200]\tcv_agg's multi_error: 0.250197 + 0.00142936\n",
      "[210]\tcv_agg's multi_error: 0.249638 + 0.00129368\n",
      "[220]\tcv_agg's multi_error: 0.249057 + 0.00134267\n",
      "[230]\tcv_agg's multi_error: 0.248453 + 0.00135025\n",
      "[240]\tcv_agg's multi_error: 0.247793 + 0.00127365\n",
      "[250]\tcv_agg's multi_error: 0.247325 + 0.00124698\n",
      "[260]\tcv_agg's multi_error: 0.246606 + 0.00136605\n",
      "[270]\tcv_agg's multi_error: 0.246194 + 0.00132659\n",
      "[280]\tcv_agg's multi_error: 0.245704 + 0.00141012\n",
      "[290]\tcv_agg's multi_error: 0.245371 + 0.00133422\n",
      "[300]\tcv_agg's multi_error: 0.244901 + 0.001435\n",
      "[310]\tcv_agg's multi_error: 0.244557 + 0.00120156\n",
      "[320]\tcv_agg's multi_error: 0.244164 + 0.00107387\n",
      "[330]\tcv_agg's multi_error: 0.243709 + 0.00106987\n",
      "[340]\tcv_agg's multi_error: 0.243393 + 0.00128137\n",
      "[350]\tcv_agg's multi_error: 0.243103 + 0.00142509\n",
      "[360]\tcv_agg's multi_error: 0.242732 + 0.00144901\n",
      "[370]\tcv_agg's multi_error: 0.242377 + 0.00139594\n",
      "[380]\tcv_agg's multi_error: 0.242068 + 0.00139602\n",
      "[390]\tcv_agg's multi_error: 0.241835 + 0.00145362\n",
      "[400]\tcv_agg's multi_error: 0.241439 + 0.00146374\n",
      "[410]\tcv_agg's multi_error: 0.24119 + 0.00140597\n",
      "[420]\tcv_agg's multi_error: 0.240953 + 0.00157229\n",
      "[430]\tcv_agg's multi_error: 0.240738 + 0.00158755\n",
      "[440]\tcv_agg's multi_error: 0.240584 + 0.00159856\n",
      "[450]\tcv_agg's multi_error: 0.240218 + 0.00168274\n",
      "[460]\tcv_agg's multi_error: 0.239874 + 0.00168522\n",
      "[470]\tcv_agg's multi_error: 0.239777 + 0.00164138\n",
      "[480]\tcv_agg's multi_error: 0.239363 + 0.00156096\n",
      "[490]\tcv_agg's multi_error: 0.239076 + 0.00159735\n",
      "[500]\tcv_agg's multi_error: 0.238956 + 0.0016016\n",
      "[510]\tcv_agg's multi_error: 0.238671 + 0.00149614\n",
      "[520]\tcv_agg's multi_error: 0.238373 + 0.00135032\n",
      "[530]\tcv_agg's multi_error: 0.238278 + 0.00139242\n",
      "[540]\tcv_agg's multi_error: 0.237988 + 0.00127535\n",
      "[550]\tcv_agg's multi_error: 0.237742 + 0.00119909\n",
      "[560]\tcv_agg's multi_error: 0.237597 + 0.00118637\n",
      "[570]\tcv_agg's multi_error: 0.237285 + 0.00113208\n",
      "[580]\tcv_agg's multi_error: 0.237167 + 0.000992561\n",
      "[590]\tcv_agg's multi_error: 0.237195 + 0.00108956\n",
      "[600]\tcv_agg's multi_error: 0.236921 + 0.00113232\n",
      "[610]\tcv_agg's multi_error: 0.236708 + 0.00110208\n",
      "[620]\tcv_agg's multi_error: 0.236448 + 0.00111546\n",
      "[630]\tcv_agg's multi_error: 0.236157 + 0.00111482\n",
      "[640]\tcv_agg's multi_error: 0.235987 + 0.000963446\n",
      "[650]\tcv_agg's multi_error: 0.235777 + 0.00109665\n",
      "[660]\tcv_agg's multi_error: 0.235793 + 0.00120488\n",
      "[670]\tcv_agg's multi_error: 0.235578 + 0.00106132\n",
      "[680]\tcv_agg's multi_error: 0.235462 + 0.00114997\n",
      "[690]\tcv_agg's multi_error: 0.235444 + 0.00110409\n",
      "[700]\tcv_agg's multi_error: 0.23527 + 0.00112847\n",
      "[710]\tcv_agg's multi_error: 0.235121 + 0.000964018\n",
      "[720]\tcv_agg's multi_error: 0.234872 + 0.000953666\n",
      "[730]\tcv_agg's multi_error: 0.234748 + 0.000913427\n",
      "[740]\tcv_agg's multi_error: 0.234583 + 0.0010145\n",
      "[750]\tcv_agg's multi_error: 0.234486 + 0.00103623\n",
      "[760]\tcv_agg's multi_error: 0.234187 + 0.000969917\n",
      "[770]\tcv_agg's multi_error: 0.234083 + 0.00102083\n",
      "[780]\tcv_agg's multi_error: 0.23392 + 0.00106491\n",
      "[790]\tcv_agg's multi_error: 0.233882 + 0.00112326\n",
      "[800]\tcv_agg's multi_error: 0.233837 + 0.00100335\n",
      "[810]\tcv_agg's multi_error: 0.233823 + 0.0010198\n",
      "[820]\tcv_agg's multi_error: 0.233662 + 0.00111934\n",
      "[830]\tcv_agg's multi_error: 0.233572 + 0.000980356\n",
      "[840]\tcv_agg's multi_error: 0.233524 + 0.00103959\n",
      "[850]\tcv_agg's multi_error: 0.233409 + 0.00112349\n",
      "[860]\tcv_agg's multi_error: 0.233255 + 0.00115289\n",
      "[870]\tcv_agg's multi_error: 0.233122 + 0.00111652\n",
      "[880]\tcv_agg's multi_error: 0.233115 + 0.00106298\n",
      "[890]\tcv_agg's multi_error: 0.233079 + 0.00104371\n",
      "[900]\tcv_agg's multi_error: 0.232993 + 0.00104988\n",
      "[910]\tcv_agg's multi_error: 0.232894 + 0.00107768\n",
      "[920]\tcv_agg's multi_error: 0.232819 + 0.00104155\n",
      "[930]\tcv_agg's multi_error: 0.232625 + 0.00106259\n",
      "[940]\tcv_agg's multi_error: 0.232539 + 0.00101936\n",
      "[950]\tcv_agg's multi_error: 0.232462 + 0.000922721\n",
      "[960]\tcv_agg's multi_error: 0.232351 + 0.00101601\n",
      "[970]\tcv_agg's multi_error: 0.232331 + 0.00103711\n",
      "[980]\tcv_agg's multi_error: 0.232227 + 0.000988412\n",
      "[990]\tcv_agg's multi_error: 0.232138 + 0.000982591\n",
      "[1000]\tcv_agg's multi_error: 0.231869 + 0.000962698\n",
      "[1010]\tcv_agg's multi_error: 0.231673 + 0.00106343\n",
      "[1020]\tcv_agg's multi_error: 0.231621 + 0.000998656\n",
      "[1030]\tcv_agg's multi_error: 0.231498 + 0.000975908\n",
      "[1040]\tcv_agg's multi_error: 0.231462 + 0.00104616\n",
      "[1050]\tcv_agg's multi_error: 0.231385 + 0.00100058\n",
      "[1060]\tcv_agg's multi_error: 0.231349 + 0.00103307\n",
      "[1070]\tcv_agg's multi_error: 0.231279 + 0.000972521\n",
      "[1080]\tcv_agg's multi_error: 0.231333 + 0.000960504\n"
     ]
    }
   ],
   "source": [
    "import lightgbm as lgb\n",
    "dtrainlgb = lgb.Dataset(data = X_train, label = y_train)\n",
    "params = {'objective': 'softmax',\n",
    "         'learning_rate' : 0.1,\n",
    "          'num_leaves' : 32,\n",
    "          'num_class' : 5}\n",
    "cv_results = lgb.cv(params,\n",
    "                    dtrainlgb,\n",
    "                    num_boost_round = 2500,\n",
    "                    nfold = 5,\n",
    "                    metrics = 'multi_error',\n",
    "                    early_stopping_rounds = 20,\n",
    "                    verbose_eval = 10)"
   ]
  },
  {
   "cell_type": "code",
   "execution_count": 55,
   "metadata": {
    "collapsed": true
   },
   "outputs": [],
   "source": [
    "lgb_model = lgb.train(params,\n",
    "                     dtrainlgb,\n",
    "                     num_boost_round = 1070,\n",
    "                     verbose_eval = True)"
   ]
  },
  {
   "cell_type": "code",
   "execution_count": 72,
   "metadata": {
    "collapsed": true
   },
   "outputs": [
    {
     "data": {
      "image/png": "[encoded data removed]",
      "text/plain": [
       "<matplotlib.figure.Figure at 0x1cf116c6ba8>"
      ]
     },
     "metadata": {},
     "output_type": "display_data"
    }
   ],
   "source": [
    "import matplotlib.pyplot as plt\n",
    "a = lgb.plot_importance(lgb_model, max_num_features=40, height=.2, figsize=(12,10))\n",
    "plt.show()"
   ]
  },
  {
   "cell_type": "code",
   "execution_count": 57,
   "metadata": {},
   "outputs": [
    {
     "data": {
      "text/html": [
       "<div>\n",
       "<style>\n",
       "    .dataframe thead tr:only-child th {\n",
       "        text-align: right;\n",
       "    }\n",
       "\n",
       "    .dataframe thead th {\n",
       "        text-align: left;\n",
       "    }\n",
       "\n",
       "    .dataframe tbody tr th {\n",
       "        vertical-align: top;\n",
       "    }\n",
       "</style>\n",
       "<table border=\"1\" class=\"dataframe\">\n",
       "  <thead>\n",
       "    <tr style=\"text-align: right;\">\n",
       "      <th></th>\n",
       "      <th>0</th>\n",
       "      <th>1</th>\n",
       "      <th>2</th>\n",
       "      <th>3</th>\n",
       "      <th>4</th>\n",
       "    </tr>\n",
       "  </thead>\n",
       "  <tbody>\n",
       "    <tr>\n",
       "      <th>0</th>\n",
       "      <td>1.103042e-08</td>\n",
       "      <td>2.519972e-08</td>\n",
       "      <td>1.175070e-07</td>\n",
       "      <td>5.045518e-07</td>\n",
       "      <td>9.999993e-01</td>\n",
       "    </tr>\n",
       "    <tr>\n",
       "      <th>1</th>\n",
       "      <td>1.016813e-02</td>\n",
       "      <td>2.357427e-01</td>\n",
       "      <td>4.068707e-01</td>\n",
       "      <td>3.468041e-01</td>\n",
       "      <td>4.144081e-04</td>\n",
       "    </tr>\n",
       "    <tr>\n",
       "      <th>2</th>\n",
       "      <td>2.672584e-02</td>\n",
       "      <td>2.522328e-01</td>\n",
       "      <td>6.340237e-01</td>\n",
       "      <td>8.564355e-02</td>\n",
       "      <td>1.374043e-03</td>\n",
       "    </tr>\n",
       "    <tr>\n",
       "      <th>3</th>\n",
       "      <td>1.397434e-08</td>\n",
       "      <td>2.703601e-08</td>\n",
       "      <td>3.146761e-08</td>\n",
       "      <td>1.228427e-06</td>\n",
       "      <td>9.999987e-01</td>\n",
       "    </tr>\n",
       "    <tr>\n",
       "      <th>4</th>\n",
       "      <td>9.999699e-01</td>\n",
       "      <td>2.253739e-05</td>\n",
       "      <td>2.101251e-06</td>\n",
       "      <td>5.321799e-06</td>\n",
       "      <td>1.301871e-07</td>\n",
       "    </tr>\n",
       "  </tbody>\n",
       "</table>\n",
       "</div>"
      ],
      "text/plain": [
       "              0             1             2             3             4\n",
       "0  1.103042e-08  2.519972e-08  1.175070e-07  5.045518e-07  9.999993e-01\n",
       "1  1.016813e-02  2.357427e-01  4.068707e-01  3.468041e-01  4.144081e-04\n",
       "2  2.672584e-02  2.522328e-01  6.340237e-01  8.564355e-02  1.374043e-03\n",
       "3  1.397434e-08  2.703601e-08  3.146761e-08  1.228427e-06  9.999987e-01\n",
       "4  9.999699e-01  2.253739e-05  2.101251e-06  5.321799e-06  1.301871e-07"
      ]
     },
     "execution_count": 57,
     "metadata": {},
     "output_type": "execute_result"
    }
   ],
   "source": [
    "lgb_pred = lgb_model.predict(X_test)\n",
    "dataf = pd.DataFrame(lgb_pred)\n",
    "dataf.head()"
   ]
  },
  {
   "cell_type": "code",
   "execution_count": 58,
   "metadata": {},
   "outputs": [
    {
     "data": {
      "text/html": [
       "<div>\n",
       "<style>\n",
       "    .dataframe thead tr:only-child th {\n",
       "        text-align: right;\n",
       "    }\n",
       "\n",
       "    .dataframe thead th {\n",
       "        text-align: left;\n",
       "    }\n",
       "\n",
       "    .dataframe tbody tr th {\n",
       "        vertical-align: top;\n",
       "    }\n",
       "</style>\n",
       "<table border=\"1\" class=\"dataframe\">\n",
       "  <thead>\n",
       "    <tr style=\"text-align: right;\">\n",
       "      <th></th>\n",
       "      <th>0</th>\n",
       "      <th>1</th>\n",
       "      <th>2</th>\n",
       "      <th>3</th>\n",
       "      <th>4</th>\n",
       "      <th>max_col</th>\n",
       "    </tr>\n",
       "  </thead>\n",
       "  <tbody>\n",
       "    <tr>\n",
       "      <th>0</th>\n",
       "      <td>1.103042e-08</td>\n",
       "      <td>2.519972e-08</td>\n",
       "      <td>1.175070e-07</td>\n",
       "      <td>5.045518e-07</td>\n",
       "      <td>9.999993e-01</td>\n",
       "      <td>4</td>\n",
       "    </tr>\n",
       "    <tr>\n",
       "      <th>1</th>\n",
       "      <td>1.016813e-02</td>\n",
       "      <td>2.357427e-01</td>\n",
       "      <td>4.068707e-01</td>\n",
       "      <td>3.468041e-01</td>\n",
       "      <td>4.144081e-04</td>\n",
       "      <td>2</td>\n",
       "    </tr>\n",
       "    <tr>\n",
       "      <th>2</th>\n",
       "      <td>2.672584e-02</td>\n",
       "      <td>2.522328e-01</td>\n",
       "      <td>6.340237e-01</td>\n",
       "      <td>8.564355e-02</td>\n",
       "      <td>1.374043e-03</td>\n",
       "      <td>2</td>\n",
       "    </tr>\n",
       "    <tr>\n",
       "      <th>3</th>\n",
       "      <td>1.397434e-08</td>\n",
       "      <td>2.703601e-08</td>\n",
       "      <td>3.146761e-08</td>\n",
       "      <td>1.228427e-06</td>\n",
       "      <td>9.999987e-01</td>\n",
       "      <td>4</td>\n",
       "    </tr>\n",
       "    <tr>\n",
       "      <th>4</th>\n",
       "      <td>9.999699e-01</td>\n",
       "      <td>2.253739e-05</td>\n",
       "      <td>2.101251e-06</td>\n",
       "      <td>5.321799e-06</td>\n",
       "      <td>1.301871e-07</td>\n",
       "      <td>0</td>\n",
       "    </tr>\n",
       "  </tbody>\n",
       "</table>\n",
       "</div>"
      ],
      "text/plain": [
       "              0             1             2             3             4  \\\n",
       "0  1.103042e-08  2.519972e-08  1.175070e-07  5.045518e-07  9.999993e-01   \n",
       "1  1.016813e-02  2.357427e-01  4.068707e-01  3.468041e-01  4.144081e-04   \n",
       "2  2.672584e-02  2.522328e-01  6.340237e-01  8.564355e-02  1.374043e-03   \n",
       "3  1.397434e-08  2.703601e-08  3.146761e-08  1.228427e-06  9.999987e-01   \n",
       "4  9.999699e-01  2.253739e-05  2.101251e-06  5.321799e-06  1.301871e-07   \n",
       "\n",
       "   max_col  \n",
       "0        4  \n",
       "1        2  \n",
       "2        2  \n",
       "3        4  \n",
       "4        0  "
      ]
     },
     "execution_count": 58,
     "metadata": {},
     "output_type": "execute_result"
    }
   ],
   "source": [
    "dataf['max_col'] = dataf.idxmax(axis=1)\n",
    "dataf.head()"
   ]
  },
  {
   "cell_type": "code",
   "execution_count": 59,
   "metadata": {
    "collapsed": true
   },
   "outputs": [],
   "source": [
    "dataf['class'] = 'Grade 1'\n",
    "dataf.loc[dataf['max_col'] == 1, 'class'] = 'Grade 2'\n",
    "dataf.loc[dataf['max_col'] == 2, 'class'] = 'Grade 3'\n",
    "dataf.loc[dataf['max_col'] == 3, 'class'] = 'Grade 4'\n",
    "dataf.loc[dataf['max_col'] == 4, 'class'] = 'Grade 5'"
   ]
  },
  {
   "cell_type": "code",
   "execution_count": 61,
   "metadata": {},
   "outputs": [
    {
     "data": {
      "text/plain": [
       "0.77175963347656951"
      ]
     },
     "execution_count": 61,
     "metadata": {},
     "output_type": "execute_result"
    }
   ],
   "source": [
    "from sklearn.metrics import f1_score\n",
    "accu = f1_score(y_test, dataf['class'], average='weighted')\n",
    "accu"
   ]
  },
  {
   "cell_type": "code",
   "execution_count": 62,
   "metadata": {},
   "outputs": [
    {
     "data": {
      "text/html": [
       "<div>\n",
       "<style>\n",
       "    .dataframe thead tr:only-child th {\n",
       "        text-align: right;\n",
       "    }\n",
       "\n",
       "    .dataframe thead th {\n",
       "        text-align: left;\n",
       "    }\n",
       "\n",
       "    .dataframe tbody tr th {\n",
       "        vertical-align: top;\n",
       "    }\n",
       "</style>\n",
       "<table border=\"1\" class=\"dataframe\">\n",
       "  <thead>\n",
       "    <tr style=\"text-align: right;\">\n",
       "      <th></th>\n",
       "      <th>0</th>\n",
       "      <th>1</th>\n",
       "      <th>2</th>\n",
       "      <th>3</th>\n",
       "      <th>4</th>\n",
       "    </tr>\n",
       "  </thead>\n",
       "  <tbody>\n",
       "    <tr>\n",
       "      <th>0</th>\n",
       "      <td>2.742020e-02</td>\n",
       "      <td>2.428824e-01</td>\n",
       "      <td>3.031416e-01</td>\n",
       "      <td>4.264470e-01</td>\n",
       "      <td>0.000109</td>\n",
       "    </tr>\n",
       "    <tr>\n",
       "      <th>1</th>\n",
       "      <td>1.950396e-09</td>\n",
       "      <td>3.063560e-08</td>\n",
       "      <td>2.404043e-07</td>\n",
       "      <td>3.740501e-07</td>\n",
       "      <td>0.999999</td>\n",
       "    </tr>\n",
       "    <tr>\n",
       "      <th>2</th>\n",
       "      <td>2.117951e-09</td>\n",
       "      <td>1.116280e-07</td>\n",
       "      <td>1.021187e-07</td>\n",
       "      <td>1.187371e-06</td>\n",
       "      <td>0.999999</td>\n",
       "    </tr>\n",
       "    <tr>\n",
       "      <th>3</th>\n",
       "      <td>1.271335e-02</td>\n",
       "      <td>2.868615e-01</td>\n",
       "      <td>5.541174e-01</td>\n",
       "      <td>1.462437e-01</td>\n",
       "      <td>0.000064</td>\n",
       "    </tr>\n",
       "    <tr>\n",
       "      <th>4</th>\n",
       "      <td>8.828000e-10</td>\n",
       "      <td>1.209680e-08</td>\n",
       "      <td>6.511607e-08</td>\n",
       "      <td>3.091533e-07</td>\n",
       "      <td>1.000000</td>\n",
       "    </tr>\n",
       "  </tbody>\n",
       "</table>\n",
       "</div>"
      ],
      "text/plain": [
       "              0             1             2             3         4\n",
       "0  2.742020e-02  2.428824e-01  3.031416e-01  4.264470e-01  0.000109\n",
       "1  1.950396e-09  3.063560e-08  2.404043e-07  3.740501e-07  0.999999\n",
       "2  2.117951e-09  1.116280e-07  1.021187e-07  1.187371e-06  0.999999\n",
       "3  1.271335e-02  2.868615e-01  5.541174e-01  1.462437e-01  0.000064\n",
       "4  8.828000e-10  1.209680e-08  6.511607e-08  3.091533e-07  1.000000"
      ]
     },
     "execution_count": 62,
     "metadata": {},
     "output_type": "execute_result"
    }
   ],
   "source": [
    "submit = lgb_model.predict(test2)\n",
    "submit = pd.DataFrame(submit)\n",
    "submit.head()"
   ]
  },
  {
   "cell_type": "code",
   "execution_count": 63,
   "metadata": {
    "collapsed": true
   },
   "outputs": [],
   "source": [
    "submit['max_col'] = submit.idxmax(axis=1)\n",
    "submit['class'] = 'Grade 1'\n",
    "submit.loc[submit['max_col'] == 1, 'class'] = 'Grade 2'\n",
    "submit.loc[submit['max_col'] == 2, 'class'] = 'Grade 3'\n",
    "submit.loc[submit['max_col'] == 3, 'class'] = 'Grade 4'\n",
    "submit.loc[submit['max_col'] == 4, 'class'] = 'Grade 5'"
   ]
  },
  {
   "cell_type": "code",
   "execution_count": 64,
   "metadata": {
    "collapsed": true
   },
   "outputs": [],
   "source": [
    "output = pd.DataFrame({'building_id': test.building_id, 'damage_grade' : submit['class']})\n",
    "output.to_csv('output.csv', index=False)"
   ]
  },
  {
   "cell_type": "code",
   "execution_count": null,
   "metadata": {
    "collapsed": true
   },
   "outputs": [],
   "source": [
    "# from xgboost import XGBClassifier\n",
    "# from sklearn.metrics import f1_score\n",
    "# from sklearn.model_selection import cross_val_score\n",
    "# model = XGBClassifier(max_depth=6, silent= False, n_estimators=50)\n",
    "# model.fit(X_train, y_train)\n",
    "# y_pred = model.predict(X_test)\n",
    "# acc = f1_score(y_test, y_pred, average='weighted')\n",
    "# print(acc)\n",
    "# submit = model.predict(test2)\n",
    "# output = pd.DataFrame({'building_id': test.building_id, 'damage_grade' : submit})\n",
    "# output.to_csv('output.csv', index=False)"
   ]
  },
  {
   "cell_type": "code",
   "execution_count": 38,
   "metadata": {
    "collapsed": true
   },
   "outputs": [
    {
     "data": {
      "text/html": [
       "<div>\n",
       "<style>\n",
       "    .dataframe thead tr:only-child th {\n",
       "        text-align: right;\n",
       "    }\n",
       "\n",
       "    .dataframe thead th {\n",
       "        text-align: left;\n",
       "    }\n",
       "\n",
       "    .dataframe tbody tr th {\n",
       "        vertical-align: top;\n",
       "    }\n",
       "</style>\n",
       "<table border=\"1\" class=\"dataframe\">\n",
       "  <thead>\n",
       "    <tr style=\"text-align: right;\">\n",
       "      <th></th>\n",
       "      <th>0</th>\n",
       "      <th>1</th>\n",
       "      <th>2</th>\n",
       "      <th>3</th>\n",
       "      <th>4</th>\n",
       "      <th>max_col</th>\n",
       "      <th>class</th>\n",
       "    </tr>\n",
       "  </thead>\n",
       "  <tbody>\n",
       "    <tr>\n",
       "      <th>0</th>\n",
       "      <td>3.228919e-02</td>\n",
       "      <td>3.750584e-01</td>\n",
       "      <td>2.918417e-01</td>\n",
       "      <td>3.007328e-01</td>\n",
       "      <td>0.000078</td>\n",
       "      <td>1</td>\n",
       "      <td>Grade 2</td>\n",
       "    </tr>\n",
       "    <tr>\n",
       "      <th>1</th>\n",
       "      <td>4.647834e-08</td>\n",
       "      <td>3.096417e-08</td>\n",
       "      <td>1.533263e-06</td>\n",
       "      <td>1.930381e-06</td>\n",
       "      <td>0.999996</td>\n",
       "      <td>4</td>\n",
       "      <td>Grade 5</td>\n",
       "    </tr>\n",
       "    <tr>\n",
       "      <th>2</th>\n",
       "      <td>1.306317e-08</td>\n",
       "      <td>1.266928e-10</td>\n",
       "      <td>5.332475e-08</td>\n",
       "      <td>3.046792e-07</td>\n",
       "      <td>1.000000</td>\n",
       "      <td>4</td>\n",
       "      <td>Grade 5</td>\n",
       "    </tr>\n",
       "    <tr>\n",
       "      <th>3</th>\n",
       "      <td>5.288157e-03</td>\n",
       "      <td>1.621171e-01</td>\n",
       "      <td>6.127576e-01</td>\n",
       "      <td>2.197692e-01</td>\n",
       "      <td>0.000068</td>\n",
       "      <td>2</td>\n",
       "      <td>Grade 3</td>\n",
       "    </tr>\n",
       "    <tr>\n",
       "      <th>4</th>\n",
       "      <td>7.380311e-08</td>\n",
       "      <td>6.884804e-08</td>\n",
       "      <td>6.172039e-08</td>\n",
       "      <td>1.572227e-07</td>\n",
       "      <td>1.000000</td>\n",
       "      <td>4</td>\n",
       "      <td>Grade 5</td>\n",
       "    </tr>\n",
       "  </tbody>\n",
       "</table>\n",
       "</div>"
      ],
      "text/plain": [
       "              0             1             2             3         4  max_col  \\\n",
       "0  3.228919e-02  3.750584e-01  2.918417e-01  3.007328e-01  0.000078        1   \n",
       "1  4.647834e-08  3.096417e-08  1.533263e-06  1.930381e-06  0.999996        4   \n",
       "2  1.306317e-08  1.266928e-10  5.332475e-08  3.046792e-07  1.000000        4   \n",
       "3  5.288157e-03  1.621171e-01  6.127576e-01  2.197692e-01  0.000068        2   \n",
       "4  7.380311e-08  6.884804e-08  6.172039e-08  1.572227e-07  1.000000        4   \n",
       "\n",
       "     class  \n",
       "0  Grade 2  \n",
       "1  Grade 5  \n",
       "2  Grade 5  \n",
       "3  Grade 3  \n",
       "4  Grade 5  "
      ]
     },
     "execution_count": 38,
     "metadata": {},
     "output_type": "execute_result"
    }
   ],
   "source": [
    "submit.head()"
   ]
  },
  {
   "cell_type": "code",
   "execution_count": 25,
   "metadata": {
    "collapsed": true
   },
   "outputs": [],
   "source": [
    "import xgboost as xgb\n",
    "dtrainxgb = xgb.DMatrix(data = X_train, label = y_train)"
   ]
  },
  {
   "cell_type": "code",
   "execution_count": 30,
   "metadata": {
    "collapsed": true
   },
   "outputs": [
    {
     "name": "stdout",
     "output_type": "stream",
     "text": [
      "[0]\ttrain-merror:0.292923+0.000622193\ttest-merror:0.293547+0.001775\n",
      "[1]\ttrain-merror:0.291826+0.00116438\ttest-merror:0.292604+0.00180817\n",
      "[2]\ttrain-merror:0.290359+0.000581823\ttest-merror:0.291008+0.00206187\n",
      "[3]\ttrain-merror:0.289109+0.000584128\ttest-merror:0.289828+0.0019954\n",
      "[4]\ttrain-merror:0.288275+0.00042314\ttest-merror:0.288986+0.00189845\n",
      "[5]\ttrain-merror:0.287069+0.000374691\ttest-merror:0.28774+0.0014472\n",
      "[6]\ttrain-merror:0.286188+0.000375849\ttest-merror:0.286768+0.00115677\n",
      "[7]\ttrain-merror:0.285655+0.000204612\ttest-merror:0.286388+0.00121475\n",
      "[8]\ttrain-merror:0.284588+0.000393613\ttest-merror:0.285386+0.00101783\n",
      "[9]\ttrain-merror:0.283567+0.000250739\ttest-merror:0.284358+0.0012762\n",
      "[10]\ttrain-merror:0.282471+0.000513587\ttest-merror:0.283471+0.00149472\n",
      "[11]\ttrain-merror:0.281592+0.000235268\ttest-merror:0.282582+0.0014902\n",
      "[12]\ttrain-merror:0.280755+0.000447374\ttest-merror:0.28187+0.000971928\n",
      "[13]\ttrain-merror:0.279909+0.000528536\ttest-merror:0.281276+0.000890118\n",
      "[14]\ttrain-merror:0.279078+0.000567727\ttest-merror:0.280538+0.00087939\n",
      "[15]\ttrain-merror:0.278124+0.000608281\ttest-merror:0.279966+0.000796673\n",
      "[16]\ttrain-merror:0.277057+0.000724833\ttest-merror:0.278915+0.000821526\n",
      "[17]\ttrain-merror:0.276072+0.000739369\ttest-merror:0.278214+0.000699392\n",
      "[18]\ttrain-merror:0.275197+0.000626984\ttest-merror:0.277418+0.000754726\n",
      "[19]\ttrain-merror:0.274416+0.000692408\ttest-merror:0.277002+0.000732358\n",
      "[20]\ttrain-merror:0.273472+0.000665108\ttest-merror:0.276043+0.000741991\n",
      "[21]\ttrain-merror:0.272732+0.000644172\ttest-merror:0.275421+0.000769235\n",
      "[22]\ttrain-merror:0.272031+0.000833371\ttest-merror:0.274842+0.000538164\n",
      "[23]\ttrain-merror:0.271431+0.000846141\ttest-merror:0.274175+0.000604095\n",
      "[24]\ttrain-merror:0.270296+0.000769112\ttest-merror:0.273232+0.000815832\n",
      "[25]\ttrain-merror:0.269039+0.000723165\ttest-merror:0.27217+0.00109164\n",
      "[26]\ttrain-merror:0.268285+0.000774511\ttest-merror:0.271667+0.000968578\n",
      "[27]\ttrain-merror:0.267545+0.000592457\ttest-merror:0.271097+0.000930172\n",
      "[28]\ttrain-merror:0.26704+0.000546914\ttest-merror:0.270829+0.00101179\n",
      "[29]\ttrain-merror:0.26636+0.000601204\ttest-merror:0.270412+0.00111734\n",
      "[30]\ttrain-merror:0.265511+0.000599484\ttest-merror:0.269922+0.00108739\n",
      "[31]\ttrain-merror:0.264823+0.000744171\ttest-merror:0.269483+0.00100347\n",
      "[32]\ttrain-merror:0.263927+0.000658642\ttest-merror:0.268798+0.00134856\n",
      "[33]\ttrain-merror:0.263239+0.00064674\ttest-merror:0.268368+0.0012525\n",
      "[34]\ttrain-merror:0.26254+0.000585006\ttest-merror:0.267828+0.00128667\n",
      "[35]\ttrain-merror:0.26213+0.000572867\ttest-merror:0.267565+0.00126358\n",
      "[36]\ttrain-merror:0.26146+0.000318682\ttest-merror:0.267184+0.00131998\n",
      "[37]\ttrain-merror:0.260734+0.000384987\ttest-merror:0.266665+0.00149296\n",
      "[38]\ttrain-merror:0.260019+0.000510081\ttest-merror:0.265906+0.00135946\n",
      "[39]\ttrain-merror:0.259337+0.000618136\ttest-merror:0.265533+0.00145393\n",
      "[40]\ttrain-merror:0.258813+0.000611915\ttest-merror:0.265069+0.00160376\n",
      "[41]\ttrain-merror:0.258158+0.000652106\ttest-merror:0.264614+0.00158854\n",
      "[42]\ttrain-merror:0.257629+0.00046668\ttest-merror:0.264135+0.00141759\n",
      "[43]\ttrain-merror:0.256752+0.000646023\ttest-merror:0.263717+0.00160278\n",
      "[44]\ttrain-merror:0.256119+0.000640156\ttest-merror:0.263328+0.00153098\n",
      "[45]\ttrain-merror:0.255508+0.000683146\ttest-merror:0.262939+0.00152614\n",
      "[46]\ttrain-merror:0.254838+0.00083308\ttest-merror:0.262512+0.0016022\n",
      "[47]\ttrain-merror:0.254251+0.000738175\ttest-merror:0.261973+0.00163347\n",
      "[48]\ttrain-merror:0.253786+0.000779431\ttest-merror:0.261546+0.00174159\n",
      "[49]\ttrain-merror:0.253523+0.000851243\ttest-merror:0.26148+0.00184339\n",
      "[50]\ttrain-merror:0.252995+0.000686721\ttest-merror:0.261164+0.00185181\n",
      "[51]\ttrain-merror:0.252405+0.000645264\ttest-merror:0.26058+0.00157115\n",
      "[52]\ttrain-merror:0.251878+0.00063262\ttest-merror:0.260252+0.00162163\n",
      "[53]\ttrain-merror:0.251393+0.000740376\ttest-merror:0.259884+0.00171539\n",
      "[54]\ttrain-merror:0.25074+0.000747064\ttest-merror:0.259348+0.00172899\n",
      "[55]\ttrain-merror:0.250005+0.000917818\ttest-merror:0.25886+0.00156987\n",
      "[56]\ttrain-merror:0.249437+0.00083834\ttest-merror:0.25845+0.00166468\n",
      "[57]\ttrain-merror:0.248685+0.000821212\ttest-merror:0.25786+0.00152264\n",
      "[58]\ttrain-merror:0.248337+0.00089144\ttest-merror:0.257519+0.00144318\n",
      "[59]\ttrain-merror:0.247869+0.000999421\ttest-merror:0.257259+0.0013496\n",
      "[60]\ttrain-merror:0.247579+0.00104612\ttest-merror:0.25713+0.00144915\n",
      "[61]\ttrain-merror:0.246891+0.0011571\ttest-merror:0.256671+0.00124179\n",
      "[62]\ttrain-merror:0.246444+0.00109628\ttest-merror:0.256431+0.00131775\n",
      "[63]\ttrain-merror:0.245943+0.00105073\ttest-merror:0.256056+0.00132752\n",
      "[64]\ttrain-merror:0.24541+0.000915775\ttest-merror:0.255802+0.00144168\n",
      "[65]\ttrain-merror:0.244935+0.000790798\ttest-merror:0.255572+0.00126569\n",
      "[66]\ttrain-merror:0.244445+0.00072566\ttest-merror:0.255291+0.00122316\n",
      "[67]\ttrain-merror:0.2441+0.000565298\ttest-merror:0.255153+0.00118061\n",
      "[68]\ttrain-merror:0.243682+0.000584582\ttest-merror:0.254844+0.00114835\n",
      "[69]\ttrain-merror:0.243291+0.000721549\ttest-merror:0.254611+0.00106393\n",
      "[70]\ttrain-merror:0.242861+0.000778699\ttest-merror:0.254346+0.00115444\n",
      "[71]\ttrain-merror:0.242416+0.000752609\ttest-merror:0.253964+0.00109637\n",
      "[72]\ttrain-merror:0.241931+0.000696177\ttest-merror:0.253598+0.000869107\n",
      "[73]\ttrain-merror:0.241523+0.000596152\ttest-merror:0.253394+0.000732118\n",
      "[74]\ttrain-merror:0.241176+0.00071584\ttest-merror:0.253102+0.000721768\n",
      "[75]\ttrain-merror:0.240783+0.000817314\ttest-merror:0.252944+0.000751178\n",
      "[76]\ttrain-merror:0.240341+0.000888441\ttest-merror:0.252598+0.000698488\n",
      "[77]\ttrain-merror:0.239915+0.000822141\ttest-merror:0.252266+0.000831343\n",
      "[78]\ttrain-merror:0.239542+0.000875604\ttest-merror:0.251951+0.000890945\n",
      "[79]\ttrain-merror:0.239198+0.000729891\ttest-merror:0.251804+0.000969126\n",
      "[80]\ttrain-merror:0.238698+0.000655268\ttest-merror:0.251522+0.000900561\n",
      "[81]\ttrain-merror:0.23833+0.000712938\ttest-merror:0.251359+0.000907133\n",
      "[82]\ttrain-merror:0.238021+0.000682735\ttest-merror:0.251201+0.000939657\n",
      "[83]\ttrain-merror:0.237685+0.000719931\ttest-merror:0.251022+0.0010792\n",
      "[84]\ttrain-merror:0.237358+0.000734147\ttest-merror:0.250676+0.00139086\n",
      "[85]\ttrain-merror:0.236961+0.00070894\ttest-merror:0.250457+0.0013878\n",
      "[86]\ttrain-merror:0.236697+0.000747912\ttest-merror:0.250346+0.00139179\n",
      "[87]\ttrain-merror:0.236242+0.000718088\ttest-merror:0.25019+0.0013873\n",
      "[88]\ttrain-merror:0.235873+0.000675099\ttest-merror:0.250043+0.00150103\n",
      "[89]\ttrain-merror:0.235463+0.000680401\ttest-merror:0.249921+0.0014431\n",
      "[90]\ttrain-merror:0.235083+0.000633642\ttest-merror:0.249738+0.00149703\n",
      "[91]\ttrain-merror:0.234599+0.000663024\ttest-merror:0.249453+0.00145043\n",
      "[92]\ttrain-merror:0.234254+0.000660603\ttest-merror:0.24927+0.00145936\n",
      "[93]\ttrain-merror:0.234015+0.000684217\ttest-merror:0.249172+0.0014878\n",
      "[94]\ttrain-merror:0.233615+0.000805468\ttest-merror:0.248876+0.0015765\n",
      "[95]\ttrain-merror:0.233293+0.000825131\ttest-merror:0.248716+0.00150691\n",
      "[96]\ttrain-merror:0.232986+0.000822615\ttest-merror:0.248632+0.00132931\n",
      "[97]\ttrain-merror:0.232779+0.000778852\ttest-merror:0.248447+0.00139697\n",
      "[98]\ttrain-merror:0.232504+0.000685478\ttest-merror:0.248345+0.00139078\n",
      "[99]\ttrain-merror:0.232078+0.000684593\ttest-merror:0.247953+0.00115316\n",
      "[100]\ttrain-merror:0.231804+0.000661697\ttest-merror:0.247886+0.00115781\n",
      "[101]\ttrain-merror:0.231424+0.000666278\ttest-merror:0.247572+0.00107834\n",
      "[102]\ttrain-merror:0.231151+0.00058715\ttest-merror:0.247354+0.00101527\n",
      "[103]\ttrain-merror:0.230886+0.00060917\ttest-merror:0.24723+0.000989811\n",
      "[104]\ttrain-merror:0.230538+0.000673881\ttest-merror:0.24723+0.000952395\n",
      "[105]\ttrain-merror:0.230206+0.000703513\ttest-merror:0.246986+0.000976619\n",
      "[106]\ttrain-merror:0.229942+0.000744245\ttest-merror:0.246834+0.000967735\n",
      "[107]\ttrain-merror:0.229672+0.000704329\ttest-merror:0.246735+0.00100374\n",
      "[108]\ttrain-merror:0.229496+0.000765401\ttest-merror:0.246773+0.000894185\n",
      "[109]\ttrain-merror:0.229209+0.000646255\ttest-merror:0.246606+0.000885826\n",
      "[110]\ttrain-merror:0.228774+0.000559206\ttest-merror:0.246307+0.00100645\n",
      "[111]\ttrain-merror:0.228387+0.000589463\ttest-merror:0.246192+0.00094369\n",
      "[112]\ttrain-merror:0.228097+0.000673712\ttest-merror:0.246047+0.000861777\n",
      "[113]\ttrain-merror:0.227765+0.000785251\ttest-merror:0.245875+0.000795377\n",
      "[114]\ttrain-merror:0.227556+0.000739202\ttest-merror:0.245663+0.000886772\n",
      "[115]\ttrain-merror:0.227323+0.000787133\ttest-merror:0.245527+0.000967277\n"
     ]
    },
    {
     "name": "stdout",
     "output_type": "stream",
     "text": [
      "[116]\ttrain-merror:0.226943+0.000726942\ttest-merror:0.245245+0.00112551\n",
      "[117]\ttrain-merror:0.226653+0.000704244\ttest-merror:0.244984+0.00132703\n",
      "[118]\ttrain-merror:0.226394+0.000714719\ttest-merror:0.24486+0.00135522\n",
      "[119]\ttrain-merror:0.226089+0.000778143\ttest-merror:0.244817+0.00138545\n",
      "[120]\ttrain-merror:0.225856+0.000728779\ttest-merror:0.24477+0.00131911\n",
      "[121]\ttrain-merror:0.225431+0.00075995\ttest-merror:0.244512+0.0012952\n",
      "[122]\ttrain-merror:0.22519+0.000610968\ttest-merror:0.244277+0.00134359\n",
      "[123]\ttrain-merror:0.224927+0.000573521\ttest-merror:0.244211+0.00138341\n",
      "[124]\ttrain-merror:0.224661+0.000548995\ttest-merror:0.24415+0.00146601\n",
      "[125]\ttrain-merror:0.224399+0.000507033\ttest-merror:0.244073+0.00147628\n",
      "[126]\ttrain-merror:0.224128+0.000596802\ttest-merror:0.243897+0.00135762\n"
     ]
    },
    {
     "ename": "KeyboardInterrupt",
     "evalue": "",
     "output_type": "error",
     "traceback": [
      "\u001b[1;31m---------------------------------------------------------------------------\u001b[0m",
      "\u001b[1;31mKeyboardInterrupt\u001b[0m                         Traceback (most recent call last)",
      "\u001b[1;32m<ipython-input-30-0ffed9e08891>\u001b[0m in \u001b[0;36m<module>\u001b[1;34m()\u001b[0m\n\u001b[0;32m     10\u001b[0m               \u001b[0mmetrics\u001b[0m \u001b[1;33m=\u001b[0m \u001b[1;34m'merror'\u001b[0m\u001b[1;33m,\u001b[0m\u001b[1;33m\u001b[0m\u001b[0m\n\u001b[0;32m     11\u001b[0m               \u001b[0mearly_stopping_rounds\u001b[0m \u001b[1;33m=\u001b[0m \u001b[1;36m10\u001b[0m\u001b[1;33m,\u001b[0m\u001b[1;33m\u001b[0m\u001b[0m\n\u001b[1;32m---> 12\u001b[1;33m               verbose_eval = 1)\n\u001b[0m",
      "\u001b[1;32mC:\\Users\\tinku dhull\\Anaconda3\\lib\\site-packages\\xgboost\\training.py\u001b[0m in \u001b[0;36mcv\u001b[1;34m(params, dtrain, num_boost_round, nfold, stratified, folds, metrics, obj, feval, maximize, early_stopping_rounds, fpreproc, as_pandas, verbose_eval, show_stdv, seed, callbacks, shuffle)\u001b[0m\n\u001b[0;32m    404\u001b[0m                            evaluation_result_list=None))\n\u001b[0;32m    405\u001b[0m         \u001b[1;32mfor\u001b[0m \u001b[0mfold\u001b[0m \u001b[1;32min\u001b[0m \u001b[0mcvfolds\u001b[0m\u001b[1;33m:\u001b[0m\u001b[1;33m\u001b[0m\u001b[0m\n\u001b[1;32m--> 406\u001b[1;33m             \u001b[0mfold\u001b[0m\u001b[1;33m.\u001b[0m\u001b[0mupdate\u001b[0m\u001b[1;33m(\u001b[0m\u001b[0mi\u001b[0m\u001b[1;33m,\u001b[0m \u001b[0mobj\u001b[0m\u001b[1;33m)\u001b[0m\u001b[1;33m\u001b[0m\u001b[0m\n\u001b[0m\u001b[0;32m    407\u001b[0m         \u001b[0mres\u001b[0m \u001b[1;33m=\u001b[0m \u001b[0maggcv\u001b[0m\u001b[1;33m(\u001b[0m\u001b[1;33m[\u001b[0m\u001b[0mf\u001b[0m\u001b[1;33m.\u001b[0m\u001b[0meval\u001b[0m\u001b[1;33m(\u001b[0m\u001b[0mi\u001b[0m\u001b[1;33m,\u001b[0m \u001b[0mfeval\u001b[0m\u001b[1;33m)\u001b[0m \u001b[1;32mfor\u001b[0m \u001b[0mf\u001b[0m \u001b[1;32min\u001b[0m \u001b[0mcvfolds\u001b[0m\u001b[1;33m]\u001b[0m\u001b[1;33m)\u001b[0m\u001b[1;33m\u001b[0m\u001b[0m\n\u001b[0;32m    408\u001b[0m \u001b[1;33m\u001b[0m\u001b[0m\n",
      "\u001b[1;32mC:\\Users\\tinku dhull\\Anaconda3\\lib\\site-packages\\xgboost\\training.py\u001b[0m in \u001b[0;36mupdate\u001b[1;34m(self, iteration, fobj)\u001b[0m\n\u001b[0;32m    216\u001b[0m     \u001b[1;32mdef\u001b[0m \u001b[0mupdate\u001b[0m\u001b[1;33m(\u001b[0m\u001b[0mself\u001b[0m\u001b[1;33m,\u001b[0m \u001b[0miteration\u001b[0m\u001b[1;33m,\u001b[0m \u001b[0mfobj\u001b[0m\u001b[1;33m)\u001b[0m\u001b[1;33m:\u001b[0m\u001b[1;33m\u001b[0m\u001b[0m\n\u001b[0;32m    217\u001b[0m         \u001b[1;34m\"\"\"\"Update the boosters for one iteration\"\"\"\u001b[0m\u001b[1;33m\u001b[0m\u001b[0m\n\u001b[1;32m--> 218\u001b[1;33m         \u001b[0mself\u001b[0m\u001b[1;33m.\u001b[0m\u001b[0mbst\u001b[0m\u001b[1;33m.\u001b[0m\u001b[0mupdate\u001b[0m\u001b[1;33m(\u001b[0m\u001b[0mself\u001b[0m\u001b[1;33m.\u001b[0m\u001b[0mdtrain\u001b[0m\u001b[1;33m,\u001b[0m \u001b[0miteration\u001b[0m\u001b[1;33m,\u001b[0m \u001b[0mfobj\u001b[0m\u001b[1;33m)\u001b[0m\u001b[1;33m\u001b[0m\u001b[0m\n\u001b[0m\u001b[0;32m    219\u001b[0m \u001b[1;33m\u001b[0m\u001b[0m\n\u001b[0;32m    220\u001b[0m     \u001b[1;32mdef\u001b[0m \u001b[0meval\u001b[0m\u001b[1;33m(\u001b[0m\u001b[0mself\u001b[0m\u001b[1;33m,\u001b[0m \u001b[0miteration\u001b[0m\u001b[1;33m,\u001b[0m \u001b[0mfeval\u001b[0m\u001b[1;33m)\u001b[0m\u001b[1;33m:\u001b[0m\u001b[1;33m\u001b[0m\u001b[0m\n",
      "\u001b[1;32mC:\\Users\\tinku dhull\\Anaconda3\\lib\\site-packages\\xgboost\\core.py\u001b[0m in \u001b[0;36mupdate\u001b[1;34m(self, dtrain, iteration, fobj)\u001b[0m\n\u001b[0;32m    892\u001b[0m         \u001b[1;32mif\u001b[0m \u001b[0mfobj\u001b[0m \u001b[1;32mis\u001b[0m \u001b[1;32mNone\u001b[0m\u001b[1;33m:\u001b[0m\u001b[1;33m\u001b[0m\u001b[0m\n\u001b[0;32m    893\u001b[0m             _check_call(_LIB.XGBoosterUpdateOneIter(self.handle, ctypes.c_int(iteration),\n\u001b[1;32m--> 894\u001b[1;33m                                                     dtrain.handle))\n\u001b[0m\u001b[0;32m    895\u001b[0m         \u001b[1;32melse\u001b[0m\u001b[1;33m:\u001b[0m\u001b[1;33m\u001b[0m\u001b[0m\n\u001b[0;32m    896\u001b[0m             \u001b[0mpred\u001b[0m \u001b[1;33m=\u001b[0m \u001b[0mself\u001b[0m\u001b[1;33m.\u001b[0m\u001b[0mpredict\u001b[0m\u001b[1;33m(\u001b[0m\u001b[0mdtrain\u001b[0m\u001b[1;33m)\u001b[0m\u001b[1;33m\u001b[0m\u001b[0m\n",
      "\u001b[1;31mKeyboardInterrupt\u001b[0m: "
     ]
    }
   ],
   "source": [
    "params = { 'max_depth' : 5,\n",
    "         'eta' : 0.4,\n",
    "         'objective' : 'multi:softmax',\n",
    "         'num_class' : 5,\n",
    "         }\n",
    "cvxgb = xgb.cv(params,\n",
    "              dtrainxgb,\n",
    "              num_boost_round = 200,\n",
    "              nfold = 5,\n",
    "              metrics = 'merror',\n",
    "              early_stopping_rounds = 10,\n",
    "              verbose_eval = 1)"
   ]
  },
  {
   "cell_type": "code",
   "execution_count": null,
   "metadata": {
    "collapsed": true
   },
   "outputs": [],
   "source": []
  }
 ],
 "metadata": {
  "kernelspec": {
   "display_name": "Python 3",
   "language": "python",
   "name": "python3"
  },
  "language_info": {
   "codemirror_mode": {
    "name": "ipython",
    "version": 3
   },
   "file_extension": ".py",
   "mimetype": "text/x-python",
   "name": "python",
   "nbconvert_exporter": "python",
   "pygments_lexer": "ipython3",
   "version": "3.6.1"
  }
 },
 "nbformat": 4,
 "nbformat_minor": 2
}
