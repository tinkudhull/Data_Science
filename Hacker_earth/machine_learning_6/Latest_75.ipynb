{
 "cells": [
  {
   "cell_type": "code",
   "execution_count": 1,
   "metadata": {},
   "outputs": [],
   "source": [
    "import numpy as np\n",
    "import pandas as pd"
   ]
  },
  {
   "cell_type": "code",
   "execution_count": 2,
   "metadata": {},
   "outputs": [],
   "source": [
    "train = pd.read_csv('train.csv')\n",
    "buildingo = pd.read_csv('Building_Ownership_Use.csv')\n",
    "buildingc = pd.read_csv('Building_Structure.csv')\n",
    "test = pd.read_csv('test.csv')"
   ]
  },
  {
   "cell_type": "code",
   "execution_count": 3,
   "metadata": {
    "collapsed": true
   },
   "outputs": [
    {
     "data": {
      "text/plain": [
       "damage_grade  damage_grade\n",
       "Grade 1       Grade 1          61320\n",
       "Grade 2       Grade 2          85084\n",
       "Grade 3       Grade 3         122288\n",
       "Grade 4       Grade 4         152244\n",
       "Grade 5       Grade 5         210825\n",
       "Name: damage_grade, dtype: int64"
      ]
     },
     "execution_count": 3,
     "metadata": {},
     "output_type": "execute_result"
    }
   ],
   "source": [
    "train.groupby(\"damage_grade\")['damage_grade'].value_counts()"
   ]
  },
  {
   "cell_type": "code",
   "execution_count": 4,
   "metadata": {
    "collapsed": true
   },
   "outputs": [
    {
     "name": "stderr",
     "output_type": "stream",
     "text": [
      "/home/tinku/.virtualenvs/cv/lib/python3.5/site-packages/ipykernel_launcher.py:1: FutureWarning: Sorting because non-concatenation axis is not aligned. A future version\n",
      "of pandas will change to not sort by default.\n",
      "\n",
      "To accept the future behavior, pass 'sort=False'.\n",
      "\n",
      "To retain the current behavior and silence the warning, pass 'sort=True'.\n",
      "\n",
      "  \"\"\"Entry point for launching an IPython kernel.\n"
     ]
    }
   ],
   "source": [
    "combin = pd.concat([train, test])"
   ]
  },
  {
   "cell_type": "code",
   "execution_count": 5,
   "metadata": {},
   "outputs": [],
   "source": [
    "combin = pd.merge(left = combin, right = buildingo, on = ['building_id','vdcmun_id', 'district_id'] )"
   ]
  },
  {
   "cell_type": "code",
   "execution_count": 6,
   "metadata": {},
   "outputs": [],
   "source": [
    "combin = pd.merge(left = combin, right = buildingc, on = ['building_id','vdcmun_id', 'district_id', 'ward_id'] )"
   ]
  },
  {
   "cell_type": "code",
   "execution_count": 7,
   "metadata": {},
   "outputs": [],
   "source": [
    "del( buildingo, buildingc)"
   ]
  },
  {
   "cell_type": "code",
   "execution_count": 9,
   "metadata": {},
   "outputs": [
    {
     "data": {
      "text/html": [
       "<div>\n",
       "<style scoped>\n",
       "    .dataframe tbody tr th:only-of-type {\n",
       "        vertical-align: middle;\n",
       "    }\n",
       "\n",
       "    .dataframe tbody tr th {\n",
       "        vertical-align: top;\n",
       "    }\n",
       "\n",
       "    .dataframe thead th {\n",
       "        text-align: right;\n",
       "    }\n",
       "</style>\n",
       "<table border=\"1\" class=\"dataframe\">\n",
       "  <thead>\n",
       "    <tr style=\"text-align: right;\">\n",
       "      <th></th>\n",
       "      <th>Missing</th>\n",
       "    </tr>\n",
       "  </thead>\n",
       "  <tbody>\n",
       "    <tr>\n",
       "      <th>damage_grade</th>\n",
       "      <td>40.000057</td>\n",
       "    </tr>\n",
       "    <tr>\n",
       "      <th>has_repair_started</th>\n",
       "      <td>5.255685</td>\n",
       "    </tr>\n",
       "    <tr>\n",
       "      <th>count_families</th>\n",
       "      <td>0.000095</td>\n",
       "    </tr>\n",
       "  </tbody>\n",
       "</table>\n",
       "</div>"
      ],
      "text/plain": [
       "                      Missing\n",
       "damage_grade        40.000057\n",
       "has_repair_started   5.255685\n",
       "count_families       0.000095"
      ]
     },
     "execution_count": 9,
     "metadata": {},
     "output_type": "execute_result"
    }
   ],
   "source": [
    "combin_na = (combin.isnull().sum()/len(combin))\n",
    "combin_na = combin_na.drop(combin_na[combin_na==0].index).sort_values(ascending = False)*100\n",
    "missing_data = pd.DataFrame({'Missing': combin_na})\n",
    "missing_data"
   ]
  },
  {
   "cell_type": "code",
   "execution_count": 20,
   "metadata": {},
   "outputs": [
    {
     "data": {
      "text/plain": [
       "0.0    682263\n",
       "1.0    315334\n",
       "Name: has_repair_started, dtype: int64"
      ]
     },
     "execution_count": 20,
     "metadata": {},
     "output_type": "execute_result"
    }
   ],
   "source": [
    "combin['has_repair_started'].value_counts()"
   ]
  },
  {
   "cell_type": "code",
   "execution_count": 21,
   "metadata": {},
   "outputs": [
    {
     "data": {
      "text/plain": [
       "1.0     913095\n",
       "0.0      84304\n",
       "2.0      46244\n",
       "3.0       7075\n",
       "4.0       1618\n",
       "5.0        413\n",
       "6.0        128\n",
       "7.0         33\n",
       "8.0         16\n",
       "9.0          8\n",
       "11.0         1\n",
       "Name: count_families, dtype: int64"
      ]
     },
     "execution_count": 21,
     "metadata": {},
     "output_type": "execute_result"
    }
   ],
   "source": [
    "combin['count_families'].value_counts()"
   ]
  },
  {
   "cell_type": "code",
   "execution_count": 22,
   "metadata": {},
   "outputs": [],
   "source": [
    "combin.count_families.fillna(1, inplace = True)\n",
    "combin.has_repair_started.fillna(0, inplace = True)"
   ]
  },
  {
   "cell_type": "code",
   "execution_count": 29,
   "metadata": {},
   "outputs": [
    {
     "data": {
      "text/html": [
       "<div>\n",
       "<style scoped>\n",
       "    .dataframe tbody tr th:only-of-type {\n",
       "        vertical-align: middle;\n",
       "    }\n",
       "\n",
       "    .dataframe tbody tr th {\n",
       "        vertical-align: top;\n",
       "    }\n",
       "\n",
       "    .dataframe thead th {\n",
       "        text-align: right;\n",
       "    }\n",
       "</style>\n",
       "<table border=\"1\" class=\"dataframe\">\n",
       "  <thead>\n",
       "    <tr style=\"text-align: right;\">\n",
       "      <th>area_assesed</th>\n",
       "      <th>Both</th>\n",
       "      <th>Building removed</th>\n",
       "      <th>Exterior</th>\n",
       "      <th>Interior</th>\n",
       "      <th>Not able to inspect</th>\n",
       "    </tr>\n",
       "    <tr>\n",
       "      <th>damage_grade</th>\n",
       "      <th></th>\n",
       "      <th></th>\n",
       "      <th></th>\n",
       "      <th></th>\n",
       "      <th></th>\n",
       "    </tr>\n",
       "  </thead>\n",
       "  <tbody>\n",
       "    <tr>\n",
       "      <th>Grade 1</th>\n",
       "      <td>54020</td>\n",
       "      <td>130</td>\n",
       "      <td>6714</td>\n",
       "      <td>263</td>\n",
       "      <td>193</td>\n",
       "    </tr>\n",
       "    <tr>\n",
       "      <th>Grade 2</th>\n",
       "      <td>77827</td>\n",
       "      <td>175</td>\n",
       "      <td>6680</td>\n",
       "      <td>324</td>\n",
       "      <td>78</td>\n",
       "    </tr>\n",
       "    <tr>\n",
       "      <th>Grade 3</th>\n",
       "      <td>111187</td>\n",
       "      <td>266</td>\n",
       "      <td>10166</td>\n",
       "      <td>503</td>\n",
       "      <td>166</td>\n",
       "    </tr>\n",
       "    <tr>\n",
       "      <th>Grade 4</th>\n",
       "      <td>118108</td>\n",
       "      <td>514</td>\n",
       "      <td>31867</td>\n",
       "      <td>570</td>\n",
       "      <td>1185</td>\n",
       "    </tr>\n",
       "    <tr>\n",
       "      <th>Grade 5</th>\n",
       "      <td>21850</td>\n",
       "      <td>130261</td>\n",
       "      <td>43603</td>\n",
       "      <td>158</td>\n",
       "      <td>14953</td>\n",
       "    </tr>\n",
       "  </tbody>\n",
       "</table>\n",
       "</div>"
      ],
      "text/plain": [
       "area_assesed    Both  Building removed  Exterior  Interior  \\\n",
       "damage_grade                                                 \n",
       "Grade 1        54020               130      6714       263   \n",
       "Grade 2        77827               175      6680       324   \n",
       "Grade 3       111187               266     10166       503   \n",
       "Grade 4       118108               514     31867       570   \n",
       "Grade 5        21850            130261     43603       158   \n",
       "\n",
       "area_assesed  Not able to inspect  \n",
       "damage_grade                       \n",
       "Grade 1                       193  \n",
       "Grade 2                        78  \n",
       "Grade 3                       166  \n",
       "Grade 4                      1185  \n",
       "Grade 5                     14953  "
      ]
     },
     "execution_count": 29,
     "metadata": {},
     "output_type": "execute_result"
    }
   ],
   "source": [
    "combin.area_assesed.unique()\n",
    "pd.crosstab(train['damage_grade'], train['area_assesed']).apply(lambda x: (x/x.sum())*100, axis = 0)\n",
    "combin['area_assesed'].value_counts()\n",
    "combin['area_assesed_count'] = combin.groupby('area_assesed')['area_assesed'].transform('count')"
   ]
  },
  {
   "cell_type": "code",
   "execution_count": 30,
   "metadata": {},
   "outputs": [],
   "source": [
    "combin.drop('building_id', axis = 1, inplace = True)"
   ]
  },
  {
   "cell_type": "code",
   "execution_count": 31,
   "metadata": {},
   "outputs": [],
   "source": [
    "combin['district_id_count'] = combin.groupby('district_id')['district_id'].transform('count')"
   ]
  },
  {
   "cell_type": "code",
   "execution_count": 32,
   "metadata": {},
   "outputs": [],
   "source": [
    "combin['vdcmun_id_count'] = combin.groupby('vdcmun_id')['vdcmun_id'].transform('count')"
   ]
  },
  {
   "cell_type": "code",
   "execution_count": 33,
   "metadata": {},
   "outputs": [],
   "source": [
    "combin['ward_id_count'] = combin.groupby('ward_id')['ward_id'].transform('count')"
   ]
  },
  {
   "cell_type": "code",
   "execution_count": 34,
   "metadata": {},
   "outputs": [],
   "source": [
    "combin['district_vdcmun_count'] = combin.groupby(['district_id', 'vdcmun_id'])['district_id'].transform('count')"
   ]
  },
  {
   "cell_type": "code",
   "execution_count": 35,
   "metadata": {},
   "outputs": [],
   "source": [
    "combin['district_ward_vdc_count'] = combin.groupby(['district_id', 'vdcmun_id', 'ward_id'])['district_id'].transform('count')"
   ]
  },
  {
   "cell_type": "code",
   "execution_count": 36,
   "metadata": {},
   "outputs": [],
   "source": [
    "combin['floor_gap'] = ( combin['count_floors_pre_eq'] - combin['count_floors_post_eq'])\n",
    "combin['height_gap'] = ( combin['height_ft_pre_eq'] - combin['height_ft_post_eq'])"
   ]
  },
  {
   "cell_type": "code",
   "execution_count": 37,
   "metadata": {},
   "outputs": [],
   "source": [
    "combin['land_surface_condition_district'] = combin.groupby(['land_surface_condition', 'district_id'])['district_id'].transform('count')\n",
    "combin['condition_post_district'] = combin.groupby(['condition_post_eq', 'district_id'])['district_id'].transform('count')"
   ]
  },
  {
   "cell_type": "code",
   "execution_count": 38,
   "metadata": {},
   "outputs": [],
   "source": [
    "combin['condition_post_district_vdc_ward'] = combin.groupby(['condition_post_eq', 'district_id', 'vdcmun_id', 'ward_id'])['district_id'].transform('count')"
   ]
  },
  {
   "cell_type": "code",
   "execution_count": 39,
   "metadata": {},
   "outputs": [],
   "source": [
    "combin['area_district'] = combin.groupby(['area_assesed', 'district_id'])['district_id'].transform('count')"
   ]
  },
  {
   "cell_type": "code",
   "execution_count": 40,
   "metadata": {},
   "outputs": [],
   "source": [
    "combin['area_district_vdc_ward'] = combin.groupby(['area_assesed', 'district_id', 'vdcmun_id', 'ward_id'])['district_id'].transform('count')"
   ]
  },
  {
   "cell_type": "code",
   "execution_count": 47,
   "metadata": {},
   "outputs": [],
   "source": [
    "#combin = combin.drop(['district_id'], axis = 1)\n",
    "combin['district_id'] = combin['district_id'].astype('category')"
   ]
  },
  {
   "cell_type": "code",
   "execution_count": 45,
   "metadata": {},
   "outputs": [],
   "source": [
    "combin = combin.drop(['vdcmun_id'], axis = 1)"
   ]
  },
  {
   "cell_type": "code",
   "execution_count": 46,
   "metadata": {},
   "outputs": [],
   "source": [
    "combin = combin.drop(['ward_id'], axis = 1)"
   ]
  },
  {
   "cell_type": "code",
   "execution_count": 48,
   "metadata": {},
   "outputs": [],
   "source": [
    "train2 = combin[combin.damage_grade.isnull() == False]\n",
    "test2 = combin[combin.damage_grade.isnull() == True]\n",
    "del(combin)"
   ]
  },
  {
   "cell_type": "code",
   "execution_count": 49,
   "metadata": {},
   "outputs": [],
   "source": [
    "test2 = test2.drop(['damage_grade'], axis = 1)"
   ]
  },
  {
   "cell_type": "code",
   "execution_count": 50,
   "metadata": {},
   "outputs": [],
   "source": [
    "X = train2.drop(['damage_grade'], axis = 1)\n",
    "X = pd.get_dummies(X, drop_first=True)\n",
    "test2 = pd.get_dummies(test2, drop_first=True)\n",
    "y = train2['damage_grade']"
   ]
  },
  {
   "cell_type": "code",
   "execution_count": 51,
   "metadata": {},
   "outputs": [],
   "source": [
    "from sklearn.model_selection import train_test_split\n",
    "X_train, X_test, y_train, y_test = train_test_split(X, y, test_size=0.3, random_state=5)"
   ]
  },
  {
   "cell_type": "code",
   "execution_count": 52,
   "metadata": {},
   "outputs": [],
   "source": [
    "from sklearn.preprocessing import LabelEncoder\n",
    "le = LabelEncoder()\n",
    "le.fit(y_train)\n",
    "y_train = le.transform(y_train)"
   ]
  },
  {
   "cell_type": "code",
   "execution_count": 54,
   "metadata": {},
   "outputs": [
    {
     "name": "stdout",
     "output_type": "stream",
     "text": [
      "[5]\tcv_agg's multi_error: 0.272368 + 0.000660517\n",
      "[10]\tcv_agg's multi_error: 0.267109 + 0.000567317\n",
      "[15]\tcv_agg's multi_error: 0.263111 + 0.000630247\n",
      "[20]\tcv_agg's multi_error: 0.259321 + 0.000329886\n",
      "[25]\tcv_agg's multi_error: 0.255536 + 0.000392543\n",
      "[30]\tcv_agg's multi_error: 0.252772 + 0.0002861\n",
      "[35]\tcv_agg's multi_error: 0.250516 + 0.00023811\n",
      "[40]\tcv_agg's multi_error: 0.248571 + 0.00032078\n",
      "[45]\tcv_agg's multi_error: 0.246703 + 0.000405065\n",
      "[50]\tcv_agg's multi_error: 0.245344 + 0.000383403\n",
      "[55]\tcv_agg's multi_error: 0.244089 + 0.000371928\n",
      "[60]\tcv_agg's multi_error: 0.243033 + 0.00032804\n",
      "[65]\tcv_agg's multi_error: 0.242092 + 0.000610943\n",
      "[70]\tcv_agg's multi_error: 0.241285 + 0.000538297\n",
      "[75]\tcv_agg's multi_error: 0.240268 + 0.000273724\n",
      "[80]\tcv_agg's multi_error: 0.24006 + 0.000582104\n",
      "[85]\tcv_agg's multi_error: 0.238927 + 0.000373144\n",
      "[90]\tcv_agg's multi_error: 0.238384 + 0.000140842\n",
      "[95]\tcv_agg's multi_error: 0.237769 + 0.000308771\n",
      "[100]\tcv_agg's multi_error: 0.237029 + 0.000210028\n",
      "[105]\tcv_agg's multi_error: 0.236475 + 0.000263184\n",
      "[110]\tcv_agg's multi_error: 0.235958 + 0.000332839\n",
      "[115]\tcv_agg's multi_error: 0.235456 + 0.000106603\n",
      "[120]\tcv_agg's multi_error: 0.235069 + 0.000320762\n",
      "[125]\tcv_agg's multi_error: 0.234547 + 0.000229363\n",
      "[130]\tcv_agg's multi_error: 0.234078 + 6.91448e-05\n",
      "[135]\tcv_agg's multi_error: 0.233735 + 7.35515e-05\n",
      "[140]\tcv_agg's multi_error: 0.233371 + 1.92266e-05\n",
      "[145]\tcv_agg's multi_error: 0.23312 + 5.73371e-05\n",
      "[150]\tcv_agg's multi_error: 0.232769 + 0.00019857\n",
      "[155]\tcv_agg's multi_error: 0.232412 + 0.000170633\n",
      "[160]\tcv_agg's multi_error: 0.232136 + 0.000172408\n",
      "[165]\tcv_agg's multi_error: 0.231881 + 0.000381051\n",
      "[170]\tcv_agg's multi_error: 0.231505 + 0.000440969\n",
      "[175]\tcv_agg's multi_error: 0.231198 + 0.000442051\n",
      "[180]\tcv_agg's multi_error: 0.231019 + 0.000353153\n",
      "[185]\tcv_agg's multi_error: 0.230786 + 0.000439461\n",
      "[190]\tcv_agg's multi_error: 0.230594 + 0.000354616\n",
      "[195]\tcv_agg's multi_error: 0.230255 + 0.000198368\n",
      "[200]\tcv_agg's multi_error: 0.230142 + 0.00020571\n",
      "[205]\tcv_agg's multi_error: 0.229997 + 0.000254389\n",
      "[210]\tcv_agg's multi_error: 0.229827 + 0.000177177\n",
      "[215]\tcv_agg's multi_error: 0.229384 + 0.000250876\n",
      "[220]\tcv_agg's multi_error: 0.229246 + 0.000183511\n",
      "[225]\tcv_agg's multi_error: 0.228995 + 0.000280952\n",
      "[230]\tcv_agg's multi_error: 0.22886 + 0.000430489\n",
      "[235]\tcv_agg's multi_error: 0.228755 + 0.000390893\n",
      "[240]\tcv_agg's multi_error: 0.228597 + 0.000319179\n",
      "[245]\tcv_agg's multi_error: 0.228414 + 0.000361918\n",
      "[250]\tcv_agg's multi_error: 0.228177 + 0.000309926\n",
      "[255]\tcv_agg's multi_error: 0.228023 + 0.000308057\n",
      "[260]\tcv_agg's multi_error: 0.227998 + 0.000366671\n",
      "[265]\tcv_agg's multi_error: 0.22791 + 0.000497628\n",
      "[270]\tcv_agg's multi_error: 0.227831 + 0.000440973\n",
      "[275]\tcv_agg's multi_error: 0.227627 + 0.000569941\n",
      "[280]\tcv_agg's multi_error: 0.227462 + 0.000647178\n",
      "[285]\tcv_agg's multi_error: 0.227166 + 0.000726515\n",
      "[290]\tcv_agg's multi_error: 0.227032 + 0.000741226\n",
      "[295]\tcv_agg's multi_error: 0.226836 + 0.000743739\n",
      "[300]\tcv_agg's multi_error: 0.226831 + 0.000784902\n",
      "[305]\tcv_agg's multi_error: 0.226818 + 0.000781987\n",
      "[310]\tcv_agg's multi_error: 0.226578 + 0.000707184\n",
      "[315]\tcv_agg's multi_error: 0.226311 + 0.000779169\n",
      "[320]\tcv_agg's multi_error: 0.226322 + 0.00099468\n",
      "[325]\tcv_agg's multi_error: 0.226117 + 0.00102382\n",
      "[330]\tcv_agg's multi_error: 0.226006 + 0.000936233\n",
      "[335]\tcv_agg's multi_error: 0.225881 + 0.000962967\n",
      "[340]\tcv_agg's multi_error: 0.225868 + 0.000960619\n",
      "[345]\tcv_agg's multi_error: 0.225768 + 0.000945745\n",
      "[350]\tcv_agg's multi_error: 0.225621 + 0.00111368\n",
      "[355]\tcv_agg's multi_error: 0.225334 + 0.00109735\n",
      "[360]\tcv_agg's multi_error: 0.225339 + 0.00111906\n",
      "[365]\tcv_agg's multi_error: 0.225217 + 0.00106702\n",
      "[370]\tcv_agg's multi_error: 0.225246 + 0.000931684\n",
      "[375]\tcv_agg's multi_error: 0.225009 + 0.000842634\n",
      "[380]\tcv_agg's multi_error: 0.224896 + 0.000869577\n",
      "[385]\tcv_agg's multi_error: 0.224857 + 0.00103213\n",
      "[390]\tcv_agg's multi_error: 0.224801 + 0.00108256\n",
      "[395]\tcv_agg's multi_error: 0.224812 + 0.00103062\n",
      "[400]\tcv_agg's multi_error: 0.224753 + 0.000938206\n",
      "[405]\tcv_agg's multi_error: 0.22464 + 0.000880373\n",
      "[410]\tcv_agg's multi_error: 0.224547 + 0.000906556\n",
      "[415]\tcv_agg's multi_error: 0.224473 + 0.000899627\n",
      "[420]\tcv_agg's multi_error: 0.224455 + 0.000838273\n",
      "[425]\tcv_agg's multi_error: 0.224421 + 0.00088146\n",
      "[430]\tcv_agg's multi_error: 0.224267 + 0.000816606\n",
      "[435]\tcv_agg's multi_error: 0.22417 + 0.000759305\n",
      "[440]\tcv_agg's multi_error: 0.224111 + 0.000837414\n",
      "[445]\tcv_agg's multi_error: 0.224118 + 0.000931878\n",
      "[450]\tcv_agg's multi_error: 0.224104 + 0.000823163\n",
      "[455]\tcv_agg's multi_error: 0.224072 + 0.000746146\n",
      "[460]\tcv_agg's multi_error: 0.224014 + 0.000780512\n",
      "[465]\tcv_agg's multi_error: 0.223876 + 0.00077879\n",
      "[470]\tcv_agg's multi_error: 0.223878 + 0.000778951\n",
      "[475]\tcv_agg's multi_error: 0.223919 + 0.000806708\n",
      "[480]\tcv_agg's multi_error: 0.223892 + 0.000769202\n",
      "[485]\tcv_agg's multi_error: 0.22391 + 0.000845067\n"
     ]
    }
   ],
   "source": [
    "import lightgbm as lgb\n",
    "dtrainlgb = lgb.Dataset(data = X_train, label = y_train)\n",
    "params = {'objective': 'softmax',\n",
    "         'learning_rate' : 0.2,\n",
    "          'num_class' : 5,\n",
    "          'num_leaves' : 60}\n",
    "cv_results = lgb.cv(params,\n",
    "                    dtrainlgb,\n",
    "                    num_boost_round = 1000,\n",
    "                    nfold = 3,\n",
    "                    metrics = 'multi_error',\n",
    "                    early_stopping_rounds = 20,\n",
    "                    verbose_eval = 5)           #600 iterations"
   ]
  },
  {
   "cell_type": "code",
   "execution_count": 55,
   "metadata": {},
   "outputs": [],
   "source": [
    "lgb_model = lgb.train(params,\n",
    "                     dtrainlgb,\n",
    "                     num_boost_round = 465,\n",
    "                     verbose_eval = True)"
   ]
  },
  {
   "cell_type": "code",
   "execution_count": 57,
   "metadata": {
    "collapsed": true
   },
   "outputs": [
    {
     "data": {
      "image/png": "[encoded data removed]",
      "text/plain": [
       "<Figure size 864x648 with 1 Axes>"
      ]
     },
     "metadata": {},
     "output_type": "display_data"
    }
   ],
   "source": [
    "import matplotlib.pyplot as plt\n",
    "a = lgb.plot_importance(lgb_model, max_num_features=20, height=.2, figsize=(12,9))\n",
    "plt.show()"
   ]
  },
  {
   "cell_type": "code",
   "execution_count": 58,
   "metadata": {},
   "outputs": [],
   "source": [
    "lgb_pred = lgb_model.predict(X_test)"
   ]
  },
  {
   "cell_type": "code",
   "execution_count": 59,
   "metadata": {},
   "outputs": [],
   "source": [
    "dataf = pd.DataFrame(lgb_pred)"
   ]
  },
  {
   "cell_type": "code",
   "execution_count": 60,
   "metadata": {},
   "outputs": [
    {
     "data": {
      "text/html": [
       "<div>\n",
       "<style scoped>\n",
       "    .dataframe tbody tr th:only-of-type {\n",
       "        vertical-align: middle;\n",
       "    }\n",
       "\n",
       "    .dataframe tbody tr th {\n",
       "        vertical-align: top;\n",
       "    }\n",
       "\n",
       "    .dataframe thead th {\n",
       "        text-align: right;\n",
       "    }\n",
       "</style>\n",
       "<table border=\"1\" class=\"dataframe\">\n",
       "  <thead>\n",
       "    <tr style=\"text-align: right;\">\n",
       "      <th></th>\n",
       "      <th>0</th>\n",
       "      <th>1</th>\n",
       "      <th>2</th>\n",
       "      <th>3</th>\n",
       "      <th>4</th>\n",
       "    </tr>\n",
       "  </thead>\n",
       "  <tbody>\n",
       "    <tr>\n",
       "      <th>0</th>\n",
       "      <td>3.603146e-11</td>\n",
       "      <td>3.481566e-11</td>\n",
       "      <td>9.835219e-10</td>\n",
       "      <td>1.889250e-08</td>\n",
       "      <td>1.000000e+00</td>\n",
       "    </tr>\n",
       "    <tr>\n",
       "      <th>1</th>\n",
       "      <td>2.716278e-02</td>\n",
       "      <td>1.284750e-01</td>\n",
       "      <td>4.247448e-01</td>\n",
       "      <td>4.194176e-01</td>\n",
       "      <td>1.997881e-04</td>\n",
       "    </tr>\n",
       "    <tr>\n",
       "      <th>2</th>\n",
       "      <td>5.786328e-03</td>\n",
       "      <td>1.124318e-01</td>\n",
       "      <td>7.076788e-01</td>\n",
       "      <td>1.733142e-01</td>\n",
       "      <td>7.889515e-04</td>\n",
       "    </tr>\n",
       "    <tr>\n",
       "      <th>3</th>\n",
       "      <td>1.277268e-09</td>\n",
       "      <td>1.251337e-09</td>\n",
       "      <td>3.121074e-08</td>\n",
       "      <td>9.056234e-07</td>\n",
       "      <td>9.999991e-01</td>\n",
       "    </tr>\n",
       "    <tr>\n",
       "      <th>4</th>\n",
       "      <td>9.999680e-01</td>\n",
       "      <td>2.622361e-05</td>\n",
       "      <td>2.778358e-06</td>\n",
       "      <td>3.024974e-06</td>\n",
       "      <td>1.365941e-08</td>\n",
       "    </tr>\n",
       "  </tbody>\n",
       "</table>\n",
       "</div>"
      ],
      "text/plain": [
       "              0             1             2             3             4\n",
       "0  3.603146e-11  3.481566e-11  9.835219e-10  1.889250e-08  1.000000e+00\n",
       "1  2.716278e-02  1.284750e-01  4.247448e-01  4.194176e-01  1.997881e-04\n",
       "2  5.786328e-03  1.124318e-01  7.076788e-01  1.733142e-01  7.889515e-04\n",
       "3  1.277268e-09  1.251337e-09  3.121074e-08  9.056234e-07  9.999991e-01\n",
       "4  9.999680e-01  2.622361e-05  2.778358e-06  3.024974e-06  1.365941e-08"
      ]
     },
     "execution_count": 60,
     "metadata": {},
     "output_type": "execute_result"
    }
   ],
   "source": [
    "dataf.head()"
   ]
  },
  {
   "cell_type": "code",
   "execution_count": 61,
   "metadata": {},
   "outputs": [],
   "source": [
    "dataf['max_col'] = dataf.idxmax(axis=1)"
   ]
  },
  {
   "cell_type": "code",
   "execution_count": 64,
   "metadata": {},
   "outputs": [
    {
     "data": {
      "text/html": [
       "<div>\n",
       "<style scoped>\n",
       "    .dataframe tbody tr th:only-of-type {\n",
       "        vertical-align: middle;\n",
       "    }\n",
       "\n",
       "    .dataframe tbody tr th {\n",
       "        vertical-align: top;\n",
       "    }\n",
       "\n",
       "    .dataframe thead th {\n",
       "        text-align: right;\n",
       "    }\n",
       "</style>\n",
       "<table border=\"1\" class=\"dataframe\">\n",
       "  <thead>\n",
       "    <tr style=\"text-align: right;\">\n",
       "      <th></th>\n",
       "      <th>0</th>\n",
       "      <th>1</th>\n",
       "      <th>2</th>\n",
       "      <th>3</th>\n",
       "      <th>4</th>\n",
       "      <th>max_col</th>\n",
       "      <th>class</th>\n",
       "    </tr>\n",
       "  </thead>\n",
       "  <tbody>\n",
       "    <tr>\n",
       "      <th>0</th>\n",
       "      <td>3.603146e-11</td>\n",
       "      <td>3.481566e-11</td>\n",
       "      <td>9.835219e-10</td>\n",
       "      <td>1.889250e-08</td>\n",
       "      <td>1.000000e+00</td>\n",
       "      <td>4</td>\n",
       "      <td>Grade 5</td>\n",
       "    </tr>\n",
       "    <tr>\n",
       "      <th>1</th>\n",
       "      <td>2.716278e-02</td>\n",
       "      <td>1.284750e-01</td>\n",
       "      <td>4.247448e-01</td>\n",
       "      <td>4.194176e-01</td>\n",
       "      <td>1.997881e-04</td>\n",
       "      <td>2</td>\n",
       "      <td>Grade 3</td>\n",
       "    </tr>\n",
       "    <tr>\n",
       "      <th>2</th>\n",
       "      <td>5.786328e-03</td>\n",
       "      <td>1.124318e-01</td>\n",
       "      <td>7.076788e-01</td>\n",
       "      <td>1.733142e-01</td>\n",
       "      <td>7.889515e-04</td>\n",
       "      <td>2</td>\n",
       "      <td>Grade 3</td>\n",
       "    </tr>\n",
       "    <tr>\n",
       "      <th>3</th>\n",
       "      <td>1.277268e-09</td>\n",
       "      <td>1.251337e-09</td>\n",
       "      <td>3.121074e-08</td>\n",
       "      <td>9.056234e-07</td>\n",
       "      <td>9.999991e-01</td>\n",
       "      <td>4</td>\n",
       "      <td>Grade 5</td>\n",
       "    </tr>\n",
       "    <tr>\n",
       "      <th>4</th>\n",
       "      <td>9.999680e-01</td>\n",
       "      <td>2.622361e-05</td>\n",
       "      <td>2.778358e-06</td>\n",
       "      <td>3.024974e-06</td>\n",
       "      <td>1.365941e-08</td>\n",
       "      <td>0</td>\n",
       "      <td>Grade 1</td>\n",
       "    </tr>\n",
       "  </tbody>\n",
       "</table>\n",
       "</div>"
      ],
      "text/plain": [
       "              0             1             2             3             4  \\\n",
       "0  3.603146e-11  3.481566e-11  9.835219e-10  1.889250e-08  1.000000e+00   \n",
       "1  2.716278e-02  1.284750e-01  4.247448e-01  4.194176e-01  1.997881e-04   \n",
       "2  5.786328e-03  1.124318e-01  7.076788e-01  1.733142e-01  7.889515e-04   \n",
       "3  1.277268e-09  1.251337e-09  3.121074e-08  9.056234e-07  9.999991e-01   \n",
       "4  9.999680e-01  2.622361e-05  2.778358e-06  3.024974e-06  1.365941e-08   \n",
       "\n",
       "   max_col    class  \n",
       "0        4  Grade 5  \n",
       "1        2  Grade 3  \n",
       "2        2  Grade 3  \n",
       "3        4  Grade 5  \n",
       "4        0  Grade 1  "
      ]
     },
     "execution_count": 64,
     "metadata": {},
     "output_type": "execute_result"
    }
   ],
   "source": [
    "dataf.head()"
   ]
  },
  {
   "cell_type": "code",
   "execution_count": 63,
   "metadata": {},
   "outputs": [],
   "source": [
    "dataf['class'] = 'Grade 1'\n",
    "dataf.loc[dataf['max_col'] == 1, 'class'] = 'Grade 2'\n",
    "dataf.loc[dataf['max_col'] == 2, 'class'] = 'Grade 3'\n",
    "dataf.loc[dataf['max_col'] == 3, 'class'] = 'Grade 4'\n",
    "dataf.loc[dataf['max_col'] == 4, 'class'] = 'Grade 5'"
   ]
  },
  {
   "cell_type": "code",
   "execution_count": 65,
   "metadata": {},
   "outputs": [],
   "source": [
    "from sklearn.metrics import f1_score\n",
    "accu = f1_score(y_test, dataf['class'], average='weighted')"
   ]
  },
  {
   "cell_type": "code",
   "execution_count": 66,
   "metadata": {},
   "outputs": [
    {
     "data": {
      "text/plain": [
       "0.7801319428295673"
      ]
     },
     "execution_count": 66,
     "metadata": {},
     "output_type": "execute_result"
    }
   ],
   "source": [
    "accu"
   ]
  },
  {
   "cell_type": "code",
   "execution_count": 67,
   "metadata": {},
   "outputs": [],
   "source": [
    "submit = lgb_model.predict(test2)\n"
   ]
  },
  {
   "cell_type": "code",
   "execution_count": 68,
   "metadata": {},
   "outputs": [],
   "source": [
    "submit2 = pd.DataFrame(submit)"
   ]
  },
  {
   "cell_type": "code",
   "execution_count": 69,
   "metadata": {},
   "outputs": [],
   "source": [
    "submit2.head()\n",
    "submit2['max_col'] = submit2.idxmax(axis=1)"
   ]
  },
  {
   "cell_type": "code",
   "execution_count": 70,
   "metadata": {},
   "outputs": [],
   "source": [
    "submit2['class'] = 'Grade 1'\n",
    "submit2.loc[submit2['max_col'] == 1, 'class'] = 'Grade 2'\n",
    "submit2.loc[submit2['max_col'] == 2, 'class'] = 'Grade 3'\n",
    "submit2.loc[submit2['max_col'] == 3, 'class'] = 'Grade 4'\n",
    "submit2.loc[submit2['max_col'] == 4, 'class'] = 'Grade 5'"
   ]
  },
  {
   "cell_type": "code",
   "execution_count": 71,
   "metadata": {},
   "outputs": [],
   "source": [
    "output = pd.DataFrame({'building_id': test.building_id, 'damage_grade' : submit2['class']})\n",
    "output.to_csv('output.csv', index=False)"
   ]
  }
 ],
 "metadata": {
  "kernelspec": {
   "display_name": "Python 3",
   "language": "python",
   "name": "python3"
  },
  "language_info": {
   "codemirror_mode": {
    "name": "ipython",
    "version": 3
   },
   "file_extension": ".py",
   "mimetype": "text/x-python",
   "name": "python",
   "nbconvert_exporter": "python",
   "pygments_lexer": "ipython3",
   "version": "3.5.2"
  }
 },
 "nbformat": 4,
 "nbformat_minor": 2
}
