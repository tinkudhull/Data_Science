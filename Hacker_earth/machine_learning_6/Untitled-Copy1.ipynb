{
 "cells": [
  {
   "cell_type": "code",
   "execution_count": 1,
   "metadata": {},
   "outputs": [],
   "source": [
    "import numpy as np\n",
    "import pandas as pd"
   ]
  },
  {
   "cell_type": "code",
   "execution_count": 2,
   "metadata": {},
   "outputs": [],
   "source": [
    "train = pd.read_csv('train.csv')\n",
    "buildingo = pd.read_csv('Building_Ownership_Use.csv')\n",
    "buildingc = pd.read_csv('Building_Structure.csv')\n",
    "test = pd.read_csv('test.csv')"
   ]
  },
  {
   "cell_type": "code",
   "execution_count": 3,
   "metadata": {},
   "outputs": [
    {
     "data": {
      "text/plain": [
       "damage_grade  damage_grade\n",
       "Grade 1       Grade 1          61320\n",
       "Grade 2       Grade 2          85084\n",
       "Grade 3       Grade 3         122288\n",
       "Grade 4       Grade 4         152244\n",
       "Grade 5       Grade 5         210825\n",
       "Name: damage_grade, dtype: int64"
      ]
     },
     "execution_count": 3,
     "metadata": {},
     "output_type": "execute_result"
    }
   ],
   "source": [
    "train.groupby(\"damage_grade\")['damage_grade'].value_counts()"
   ]
  },
  {
   "cell_type": "code",
   "execution_count": 4,
   "metadata": {},
   "outputs": [
    {
     "name": "stderr",
     "output_type": "stream",
     "text": [
      "/home/tinku/.virtualenvs/cv/lib/python3.5/site-packages/ipykernel_launcher.py:1: FutureWarning: Sorting because non-concatenation axis is not aligned. A future version\n",
      "of pandas will change to not sort by default.\n",
      "\n",
      "To accept the future behavior, pass 'sort=False'.\n",
      "\n",
      "To retain the current behavior and silence the warning, pass 'sort=True'.\n",
      "\n",
      "  \"\"\"Entry point for launching an IPython kernel.\n"
     ]
    }
   ],
   "source": [
    "combin = pd.concat([train, test])"
   ]
  },
  {
   "cell_type": "code",
   "execution_count": 5,
   "metadata": {},
   "outputs": [],
   "source": [
    "combin = pd.merge(left = combin, right = buildingo, on = ['building_id','vdcmun_id', 'district_id'] )"
   ]
  },
  {
   "cell_type": "code",
   "execution_count": 6,
   "metadata": {},
   "outputs": [],
   "source": [
    "combin = pd.merge(left = combin, right = buildingc, on = ['building_id','vdcmun_id', 'district_id', 'ward_id'] )"
   ]
  },
  {
   "cell_type": "code",
   "execution_count": 7,
   "metadata": {},
   "outputs": [],
   "source": [
    "del( buildingo, buildingc)"
   ]
  },
  {
   "cell_type": "code",
   "execution_count": 8,
   "metadata": {},
   "outputs": [
    {
     "data": {
      "text/html": [
       "<div>\n",
       "<style scoped>\n",
       "    .dataframe tbody tr th:only-of-type {\n",
       "        vertical-align: middle;\n",
       "    }\n",
       "\n",
       "    .dataframe tbody tr th {\n",
       "        vertical-align: top;\n",
       "    }\n",
       "\n",
       "    .dataframe thead th {\n",
       "        text-align: right;\n",
       "    }\n",
       "</style>\n",
       "<table border=\"1\" class=\"dataframe\">\n",
       "  <thead>\n",
       "    <tr style=\"text-align: right;\">\n",
       "      <th></th>\n",
       "      <th>Missing</th>\n",
       "    </tr>\n",
       "  </thead>\n",
       "  <tbody>\n",
       "    <tr>\n",
       "      <th>damage_grade</th>\n",
       "      <td>4.000006e-01</td>\n",
       "    </tr>\n",
       "    <tr>\n",
       "      <th>has_repair_started</th>\n",
       "      <td>5.255685e-02</td>\n",
       "    </tr>\n",
       "    <tr>\n",
       "      <th>count_families</th>\n",
       "      <td>9.497253e-07</td>\n",
       "    </tr>\n",
       "  </tbody>\n",
       "</table>\n",
       "</div>"
      ],
      "text/plain": [
       "                         Missing\n",
       "damage_grade        4.000006e-01\n",
       "has_repair_started  5.255685e-02\n",
       "count_families      9.497253e-07"
      ]
     },
     "execution_count": 8,
     "metadata": {},
     "output_type": "execute_result"
    }
   ],
   "source": [
    "combin_na = (combin.isnull().sum()/len(combin))\n",
    "combin_na = combin_na.drop(combin_na[combin_na==0].index).sort_values(ascending = False)\n",
    "missing_data = pd.DataFrame({'Missing': combin_na})\n",
    "missing_data"
   ]
  },
  {
   "cell_type": "code",
   "execution_count": 9,
   "metadata": {},
   "outputs": [
    {
     "data": {
      "text/plain": [
       "has_repair_started  has_repair_started\n",
       "0.0                 0.0                   682263\n",
       "1.0                 1.0                   315334\n",
       "Name: has_repair_started, dtype: int64"
      ]
     },
     "execution_count": 9,
     "metadata": {},
     "output_type": "execute_result"
    }
   ],
   "source": [
    "combin.groupby('has_repair_started')['has_repair_started'].value_counts()"
   ]
  },
  {
   "cell_type": "code",
   "execution_count": 10,
   "metadata": {},
   "outputs": [
    {
     "data": {
      "text/plain": [
       "count_families  count_families\n",
       "0.0             0.0                84304\n",
       "1.0             1.0               913095\n",
       "2.0             2.0                46244\n",
       "3.0             3.0                 7075\n",
       "4.0             4.0                 1618\n",
       "5.0             5.0                  413\n",
       "6.0             6.0                  128\n",
       "7.0             7.0                   33\n",
       "8.0             8.0                   16\n",
       "9.0             9.0                    8\n",
       "11.0            11.0                   1\n",
       "Name: count_families, dtype: int64"
      ]
     },
     "execution_count": 10,
     "metadata": {},
     "output_type": "execute_result"
    }
   ],
   "source": [
    "combin.groupby('count_families')['count_families'].value_counts()"
   ]
  },
  {
   "cell_type": "code",
   "execution_count": 11,
   "metadata": {},
   "outputs": [],
   "source": [
    "combin.count_families.fillna(1, inplace = True)\n",
    "combin.has_repair_started.fillna(0, inplace = True)"
   ]
  },
  {
   "cell_type": "code",
   "execution_count": 12,
   "metadata": {},
   "outputs": [
    {
     "data": {
      "text/plain": [
       "area_assesed                               object\n",
       "building_id                                object\n",
       "damage_grade                               object\n",
       "district_id                                 int64\n",
       "has_geotechnical_risk                     float64\n",
       "has_geotechnical_risk_fault_crack           int64\n",
       "has_geotechnical_risk_flood                 int64\n",
       "has_geotechnical_risk_land_settlement       int64\n",
       "has_geotechnical_risk_landslide             int64\n",
       "has_geotechnical_risk_liquefaction          int64\n",
       "has_geotechnical_risk_other                 int64\n",
       "has_geotechnical_risk_rock_fall             int64\n",
       "has_repair_started                        float64\n",
       "vdcmun_id                                   int64\n",
       "ward_id                                     int64\n",
       "legal_ownership_status                     object\n",
       "count_families                            float64\n",
       "has_secondary_use                         float64\n",
       "has_secondary_use_agriculture               int64\n",
       "has_secondary_use_hotel                     int64\n",
       "has_secondary_use_rental                    int64\n",
       "has_secondary_use_institution               int64\n",
       "has_secondary_use_school                    int64\n",
       "has_secondary_use_industry                  int64\n",
       "has_secondary_use_health_post               int64\n",
       "has_secondary_use_gov_office                int64\n",
       "has_secondary_use_use_police                int64\n",
       "has_secondary_use_other                     int64\n",
       "count_floors_pre_eq                         int64\n",
       "count_floors_post_eq                        int64\n",
       "age_building                                int64\n",
       "plinth_area_sq_ft                           int64\n",
       "height_ft_pre_eq                            int64\n",
       "height_ft_post_eq                           int64\n",
       "land_surface_condition                     object\n",
       "foundation_type                            object\n",
       "roof_type                                  object\n",
       "ground_floor_type                          object\n",
       "other_floor_type                           object\n",
       "position                                   object\n",
       "plan_configuration                         object\n",
       "has_superstructure_adobe_mud                int64\n",
       "has_superstructure_mud_mortar_stone         int64\n",
       "has_superstructure_stone_flag               int64\n",
       "has_superstructure_cement_mortar_stone      int64\n",
       "has_superstructure_mud_mortar_brick         int64\n",
       "has_superstructure_cement_mortar_brick      int64\n",
       "has_superstructure_timber                   int64\n",
       "has_superstructure_bamboo                   int64\n",
       "has_superstructure_rc_non_engineered        int64\n",
       "has_superstructure_rc_engineered            int64\n",
       "has_superstructure_other                    int64\n",
       "condition_post_eq                          object\n",
       "dtype: object"
      ]
     },
     "execution_count": 12,
     "metadata": {},
     "output_type": "execute_result"
    }
   ],
   "source": [
    "combin.dtypes"
   ]
  },
  {
   "cell_type": "code",
   "execution_count": 13,
   "metadata": {},
   "outputs": [],
   "source": [
    "combin.area_assesed.unique()\n",
    "pd.crosstab(train['damage_grade'], train['area_assesed']).apply(lambda x: (x/x.sum())*100, axis = 0)\n",
    "#combin.groupby('area_assesed')['area_assesed'].value_counts()\n",
    "combin['area_assesed_count'] = combin.groupby('area_assesed')['area_assesed'].transform('count')"
   ]
  },
  {
   "cell_type": "code",
   "execution_count": 14,
   "metadata": {},
   "outputs": [],
   "source": [
    "combin.drop('building_id', axis = 1, inplace = True)"
   ]
  },
  {
   "cell_type": "code",
   "execution_count": 15,
   "metadata": {},
   "outputs": [],
   "source": [
    "combin['district_id_count'] = combin.groupby('district_id')['district_id'].transform('count')"
   ]
  },
  {
   "cell_type": "code",
   "execution_count": 16,
   "metadata": {},
   "outputs": [],
   "source": [
    "combin['vdcmun_id_count'] = combin.groupby('vdcmun_id')['vdcmun_id'].transform('count')"
   ]
  },
  {
   "cell_type": "code",
   "execution_count": 17,
   "metadata": {},
   "outputs": [],
   "source": [
    "combin['ward_id_count'] = combin.groupby('ward_id')['ward_id'].transform('count')"
   ]
  },
  {
   "cell_type": "code",
   "execution_count": 18,
   "metadata": {},
   "outputs": [
    {
     "data": {
      "text/html": [
       "<div>\n",
       "<style scoped>\n",
       "    .dataframe tbody tr th:only-of-type {\n",
       "        vertical-align: middle;\n",
       "    }\n",
       "\n",
       "    .dataframe tbody tr th {\n",
       "        vertical-align: top;\n",
       "    }\n",
       "\n",
       "    .dataframe thead th {\n",
       "        text-align: right;\n",
       "    }\n",
       "</style>\n",
       "<table border=\"1\" class=\"dataframe\">\n",
       "  <thead>\n",
       "    <tr style=\"text-align: right;\">\n",
       "      <th></th>\n",
       "      <th>area_assesed</th>\n",
       "      <th>damage_grade</th>\n",
       "      <th>district_id</th>\n",
       "      <th>has_geotechnical_risk</th>\n",
       "      <th>has_geotechnical_risk_fault_crack</th>\n",
       "      <th>has_geotechnical_risk_flood</th>\n",
       "      <th>has_geotechnical_risk_land_settlement</th>\n",
       "      <th>has_geotechnical_risk_landslide</th>\n",
       "      <th>has_geotechnical_risk_liquefaction</th>\n",
       "      <th>has_geotechnical_risk_other</th>\n",
       "      <th>...</th>\n",
       "      <th>has_superstructure_timber</th>\n",
       "      <th>has_superstructure_bamboo</th>\n",
       "      <th>has_superstructure_rc_non_engineered</th>\n",
       "      <th>has_superstructure_rc_engineered</th>\n",
       "      <th>has_superstructure_other</th>\n",
       "      <th>condition_post_eq</th>\n",
       "      <th>area_assesed_count</th>\n",
       "      <th>district_id_count</th>\n",
       "      <th>vdcmun_id_count</th>\n",
       "      <th>ward_id_count</th>\n",
       "    </tr>\n",
       "  </thead>\n",
       "  <tbody>\n",
       "    <tr>\n",
       "      <th>0</th>\n",
       "      <td>Both</td>\n",
       "      <td>Grade 4</td>\n",
       "      <td>24</td>\n",
       "      <td>0.0</td>\n",
       "      <td>0</td>\n",
       "      <td>0</td>\n",
       "      <td>0</td>\n",
       "      <td>0</td>\n",
       "      <td>0</td>\n",
       "      <td>0</td>\n",
       "      <td>...</td>\n",
       "      <td>0</td>\n",
       "      <td>0</td>\n",
       "      <td>0</td>\n",
       "      <td>0</td>\n",
       "      <td>0</td>\n",
       "      <td>Damaged-Not used</td>\n",
       "      <td>638160</td>\n",
       "      <td>98019</td>\n",
       "      <td>1265</td>\n",
       "      <td>75</td>\n",
       "    </tr>\n",
       "    <tr>\n",
       "      <th>1</th>\n",
       "      <td>Both</td>\n",
       "      <td>Grade 2</td>\n",
       "      <td>44</td>\n",
       "      <td>0.0</td>\n",
       "      <td>0</td>\n",
       "      <td>0</td>\n",
       "      <td>0</td>\n",
       "      <td>0</td>\n",
       "      <td>0</td>\n",
       "      <td>0</td>\n",
       "      <td>...</td>\n",
       "      <td>0</td>\n",
       "      <td>0</td>\n",
       "      <td>0</td>\n",
       "      <td>0</td>\n",
       "      <td>0</td>\n",
       "      <td>Damaged-Repaired and used</td>\n",
       "      <td>638160</td>\n",
       "      <td>10940</td>\n",
       "      <td>376</td>\n",
       "      <td>21</td>\n",
       "    </tr>\n",
       "    <tr>\n",
       "      <th>2</th>\n",
       "      <td>Both</td>\n",
       "      <td>Grade 1</td>\n",
       "      <td>36</td>\n",
       "      <td>0.0</td>\n",
       "      <td>0</td>\n",
       "      <td>0</td>\n",
       "      <td>0</td>\n",
       "      <td>0</td>\n",
       "      <td>0</td>\n",
       "      <td>0</td>\n",
       "      <td>...</td>\n",
       "      <td>0</td>\n",
       "      <td>0</td>\n",
       "      <td>0</td>\n",
       "      <td>1</td>\n",
       "      <td>0</td>\n",
       "      <td>Not damaged</td>\n",
       "      <td>638160</td>\n",
       "      <td>78074</td>\n",
       "      <td>7901</td>\n",
       "      <td>974</td>\n",
       "    </tr>\n",
       "    <tr>\n",
       "      <th>3</th>\n",
       "      <td>Building removed</td>\n",
       "      <td>Grade 5</td>\n",
       "      <td>30</td>\n",
       "      <td>0.0</td>\n",
       "      <td>0</td>\n",
       "      <td>0</td>\n",
       "      <td>0</td>\n",
       "      <td>0</td>\n",
       "      <td>0</td>\n",
       "      <td>0</td>\n",
       "      <td>...</td>\n",
       "      <td>0</td>\n",
       "      <td>0</td>\n",
       "      <td>0</td>\n",
       "      <td>0</td>\n",
       "      <td>0</td>\n",
       "      <td>Damaged-Rubble clear</td>\n",
       "      <td>218946</td>\n",
       "      <td>89122</td>\n",
       "      <td>2409</td>\n",
       "      <td>347</td>\n",
       "    </tr>\n",
       "    <tr>\n",
       "      <th>4</th>\n",
       "      <td>Both</td>\n",
       "      <td>Grade 3</td>\n",
       "      <td>36</td>\n",
       "      <td>0.0</td>\n",
       "      <td>0</td>\n",
       "      <td>0</td>\n",
       "      <td>0</td>\n",
       "      <td>0</td>\n",
       "      <td>0</td>\n",
       "      <td>0</td>\n",
       "      <td>...</td>\n",
       "      <td>0</td>\n",
       "      <td>0</td>\n",
       "      <td>0</td>\n",
       "      <td>0</td>\n",
       "      <td>0</td>\n",
       "      <td>Damaged-Used in risk</td>\n",
       "      <td>638160</td>\n",
       "      <td>78074</td>\n",
       "      <td>1589</td>\n",
       "      <td>471</td>\n",
       "    </tr>\n",
       "  </tbody>\n",
       "</table>\n",
       "<p>5 rows × 56 columns</p>\n",
       "</div>"
      ],
      "text/plain": [
       "       area_assesed damage_grade  district_id  has_geotechnical_risk  \\\n",
       "0              Both      Grade 4           24                    0.0   \n",
       "1              Both      Grade 2           44                    0.0   \n",
       "2              Both      Grade 1           36                    0.0   \n",
       "3  Building removed      Grade 5           30                    0.0   \n",
       "4              Both      Grade 3           36                    0.0   \n",
       "\n",
       "   has_geotechnical_risk_fault_crack  has_geotechnical_risk_flood  \\\n",
       "0                                  0                            0   \n",
       "1                                  0                            0   \n",
       "2                                  0                            0   \n",
       "3                                  0                            0   \n",
       "4                                  0                            0   \n",
       "\n",
       "   has_geotechnical_risk_land_settlement  has_geotechnical_risk_landslide  \\\n",
       "0                                      0                                0   \n",
       "1                                      0                                0   \n",
       "2                                      0                                0   \n",
       "3                                      0                                0   \n",
       "4                                      0                                0   \n",
       "\n",
       "   has_geotechnical_risk_liquefaction  has_geotechnical_risk_other  \\\n",
       "0                                   0                            0   \n",
       "1                                   0                            0   \n",
       "2                                   0                            0   \n",
       "3                                   0                            0   \n",
       "4                                   0                            0   \n",
       "\n",
       "       ...        has_superstructure_timber  has_superstructure_bamboo  \\\n",
       "0      ...                                0                          0   \n",
       "1      ...                                0                          0   \n",
       "2      ...                                0                          0   \n",
       "3      ...                                0                          0   \n",
       "4      ...                                0                          0   \n",
       "\n",
       "   has_superstructure_rc_non_engineered  has_superstructure_rc_engineered  \\\n",
       "0                                     0                                 0   \n",
       "1                                     0                                 0   \n",
       "2                                     0                                 1   \n",
       "3                                     0                                 0   \n",
       "4                                     0                                 0   \n",
       "\n",
       "  has_superstructure_other          condition_post_eq  area_assesed_count  \\\n",
       "0                        0           Damaged-Not used              638160   \n",
       "1                        0  Damaged-Repaired and used              638160   \n",
       "2                        0                Not damaged              638160   \n",
       "3                        0       Damaged-Rubble clear              218946   \n",
       "4                        0       Damaged-Used in risk              638160   \n",
       "\n",
       "   district_id_count  vdcmun_id_count  ward_id_count  \n",
       "0              98019             1265             75  \n",
       "1              10940              376             21  \n",
       "2              78074             7901            974  \n",
       "3              89122             2409            347  \n",
       "4              78074             1589            471  \n",
       "\n",
       "[5 rows x 56 columns]"
      ]
     },
     "execution_count": 18,
     "metadata": {},
     "output_type": "execute_result"
    }
   ],
   "source": [
    "combin.head()"
   ]
  },
  {
   "cell_type": "code",
   "execution_count": 19,
   "metadata": {},
   "outputs": [],
   "source": [
    "combin = combin.drop(['district_id'], axis = 1)"
   ]
  },
  {
   "cell_type": "code",
   "execution_count": 20,
   "metadata": {},
   "outputs": [],
   "source": [
    "combin = combin.drop(['vdcmun_id'], axis = 1)"
   ]
  },
  {
   "cell_type": "code",
   "execution_count": 21,
   "metadata": {},
   "outputs": [],
   "source": [
    "combin = combin.drop(['ward_id'], axis = 1)"
   ]
  },
  {
   "cell_type": "code",
   "execution_count": 22,
   "metadata": {},
   "outputs": [],
   "source": [
    "train2 = combin[combin.damage_grade.isnull() == False]\n",
    "test2 = combin[combin.damage_grade.isnull() == True]\n",
    "del(combin)"
   ]
  },
  {
   "cell_type": "code",
   "execution_count": 23,
   "metadata": {},
   "outputs": [],
   "source": [
    "test2 = test2.drop(['damage_grade'], axis = 1)"
   ]
  },
  {
   "cell_type": "code",
   "execution_count": 24,
   "metadata": {},
   "outputs": [],
   "source": [
    "X = train2.drop(['damage_grade'], axis = 1)\n",
    "X = pd.get_dummies(X, drop_first=True)\n",
    "test2 = pd.get_dummies(test2, drop_first=True)\n",
    "y = train2['damage_grade']"
   ]
  },
  {
   "cell_type": "code",
   "execution_count": 45,
   "metadata": {},
   "outputs": [],
   "source": [
    "from sklearn.model_selection import train_test_split\n",
    "X_train, X_test, y_train, y_test = train_test_split(X, y, test_size=0.3, random_state=5)"
   ]
  },
  {
   "cell_type": "code",
   "execution_count": 46,
   "metadata": {},
   "outputs": [],
   "source": [
    "from sklearn.preprocessing import LabelEncoder\n",
    "le = LabelEncoder()\n",
    "le.fit(y_train)\n",
    "y_train = le.transform(y_train)"
   ]
  },
  {
   "cell_type": "code",
   "execution_count": 47,
   "metadata": {
    "collapsed": true
   },
   "outputs": [
    {
     "name": "stdout",
     "output_type": "stream",
     "text": [
      "[1]\tcv_agg's multi_error: 0.290126 + 0.000896825\n",
      "[2]\tcv_agg's multi_error: 0.289312 + 0.00154345\n",
      "[3]\tcv_agg's multi_error: 0.288631 + 0.00178121\n",
      "[4]\tcv_agg's multi_error: 0.288193 + 0.00177275\n",
      "[5]\tcv_agg's multi_error: 0.287781 + 0.0016016\n",
      "[6]\tcv_agg's multi_error: 0.287347 + 0.00176024\n",
      "[7]\tcv_agg's multi_error: 0.287037 + 0.00165143\n",
      "[8]\tcv_agg's multi_error: 0.286589 + 0.00127749\n",
      "[9]\tcv_agg's multi_error: 0.285839 + 0.00171585\n",
      "[10]\tcv_agg's multi_error: 0.285253 + 0.0018361\n",
      "[11]\tcv_agg's multi_error: 0.28433 + 0.0020639\n",
      "[12]\tcv_agg's multi_error: 0.284066 + 0.00179815\n",
      "[13]\tcv_agg's multi_error: 0.283573 + 0.00180538\n",
      "[14]\tcv_agg's multi_error: 0.283568 + 0.00191295\n",
      "[15]\tcv_agg's multi_error: 0.283354 + 0.00173059\n",
      "[16]\tcv_agg's multi_error: 0.283008 + 0.00159156\n",
      "[17]\tcv_agg's multi_error: 0.282723 + 0.00176429\n",
      "[18]\tcv_agg's multi_error: 0.282422 + 0.00143401\n",
      "[19]\tcv_agg's multi_error: 0.282241 + 0.00143663\n",
      "[20]\tcv_agg's multi_error: 0.28189 + 0.00133141\n",
      "[21]\tcv_agg's multi_error: 0.281554 + 0.00144416\n",
      "[22]\tcv_agg's multi_error: 0.280963 + 0.00126645\n",
      "[23]\tcv_agg's multi_error: 0.280645 + 0.00128742\n",
      "[24]\tcv_agg's multi_error: 0.280384 + 0.00131364\n",
      "[25]\tcv_agg's multi_error: 0.280016 + 0.0013299\n",
      "[26]\tcv_agg's multi_error: 0.279618 + 0.00131809\n",
      "[27]\tcv_agg's multi_error: 0.279258 + 0.00130326\n",
      "[28]\tcv_agg's multi_error: 0.278992 + 0.00133695\n",
      "[29]\tcv_agg's multi_error: 0.278519 + 0.00125975\n",
      "[30]\tcv_agg's multi_error: 0.278089 + 0.0012412\n",
      "[31]\tcv_agg's multi_error: 0.277877 + 0.00113673\n",
      "[32]\tcv_agg's multi_error: 0.277578 + 0.000999276\n",
      "[33]\tcv_agg's multi_error: 0.276909 + 0.000986391\n",
      "[34]\tcv_agg's multi_error: 0.276678 + 0.00109187\n",
      "[35]\tcv_agg's multi_error: 0.276269 + 0.000989322\n",
      "[36]\tcv_agg's multi_error: 0.275925 + 0.00112087\n",
      "[37]\tcv_agg's multi_error: 0.275385 + 0.00116494\n",
      "[38]\tcv_agg's multi_error: 0.275104 + 0.00113271\n",
      "[39]\tcv_agg's multi_error: 0.274779 + 0.00105908\n",
      "[40]\tcv_agg's multi_error: 0.274367 + 0.000934015\n",
      "[41]\tcv_agg's multi_error: 0.274015 + 0.000804105\n",
      "[42]\tcv_agg's multi_error: 0.273684 + 0.00083826\n",
      "[43]\tcv_agg's multi_error: 0.273332 + 0.000732916\n",
      "[44]\tcv_agg's multi_error: 0.273006 + 0.000583429\n",
      "[45]\tcv_agg's multi_error: 0.272674 + 0.000602435\n",
      "[46]\tcv_agg's multi_error: 0.272389 + 0.00052791\n",
      "[47]\tcv_agg's multi_error: 0.272244 + 0.000391299\n",
      "[48]\tcv_agg's multi_error: 0.271871 + 0.000490613\n",
      "[49]\tcv_agg's multi_error: 0.271672 + 0.000631514\n",
      "[50]\tcv_agg's multi_error: 0.271202 + 0.000614084\n",
      "[51]\tcv_agg's multi_error: 0.271039 + 0.000707277\n",
      "[52]\tcv_agg's multi_error: 0.2707 + 0.000656668\n",
      "[53]\tcv_agg's multi_error: 0.270507 + 0.000503701\n",
      "[54]\tcv_agg's multi_error: 0.270222 + 0.000509507\n",
      "[55]\tcv_agg's multi_error: 0.269895 + 0.000381763\n",
      "[56]\tcv_agg's multi_error: 0.26953 + 0.000343967\n",
      "[57]\tcv_agg's multi_error: 0.269248 + 0.000449439\n",
      "[58]\tcv_agg's multi_error: 0.268931 + 0.000551148\n",
      "[59]\tcv_agg's multi_error: 0.268701 + 0.000480755\n",
      "[60]\tcv_agg's multi_error: 0.268529 + 0.000461105\n",
      "[61]\tcv_agg's multi_error: 0.268201 + 0.000341638\n",
      "[62]\tcv_agg's multi_error: 0.268056 + 0.000391685\n",
      "[63]\tcv_agg's multi_error: 0.267828 + 0.000389709\n",
      "[64]\tcv_agg's multi_error: 0.267489 + 0.000265465\n",
      "[65]\tcv_agg's multi_error: 0.267294 + 0.000335618\n",
      "[66]\tcv_agg's multi_error: 0.267095 + 0.000377141\n",
      "[67]\tcv_agg's multi_error: 0.266769 + 0.000382283\n",
      "[68]\tcv_agg's multi_error: 0.266521 + 0.000324124\n",
      "[69]\tcv_agg's multi_error: 0.266448 + 0.000375955\n",
      "[70]\tcv_agg's multi_error: 0.266222 + 0.000291146\n",
      "[71]\tcv_agg's multi_error: 0.266118 + 0.000387454\n",
      "[72]\tcv_agg's multi_error: 0.26591 + 0.000267358\n",
      "[73]\tcv_agg's multi_error: 0.26575 + 0.000470604\n",
      "[74]\tcv_agg's multi_error: 0.265496 + 0.000531898\n",
      "[75]\tcv_agg's multi_error: 0.265153 + 0.000510963\n",
      "[76]\tcv_agg's multi_error: 0.264927 + 0.000400276\n",
      "[77]\tcv_agg's multi_error: 0.264804 + 0.000324397\n",
      "[78]\tcv_agg's multi_error: 0.264662 + 0.000391809\n",
      "[79]\tcv_agg's multi_error: 0.264492 + 0.000421266\n",
      "[80]\tcv_agg's multi_error: 0.264458 + 0.000433251\n",
      "[81]\tcv_agg's multi_error: 0.26425 + 0.000498419\n",
      "[82]\tcv_agg's multi_error: 0.263995 + 0.000446676\n",
      "[83]\tcv_agg's multi_error: 0.263821 + 0.000437709\n",
      "[84]\tcv_agg's multi_error: 0.263558 + 0.000490167\n",
      "[85]\tcv_agg's multi_error: 0.263434 + 0.000526727\n",
      "[86]\tcv_agg's multi_error: 0.263276 + 0.000469044\n",
      "[87]\tcv_agg's multi_error: 0.263224 + 0.000488904\n",
      "[88]\tcv_agg's multi_error: 0.262975 + 0.000609956\n",
      "[89]\tcv_agg's multi_error: 0.262711 + 0.000636528\n",
      "[90]\tcv_agg's multi_error: 0.262439 + 0.00057904\n",
      "[91]\tcv_agg's multi_error: 0.262157 + 0.000532036\n",
      "[92]\tcv_agg's multi_error: 0.262041 + 0.000472516\n",
      "[93]\tcv_agg's multi_error: 0.261854 + 0.000388069\n",
      "[94]\tcv_agg's multi_error: 0.261725 + 0.000395782\n",
      "[95]\tcv_agg's multi_error: 0.261636 + 0.000486109\n",
      "[96]\tcv_agg's multi_error: 0.261444 + 0.000600222\n",
      "[97]\tcv_agg's multi_error: 0.261284 + 0.000637985\n",
      "[98]\tcv_agg's multi_error: 0.261116 + 0.000585788\n",
      "[99]\tcv_agg's multi_error: 0.26101 + 0.000566377\n",
      "[100]\tcv_agg's multi_error: 0.260929 + 0.000587277\n"
     ]
    }
   ],
   "source": [
    "import lightgbm as lgb\n",
    "dtrainlgb = lgb.Dataset(data = X_train, label = y_train)\n",
    "params = {'objective': 'softmax',\n",
    "         'learning_rate' : 0.1,\n",
    "          'num_class' : 5}\n",
    "cv_results = lgb.cv(params,\n",
    "                    dtrainlgb,\n",
    "                    num_boost_round = 100,\n",
    "                    nfold = 3,\n",
    "                    metrics = 'multi_error',\n",
    "                    early_stopping_rounds = 10,\n",
    "                    verbose_eval = True)"
   ]
  },
  {
   "cell_type": "code",
   "execution_count": 48,
   "metadata": {},
   "outputs": [],
   "source": [
    "lgb_model = lgb.train(params,\n",
    "                     dtrainlgb,\n",
    "                     num_boost_round = 100,\n",
    "                     verbose_eval = True)"
   ]
  },
  {
   "cell_type": "code",
   "execution_count": 103,
   "metadata": {
    "scrolled": true
   },
   "outputs": [
    {
     "data": {
      "image/png": "[encoded data removed]",
      "text/plain": [
       "<Figure size 864x648 with 1 Axes>"
      ]
     },
     "metadata": {},
     "output_type": "display_data"
    }
   ],
   "source": [
    "import matplotlib.pyplot as plt\n",
    "a = lgb.plot_importance(lgb_model, max_num_features=20, height=.2, figsize=(12,9))\n"
   ]
  },
  {
   "cell_type": "code",
   "execution_count": 49,
   "metadata": {},
   "outputs": [],
   "source": [
    "lgb_pred = lgb_model.predict(X_test)"
   ]
  },
  {
   "cell_type": "code",
   "execution_count": 75,
   "metadata": {},
   "outputs": [],
   "source": [
    "dataf = pd.DataFrame(lgb_pred)"
   ]
  },
  {
   "cell_type": "code",
   "execution_count": 76,
   "metadata": {},
   "outputs": [
    {
     "data": {
      "text/html": [
       "<div>\n",
       "<style scoped>\n",
       "    .dataframe tbody tr th:only-of-type {\n",
       "        vertical-align: middle;\n",
       "    }\n",
       "\n",
       "    .dataframe tbody tr th {\n",
       "        vertical-align: top;\n",
       "    }\n",
       "\n",
       "    .dataframe thead th {\n",
       "        text-align: right;\n",
       "    }\n",
       "</style>\n",
       "<table border=\"1\" class=\"dataframe\">\n",
       "  <thead>\n",
       "    <tr style=\"text-align: right;\">\n",
       "      <th></th>\n",
       "      <th>0</th>\n",
       "      <th>1</th>\n",
       "      <th>2</th>\n",
       "      <th>3</th>\n",
       "      <th>4</th>\n",
       "    </tr>\n",
       "  </thead>\n",
       "  <tbody>\n",
       "    <tr>\n",
       "      <th>0</th>\n",
       "      <td>0.000016</td>\n",
       "      <td>0.000060</td>\n",
       "      <td>0.000031</td>\n",
       "      <td>0.000066</td>\n",
       "      <td>0.999827</td>\n",
       "    </tr>\n",
       "    <tr>\n",
       "      <th>1</th>\n",
       "      <td>0.043832</td>\n",
       "      <td>0.232614</td>\n",
       "      <td>0.326820</td>\n",
       "      <td>0.391057</td>\n",
       "      <td>0.005678</td>\n",
       "    </tr>\n",
       "    <tr>\n",
       "      <th>2</th>\n",
       "      <td>0.055013</td>\n",
       "      <td>0.387176</td>\n",
       "      <td>0.434403</td>\n",
       "      <td>0.117604</td>\n",
       "      <td>0.005803</td>\n",
       "    </tr>\n",
       "    <tr>\n",
       "      <th>3</th>\n",
       "      <td>0.000016</td>\n",
       "      <td>0.000041</td>\n",
       "      <td>0.000031</td>\n",
       "      <td>0.000060</td>\n",
       "      <td>0.999852</td>\n",
       "    </tr>\n",
       "    <tr>\n",
       "      <th>4</th>\n",
       "      <td>0.999381</td>\n",
       "      <td>0.000345</td>\n",
       "      <td>0.000057</td>\n",
       "      <td>0.000144</td>\n",
       "      <td>0.000074</td>\n",
       "    </tr>\n",
       "  </tbody>\n",
       "</table>\n",
       "</div>"
      ],
      "text/plain": [
       "          0         1         2         3         4\n",
       "0  0.000016  0.000060  0.000031  0.000066  0.999827\n",
       "1  0.043832  0.232614  0.326820  0.391057  0.005678\n",
       "2  0.055013  0.387176  0.434403  0.117604  0.005803\n",
       "3  0.000016  0.000041  0.000031  0.000060  0.999852\n",
       "4  0.999381  0.000345  0.000057  0.000144  0.000074"
      ]
     },
     "execution_count": 76,
     "metadata": {},
     "output_type": "execute_result"
    }
   ],
   "source": [
    "dataf.head()"
   ]
  },
  {
   "cell_type": "code",
   "execution_count": 77,
   "metadata": {},
   "outputs": [],
   "source": [
    "dataf['max_col'] = dataf.idxmax(axis=1)"
   ]
  },
  {
   "cell_type": "code",
   "execution_count": 80,
   "metadata": {
    "scrolled": true
   },
   "outputs": [
    {
     "data": {
      "text/html": [
       "<div>\n",
       "<style scoped>\n",
       "    .dataframe tbody tr th:only-of-type {\n",
       "        vertical-align: middle;\n",
       "    }\n",
       "\n",
       "    .dataframe tbody tr th {\n",
       "        vertical-align: top;\n",
       "    }\n",
       "\n",
       "    .dataframe thead th {\n",
       "        text-align: right;\n",
       "    }\n",
       "</style>\n",
       "<table border=\"1\" class=\"dataframe\">\n",
       "  <thead>\n",
       "    <tr style=\"text-align: right;\">\n",
       "      <th></th>\n",
       "      <th>0</th>\n",
       "      <th>1</th>\n",
       "      <th>2</th>\n",
       "      <th>3</th>\n",
       "      <th>4</th>\n",
       "      <th>max_col</th>\n",
       "      <th>class</th>\n",
       "    </tr>\n",
       "  </thead>\n",
       "  <tbody>\n",
       "    <tr>\n",
       "      <th>0</th>\n",
       "      <td>0.000016</td>\n",
       "      <td>0.000060</td>\n",
       "      <td>0.000031</td>\n",
       "      <td>0.000066</td>\n",
       "      <td>0.999827</td>\n",
       "      <td>4</td>\n",
       "      <td>Grade 5</td>\n",
       "    </tr>\n",
       "    <tr>\n",
       "      <th>1</th>\n",
       "      <td>0.043832</td>\n",
       "      <td>0.232614</td>\n",
       "      <td>0.326820</td>\n",
       "      <td>0.391057</td>\n",
       "      <td>0.005678</td>\n",
       "      <td>3</td>\n",
       "      <td>Grade 4</td>\n",
       "    </tr>\n",
       "    <tr>\n",
       "      <th>2</th>\n",
       "      <td>0.055013</td>\n",
       "      <td>0.387176</td>\n",
       "      <td>0.434403</td>\n",
       "      <td>0.117604</td>\n",
       "      <td>0.005803</td>\n",
       "      <td>2</td>\n",
       "      <td>Grade 3</td>\n",
       "    </tr>\n",
       "    <tr>\n",
       "      <th>3</th>\n",
       "      <td>0.000016</td>\n",
       "      <td>0.000041</td>\n",
       "      <td>0.000031</td>\n",
       "      <td>0.000060</td>\n",
       "      <td>0.999852</td>\n",
       "      <td>4</td>\n",
       "      <td>Grade 5</td>\n",
       "    </tr>\n",
       "    <tr>\n",
       "      <th>4</th>\n",
       "      <td>0.999381</td>\n",
       "      <td>0.000345</td>\n",
       "      <td>0.000057</td>\n",
       "      <td>0.000144</td>\n",
       "      <td>0.000074</td>\n",
       "      <td>0</td>\n",
       "      <td>Grade 1</td>\n",
       "    </tr>\n",
       "  </tbody>\n",
       "</table>\n",
       "</div>"
      ],
      "text/plain": [
       "          0         1         2         3         4  max_col    class\n",
       "0  0.000016  0.000060  0.000031  0.000066  0.999827        4  Grade 5\n",
       "1  0.043832  0.232614  0.326820  0.391057  0.005678        3  Grade 4\n",
       "2  0.055013  0.387176  0.434403  0.117604  0.005803        2  Grade 3\n",
       "3  0.000016  0.000041  0.000031  0.000060  0.999852        4  Grade 5\n",
       "4  0.999381  0.000345  0.000057  0.000144  0.000074        0  Grade 1"
      ]
     },
     "execution_count": 80,
     "metadata": {},
     "output_type": "execute_result"
    }
   ],
   "source": [
    "dataf.head()"
   ]
  },
  {
   "cell_type": "code",
   "execution_count": 79,
   "metadata": {},
   "outputs": [],
   "source": [
    "dataf['class'] = 'Grade 1'\n",
    "dataf.loc[dataf['max_col'] == 1, 'class'] = 'Grade 2'\n",
    "dataf.loc[dataf['max_col'] == 2, 'class'] = 'Grade 3'\n",
    "dataf.loc[dataf['max_col'] == 3, 'class'] = 'Grade 4'\n",
    "dataf.loc[dataf['max_col'] == 4, 'class'] = 'Grade 5'"
   ]
  },
  {
   "cell_type": "code",
   "execution_count": 85,
   "metadata": {},
   "outputs": [],
   "source": [
    "from sklearn.metrics import f1_score\n",
    "accu = f1_score(y_test, dataf['class'], average='weighted')"
   ]
  },
  {
   "cell_type": "code",
   "execution_count": 86,
   "metadata": {},
   "outputs": [
    {
     "data": {
      "text/plain": [
       "0.7393117080785385"
      ]
     },
     "execution_count": 86,
     "metadata": {},
     "output_type": "execute_result"
    }
   ],
   "source": [
    "accu"
   ]
  },
  {
   "cell_type": "code",
   "execution_count": 52,
   "metadata": {
    "collapsed": true
   },
   "outputs": [
    {
     "data": {
      "text/plain": [
       "XGBClassifier(base_score=0.5, booster='gbtree', colsample_bylevel=1,\n",
       "       colsample_bytree=1, gamma=0, learning_rate=0.1, max_delta_step=0,\n",
       "       max_depth=6, min_child_weight=1, missing=None, n_estimators=50,\n",
       "       n_jobs=1, nthread=None, objective='multi:softprob', random_state=0,\n",
       "       reg_alpha=0, reg_lambda=1, scale_pos_weight=1, seed=None,\n",
       "       silent=False, subsample=1)"
      ]
     },
     "execution_count": 52,
     "metadata": {},
     "output_type": "execute_result"
    }
   ],
   "source": [
    "# from xgboost import XGBClassifier\n",
    "# from sklearn.metrics import f1_score\n",
    "# from sklearn.model_selection import cross_val_score\n",
    "# model = XGBClassifier(max_depth=6, silent= False, n_estimators=50)\n",
    "# model.fit(X_train, y_train)\n",
    "# y_pred = model.predict(X_test)\n",
    "# acc = f1_score(y_test, y_pred, average='weighted')\n",
    "# print(acc)\n",
    "# submit = model.predict(test2)\n",
    "# output = pd.DataFrame({'building_id': test.building_id, 'damage_grade' : submit})\n",
    "# output.to_csv('output.csv', index=False)"
   ]
  }
 ],
 "metadata": {
  "kernelspec": {
   "display_name": "Python 3",
   "language": "python",
   "name": "python3"
  },
  "language_info": {
   "codemirror_mode": {
    "name": "ipython",
    "version": 3
   },
   "file_extension": ".py",
   "mimetype": "text/x-python",
   "name": "python",
   "nbconvert_exporter": "python",
   "pygments_lexer": "ipython3",
   "version": "3.5.2"
  }
 },
 "nbformat": 4,
 "nbformat_minor": 2
}
