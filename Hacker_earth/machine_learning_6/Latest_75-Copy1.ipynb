{
 "cells": [
  {
   "cell_type": "code",
   "execution_count": 1,
   "metadata": {},
   "outputs": [],
   "source": [
    "import numpy as np\n",
    "import pandas as pd"
   ]
  },
  {
   "cell_type": "code",
   "execution_count": 2,
   "metadata": {},
   "outputs": [],
   "source": [
    "train = pd.read_csv('train.csv')\n",
    "buildingo = pd.read_csv('Building_Ownership_Use.csv')\n",
    "buildingc = pd.read_csv('Building_Structure.csv')\n",
    "test = pd.read_csv('test.csv')"
   ]
  },
  {
   "cell_type": "code",
   "execution_count": 3,
   "metadata": {},
   "outputs": [
    {
     "name": "stderr",
     "output_type": "stream",
     "text": [
      "/home/tinku/.virtualenvs/cv/lib/python3.5/site-packages/ipykernel_launcher.py:1: FutureWarning: Sorting because non-concatenation axis is not aligned. A future version\n",
      "of pandas will change to not sort by default.\n",
      "\n",
      "To accept the future behavior, pass 'sort=False'.\n",
      "\n",
      "To retain the current behavior and silence the warning, pass 'sort=True'.\n",
      "\n",
      "  \"\"\"Entry point for launching an IPython kernel.\n"
     ]
    }
   ],
   "source": [
    "combin = pd.concat([train, test])\n",
    "del(train,test)"
   ]
  },
  {
   "cell_type": "code",
   "execution_count": 4,
   "metadata": {},
   "outputs": [],
   "source": [
    "combin = pd.merge(left = combin, right = buildingo, on = ['building_id','vdcmun_id', 'district_id'] )"
   ]
  },
  {
   "cell_type": "code",
   "execution_count": 5,
   "metadata": {},
   "outputs": [],
   "source": [
    "combin = pd.merge(left = combin, right = buildingc, on = ['building_id','vdcmun_id', 'district_id', 'ward_id'] )"
   ]
  },
  {
   "cell_type": "code",
   "execution_count": 6,
   "metadata": {},
   "outputs": [],
   "source": [
    "del( buildingo, buildingc)"
   ]
  },
  {
   "cell_type": "code",
   "execution_count": 7,
   "metadata": {},
   "outputs": [
    {
     "data": {
      "text/html": [
       "<div>\n",
       "<style scoped>\n",
       "    .dataframe tbody tr th:only-of-type {\n",
       "        vertical-align: middle;\n",
       "    }\n",
       "\n",
       "    .dataframe tbody tr th {\n",
       "        vertical-align: top;\n",
       "    }\n",
       "\n",
       "    .dataframe thead th {\n",
       "        text-align: right;\n",
       "    }\n",
       "</style>\n",
       "<table border=\"1\" class=\"dataframe\">\n",
       "  <thead>\n",
       "    <tr style=\"text-align: right;\">\n",
       "      <th></th>\n",
       "      <th>Missing</th>\n",
       "    </tr>\n",
       "  </thead>\n",
       "  <tbody>\n",
       "    <tr>\n",
       "      <th>damage_grade</th>\n",
       "      <td>40.000057</td>\n",
       "    </tr>\n",
       "    <tr>\n",
       "      <th>has_repair_started</th>\n",
       "      <td>5.255685</td>\n",
       "    </tr>\n",
       "    <tr>\n",
       "      <th>count_families</th>\n",
       "      <td>0.000095</td>\n",
       "    </tr>\n",
       "  </tbody>\n",
       "</table>\n",
       "</div>"
      ],
      "text/plain": [
       "                      Missing\n",
       "damage_grade        40.000057\n",
       "has_repair_started   5.255685\n",
       "count_families       0.000095"
      ]
     },
     "execution_count": 7,
     "metadata": {},
     "output_type": "execute_result"
    }
   ],
   "source": [
    "combin_na = (combin.isnull().sum()/len(combin))\n",
    "combin_na = combin_na.drop(combin_na[combin_na==0].index).sort_values(ascending = False)*100\n",
    "missing_data = pd.DataFrame({'Missing': combin_na})\n",
    "missing_data"
   ]
  },
  {
   "cell_type": "code",
   "execution_count": 8,
   "metadata": {},
   "outputs": [],
   "source": [
    "combin.count_families.fillna(1, inplace = True)\n",
    "combin.has_repair_started.fillna(0, inplace = True)"
   ]
  },
  {
   "cell_type": "code",
   "execution_count": 9,
   "metadata": {},
   "outputs": [],
   "source": [
    "del(missing_data, combin_na)"
   ]
  },
  {
   "cell_type": "code",
   "execution_count": 11,
   "metadata": {},
   "outputs": [],
   "source": [
    "combin.area_assesed.unique()\n",
    "combin['area_assesed_count'] = combin.groupby('area_assesed')['area_assesed'].transform('count')"
   ]
  },
  {
   "cell_type": "code",
   "execution_count": 12,
   "metadata": {},
   "outputs": [],
   "source": [
    "combin.drop('building_id', axis = 1, inplace = True)"
   ]
  },
  {
   "cell_type": "code",
   "execution_count": 13,
   "metadata": {},
   "outputs": [],
   "source": [
    "combin['district_id_count'] = combin.groupby('district_id')['district_id'].transform('count')"
   ]
  },
  {
   "cell_type": "code",
   "execution_count": 14,
   "metadata": {},
   "outputs": [],
   "source": [
    "combin['vdcmun_id_count'] = combin.groupby('vdcmun_id')['vdcmun_id'].transform('count')"
   ]
  },
  {
   "cell_type": "code",
   "execution_count": 15,
   "metadata": {},
   "outputs": [],
   "source": [
    "combin['ward_id_count'] = combin.groupby('ward_id')['ward_id'].transform('count')"
   ]
  },
  {
   "cell_type": "code",
   "execution_count": 16,
   "metadata": {},
   "outputs": [],
   "source": [
    "combin['district_vdcmun_count'] = combin.groupby(['district_id', 'vdcmun_id'])['district_id'].transform('count')"
   ]
  },
  {
   "cell_type": "code",
   "execution_count": 17,
   "metadata": {},
   "outputs": [],
   "source": [
    "combin['district_ward_vdc_count'] = combin.groupby(['district_id', 'vdcmun_id', 'ward_id'])['district_id'].transform('count')"
   ]
  },
  {
   "cell_type": "code",
   "execution_count": 18,
   "metadata": {},
   "outputs": [],
   "source": [
    "combin['floor_gap'] = ( combin['count_floors_pre_eq'] - combin['count_floors_post_eq'])\n",
    "combin['height_gap'] = ( combin['height_ft_pre_eq'] - combin['height_ft_post_eq'])"
   ]
  },
  {
   "cell_type": "code",
   "execution_count": 19,
   "metadata": {},
   "outputs": [],
   "source": [
    "combin['land_surface_condition_district'] = combin.groupby(['land_surface_condition', 'district_id'])['district_id'].transform('count')\n",
    "combin['condition_post_district'] = combin.groupby(['condition_post_eq', 'district_id'])['district_id'].transform('count')"
   ]
  },
  {
   "cell_type": "code",
   "execution_count": 20,
   "metadata": {},
   "outputs": [],
   "source": [
    "combin['condition_post_district_vdc_ward'] = combin.groupby(['condition_post_eq', 'district_id', 'vdcmun_id', 'ward_id'])['district_id'].transform('count')"
   ]
  },
  {
   "cell_type": "code",
   "execution_count": 21,
   "metadata": {},
   "outputs": [],
   "source": [
    "combin['area_district'] = combin.groupby(['area_assesed', 'district_id'])['district_id'].transform('count')"
   ]
  },
  {
   "cell_type": "code",
   "execution_count": 22,
   "metadata": {},
   "outputs": [],
   "source": [
    "combin['area_district_vdc_ward'] = combin.groupby(['area_assesed', 'district_id', 'vdcmun_id', 'ward_id'])['district_id'].transform('count')"
   ]
  },
  {
   "cell_type": "code",
   "execution_count": 23,
   "metadata": {},
   "outputs": [],
   "source": [
    "#combin = combin.drop(['district_id'], axis = 1)\n",
    "combin['district_id'] = combin['district_id'].astype('category')"
   ]
  },
  {
   "cell_type": "code",
   "execution_count": 24,
   "metadata": {},
   "outputs": [],
   "source": [
    "combin['plinth_area_sq_ft'] = np.log1p(combin['plinth_area_sq_ft'])"
   ]
  },
  {
   "cell_type": "code",
   "execution_count": 25,
   "metadata": {},
   "outputs": [],
   "source": [
    "combin['plint_avg_district'] = combin.groupby(['district_id'])['plinth_area_sq_ft'].transform(lambda x: x.sum() / x.count())"
   ]
  },
  {
   "cell_type": "code",
   "execution_count": 26,
   "metadata": {},
   "outputs": [],
   "source": [
    "combin['plint_avg_district_vdc'] = combin.groupby(['district_id','vdcmun_id'])['plinth_area_sq_ft'].transform(lambda x: x.sum() / x.count())"
   ]
  },
  {
   "cell_type": "code",
   "execution_count": 27,
   "metadata": {},
   "outputs": [],
   "source": [
    "combin = combin.drop(['vdcmun_id'], axis = 1)"
   ]
  },
  {
   "cell_type": "code",
   "execution_count": 28,
   "metadata": {},
   "outputs": [],
   "source": [
    "combin = combin.drop(['ward_id'], axis = 1)"
   ]
  },
  {
   "cell_type": "code",
   "execution_count": 29,
   "metadata": {},
   "outputs": [],
   "source": [
    "train2 = combin[combin.damage_grade.isnull() == False]\n",
    "test2 = combin[combin.damage_grade.isnull() == True]\n",
    "del(combin)"
   ]
  },
  {
   "cell_type": "code",
   "execution_count": 31,
   "metadata": {},
   "outputs": [],
   "source": [
    "test2 = test2.drop(['damage_grade'], axis = 1)"
   ]
  },
  {
   "cell_type": "code",
   "execution_count": 32,
   "metadata": {},
   "outputs": [],
   "source": [
    "X = train2.drop(['damage_grade'], axis = 1)\n",
    "X = pd.get_dummies(X, drop_first=True)\n",
    "test2 = pd.get_dummies(test2, drop_first=True)\n",
    "y = train2['damage_grade']\n",
    "del(train2)"
   ]
  },
  {
   "cell_type": "code",
   "execution_count": 33,
   "metadata": {},
   "outputs": [],
   "source": [
    "from sklearn.model_selection import train_test_split\n",
    "X_train, X_test, y_train, y_test = train_test_split(X, y, test_size=0.3, random_state=5)"
   ]
  },
  {
   "cell_type": "code",
   "execution_count": 34,
   "metadata": {},
   "outputs": [],
   "source": [
    "from sklearn.preprocessing import LabelEncoder\n",
    "le = LabelEncoder()\n",
    "le.fit(y_train)\n",
    "y_train = le.transform(y_train)"
   ]
  },
  {
   "cell_type": "code",
   "execution_count": 35,
   "metadata": {},
   "outputs": [
    {
     "name": "stdout",
     "output_type": "stream",
     "text": [
      "[5]\tcv_agg's multi_error: 0.269535 + 0.000965866\n",
      "[10]\tcv_agg's multi_error: 0.264465 + 0.00127746\n",
      "[15]\tcv_agg's multi_error: 0.259414 + 0.0011189\n",
      "[20]\tcv_agg's multi_error: 0.255432 + 0.00105945\n",
      "[25]\tcv_agg's multi_error: 0.251847 + 0.000843365\n",
      "[30]\tcv_agg's multi_error: 0.24877 + 0.000962879\n",
      "[35]\tcv_agg's multi_error: 0.245801 + 0.00114567\n",
      "[40]\tcv_agg's multi_error: 0.243757 + 0.000872258\n",
      "[45]\tcv_agg's multi_error: 0.241882 + 0.00111999\n",
      "[50]\tcv_agg's multi_error: 0.240363 + 0.00109845\n",
      "[55]\tcv_agg's multi_error: 0.238918 + 0.000900385\n",
      "[60]\tcv_agg's multi_error: 0.237848 + 0.000870465\n",
      "[65]\tcv_agg's multi_error: 0.236826 + 0.00076757\n",
      "[70]\tcv_agg's multi_error: 0.236168 + 0.000596701\n",
      "[75]\tcv_agg's multi_error: 0.235589 + 0.00067433\n",
      "[80]\tcv_agg's multi_error: 0.234831 + 0.000904772\n",
      "[85]\tcv_agg's multi_error: 0.234176 + 0.000771494\n",
      "[90]\tcv_agg's multi_error: 0.233524 + 0.000789125\n",
      "[95]\tcv_agg's multi_error: 0.233115 + 0.000722386\n",
      "[100]\tcv_agg's multi_error: 0.232595 + 0.000911347\n",
      "[105]\tcv_agg's multi_error: 0.231982 + 0.000793126\n",
      "[110]\tcv_agg's multi_error: 0.231437 + 0.000803926\n",
      "[115]\tcv_agg's multi_error: 0.230951 + 0.000960079\n",
      "[120]\tcv_agg's multi_error: 0.230476 + 0.000870169\n",
      "[125]\tcv_agg's multi_error: 0.230078 + 0.00102616\n",
      "[130]\tcv_agg's multi_error: 0.22961 + 0.00108391\n",
      "[135]\tcv_agg's multi_error: 0.229536 + 0.00136805\n",
      "[140]\tcv_agg's multi_error: 0.229126 + 0.0013581\n",
      "[145]\tcv_agg's multi_error: 0.228728 + 0.00132875\n",
      "[150]\tcv_agg's multi_error: 0.228416 + 0.00132933\n",
      "[155]\tcv_agg's multi_error: 0.228149 + 0.00144186\n",
      "[160]\tcv_agg's multi_error: 0.22779 + 0.00134577\n",
      "[165]\tcv_agg's multi_error: 0.227401 + 0.00139985\n",
      "[170]\tcv_agg's multi_error: 0.227062 + 0.00142024\n",
      "[175]\tcv_agg's multi_error: 0.226883 + 0.00148694\n",
      "[180]\tcv_agg's multi_error: 0.226675 + 0.001419\n",
      "[185]\tcv_agg's multi_error: 0.226325 + 0.00150465\n",
      "[190]\tcv_agg's multi_error: 0.226184 + 0.00144035\n",
      "[195]\tcv_agg's multi_error: 0.225836 + 0.00127732\n",
      "[200]\tcv_agg's multi_error: 0.225701 + 0.00134235\n",
      "[205]\tcv_agg's multi_error: 0.225676 + 0.00134258\n",
      "[210]\tcv_agg's multi_error: 0.225402 + 0.00126579\n",
      "[215]\tcv_agg's multi_error: 0.225314 + 0.00121121\n",
      "[220]\tcv_agg's multi_error: 0.225045 + 0.00128575\n",
      "[225]\tcv_agg's multi_error: 0.224726 + 0.00124193\n",
      "[230]\tcv_agg's multi_error: 0.224642 + 0.00125404\n",
      "[235]\tcv_agg's multi_error: 0.224477 + 0.00126304\n",
      "[240]\tcv_agg's multi_error: 0.224427 + 0.00139333\n",
      "[245]\tcv_agg's multi_error: 0.224149 + 0.00119476\n",
      "[250]\tcv_agg's multi_error: 0.223968 + 0.0012535\n",
      "[255]\tcv_agg's multi_error: 0.223964 + 0.00121609\n",
      "[260]\tcv_agg's multi_error: 0.223885 + 0.00124633\n",
      "[265]\tcv_agg's multi_error: 0.223785 + 0.00123338\n",
      "[270]\tcv_agg's multi_error: 0.223629 + 0.00128241\n",
      "[275]\tcv_agg's multi_error: 0.22365 + 0.00138211\n",
      "[280]\tcv_agg's multi_error: 0.223462 + 0.00125904\n",
      "[285]\tcv_agg's multi_error: 0.223448 + 0.00142546\n",
      "[290]\tcv_agg's multi_error: 0.22322 + 0.00134466\n",
      "[295]\tcv_agg's multi_error: 0.22301 + 0.00123309\n",
      "[300]\tcv_agg's multi_error: 0.222985 + 0.00124627\n",
      "[305]\tcv_agg's multi_error: 0.222813 + 0.00128314\n",
      "[310]\tcv_agg's multi_error: 0.222648 + 0.0012228\n",
      "[315]\tcv_agg's multi_error: 0.222693 + 0.00108156\n",
      "[320]\tcv_agg's multi_error: 0.222679 + 0.0010028\n",
      "[325]\tcv_agg's multi_error: 0.222503 + 0.00104845\n",
      "[330]\tcv_agg's multi_error: 0.222426 + 0.000971181\n",
      "[335]\tcv_agg's multi_error: 0.222365 + 0.000909461\n",
      "[340]\tcv_agg's multi_error: 0.222361 + 0.00114526\n",
      "[345]\tcv_agg's multi_error: 0.222399 + 0.0010662\n",
      "[350]\tcv_agg's multi_error: 0.222187 + 0.000979281\n",
      "[355]\tcv_agg's multi_error: 0.222107 + 0.00109098\n",
      "[360]\tcv_agg's multi_error: 0.222046 + 0.00110294\n",
      "[365]\tcv_agg's multi_error: 0.222026 + 0.00103112\n",
      "[370]\tcv_agg's multi_error: 0.221949 + 0.00108643\n",
      "[375]\tcv_agg's multi_error: 0.221841 + 0.00111464\n",
      "[380]\tcv_agg's multi_error: 0.221847 + 0.000980333\n",
      "[385]\tcv_agg's multi_error: 0.221764 + 0.000923884\n",
      "[390]\tcv_agg's multi_error: 0.221662 + 0.00096315\n",
      "[395]\tcv_agg's multi_error: 0.221664 + 0.000915555\n",
      "[400]\tcv_agg's multi_error: 0.221666 + 0.000961395\n",
      "[405]\tcv_agg's multi_error: 0.221737 + 0.000940858\n",
      "[410]\tcv_agg's multi_error: 0.221755 + 0.000929246\n",
      "[415]\tcv_agg's multi_error: 0.22173 + 0.00101086\n"
     ]
    }
   ],
   "source": [
    "import lightgbm as lgb\n",
    "dtrainlgb = lgb.Dataset(data = X_train, label = y_train)\n",
    "params = {'objective': 'softmax',\n",
    "         'learning_rate' : 0.2,\n",
    "          'num_class' : 5,\n",
    "          'num_leaves' : 60}\n",
    "cv_results = lgb.cv(params,\n",
    "                    dtrainlgb,\n",
    "                    num_boost_round = 1000,\n",
    "                    nfold = 3,\n",
    "                    metrics = 'multi_error',\n",
    "                    early_stopping_rounds = 20,\n",
    "                    verbose_eval = 5)           #600 iterations"
   ]
  },
  {
   "cell_type": "code",
   "execution_count": 36,
   "metadata": {},
   "outputs": [],
   "source": [
    "lgb_model = lgb.train(params,\n",
    "                     dtrainlgb,\n",
    "                     num_boost_round = 400,\n",
    "                     verbose_eval = True)"
   ]
  },
  {
   "cell_type": "code",
   "execution_count": 37,
   "metadata": {},
   "outputs": [
    {
     "data": {
      "text/plain": [
       "<Figure size 1200x900 with 1 Axes>"
      ]
     },
     "metadata": {},
     "output_type": "display_data"
    }
   ],
   "source": [
    "import matplotlib.pyplot as plt\n",
    "a = lgb.plot_importance(lgb_model, max_num_features=20, height=.2, figsize=(12,9))\n",
    "plt.show()"
   ]
  },
  {
   "cell_type": "code",
   "execution_count": 38,
   "metadata": {},
   "outputs": [],
   "source": [
    "lgb_pred = lgb_model.predict(X_test)"
   ]
  },
  {
   "cell_type": "code",
   "execution_count": 39,
   "metadata": {},
   "outputs": [],
   "source": [
    "dataf = pd.DataFrame(lgb_pred)"
   ]
  },
  {
   "cell_type": "code",
   "execution_count": 40,
   "metadata": {},
   "outputs": [
    {
     "data": {
      "text/html": [
       "<div>\n",
       "<style scoped>\n",
       "    .dataframe tbody tr th:only-of-type {\n",
       "        vertical-align: middle;\n",
       "    }\n",
       "\n",
       "    .dataframe tbody tr th {\n",
       "        vertical-align: top;\n",
       "    }\n",
       "\n",
       "    .dataframe thead th {\n",
       "        text-align: right;\n",
       "    }\n",
       "</style>\n",
       "<table border=\"1\" class=\"dataframe\">\n",
       "  <thead>\n",
       "    <tr style=\"text-align: right;\">\n",
       "      <th></th>\n",
       "      <th>0</th>\n",
       "      <th>1</th>\n",
       "      <th>2</th>\n",
       "      <th>3</th>\n",
       "      <th>4</th>\n",
       "    </tr>\n",
       "  </thead>\n",
       "  <tbody>\n",
       "    <tr>\n",
       "      <th>0</th>\n",
       "      <td>3.701786e-09</td>\n",
       "      <td>1.690384e-09</td>\n",
       "      <td>8.728171e-08</td>\n",
       "      <td>0.000001</td>\n",
       "      <td>9.999989e-01</td>\n",
       "    </tr>\n",
       "    <tr>\n",
       "      <th>1</th>\n",
       "      <td>2.166574e-02</td>\n",
       "      <td>1.412061e-01</td>\n",
       "      <td>4.397540e-01</td>\n",
       "      <td>0.397047</td>\n",
       "      <td>3.268339e-04</td>\n",
       "    </tr>\n",
       "    <tr>\n",
       "      <th>2</th>\n",
       "      <td>5.715507e-03</td>\n",
       "      <td>1.048207e-01</td>\n",
       "      <td>4.565497e-01</td>\n",
       "      <td>0.426296</td>\n",
       "      <td>6.618346e-03</td>\n",
       "    </tr>\n",
       "    <tr>\n",
       "      <th>3</th>\n",
       "      <td>1.457431e-09</td>\n",
       "      <td>4.091758e-09</td>\n",
       "      <td>2.704027e-07</td>\n",
       "      <td>0.000001</td>\n",
       "      <td>9.999986e-01</td>\n",
       "    </tr>\n",
       "    <tr>\n",
       "      <th>4</th>\n",
       "      <td>9.999847e-01</td>\n",
       "      <td>1.143300e-05</td>\n",
       "      <td>1.077746e-06</td>\n",
       "      <td>0.000003</td>\n",
       "      <td>3.078848e-09</td>\n",
       "    </tr>\n",
       "  </tbody>\n",
       "</table>\n",
       "</div>"
      ],
      "text/plain": [
       "              0             1             2         3             4\n",
       "0  3.701786e-09  1.690384e-09  8.728171e-08  0.000001  9.999989e-01\n",
       "1  2.166574e-02  1.412061e-01  4.397540e-01  0.397047  3.268339e-04\n",
       "2  5.715507e-03  1.048207e-01  4.565497e-01  0.426296  6.618346e-03\n",
       "3  1.457431e-09  4.091758e-09  2.704027e-07  0.000001  9.999986e-01\n",
       "4  9.999847e-01  1.143300e-05  1.077746e-06  0.000003  3.078848e-09"
      ]
     },
     "execution_count": 40,
     "metadata": {},
     "output_type": "execute_result"
    }
   ],
   "source": [
    "dataf.head()"
   ]
  },
  {
   "cell_type": "code",
   "execution_count": 41,
   "metadata": {},
   "outputs": [],
   "source": [
    "dataf['max_col'] = dataf.idxmax(axis=1)"
   ]
  },
  {
   "cell_type": "code",
   "execution_count": 42,
   "metadata": {},
   "outputs": [
    {
     "data": {
      "text/html": [
       "<div>\n",
       "<style scoped>\n",
       "    .dataframe tbody tr th:only-of-type {\n",
       "        vertical-align: middle;\n",
       "    }\n",
       "\n",
       "    .dataframe tbody tr th {\n",
       "        vertical-align: top;\n",
       "    }\n",
       "\n",
       "    .dataframe thead th {\n",
       "        text-align: right;\n",
       "    }\n",
       "</style>\n",
       "<table border=\"1\" class=\"dataframe\">\n",
       "  <thead>\n",
       "    <tr style=\"text-align: right;\">\n",
       "      <th></th>\n",
       "      <th>0</th>\n",
       "      <th>1</th>\n",
       "      <th>2</th>\n",
       "      <th>3</th>\n",
       "      <th>4</th>\n",
       "      <th>max_col</th>\n",
       "    </tr>\n",
       "  </thead>\n",
       "  <tbody>\n",
       "    <tr>\n",
       "      <th>0</th>\n",
       "      <td>3.701786e-09</td>\n",
       "      <td>1.690384e-09</td>\n",
       "      <td>8.728171e-08</td>\n",
       "      <td>0.000001</td>\n",
       "      <td>9.999989e-01</td>\n",
       "      <td>4</td>\n",
       "    </tr>\n",
       "    <tr>\n",
       "      <th>1</th>\n",
       "      <td>2.166574e-02</td>\n",
       "      <td>1.412061e-01</td>\n",
       "      <td>4.397540e-01</td>\n",
       "      <td>0.397047</td>\n",
       "      <td>3.268339e-04</td>\n",
       "      <td>2</td>\n",
       "    </tr>\n",
       "    <tr>\n",
       "      <th>2</th>\n",
       "      <td>5.715507e-03</td>\n",
       "      <td>1.048207e-01</td>\n",
       "      <td>4.565497e-01</td>\n",
       "      <td>0.426296</td>\n",
       "      <td>6.618346e-03</td>\n",
       "      <td>2</td>\n",
       "    </tr>\n",
       "    <tr>\n",
       "      <th>3</th>\n",
       "      <td>1.457431e-09</td>\n",
       "      <td>4.091758e-09</td>\n",
       "      <td>2.704027e-07</td>\n",
       "      <td>0.000001</td>\n",
       "      <td>9.999986e-01</td>\n",
       "      <td>4</td>\n",
       "    </tr>\n",
       "    <tr>\n",
       "      <th>4</th>\n",
       "      <td>9.999847e-01</td>\n",
       "      <td>1.143300e-05</td>\n",
       "      <td>1.077746e-06</td>\n",
       "      <td>0.000003</td>\n",
       "      <td>3.078848e-09</td>\n",
       "      <td>0</td>\n",
       "    </tr>\n",
       "  </tbody>\n",
       "</table>\n",
       "</div>"
      ],
      "text/plain": [
       "              0             1             2         3             4  max_col\n",
       "0  3.701786e-09  1.690384e-09  8.728171e-08  0.000001  9.999989e-01        4\n",
       "1  2.166574e-02  1.412061e-01  4.397540e-01  0.397047  3.268339e-04        2\n",
       "2  5.715507e-03  1.048207e-01  4.565497e-01  0.426296  6.618346e-03        2\n",
       "3  1.457431e-09  4.091758e-09  2.704027e-07  0.000001  9.999986e-01        4\n",
       "4  9.999847e-01  1.143300e-05  1.077746e-06  0.000003  3.078848e-09        0"
      ]
     },
     "execution_count": 42,
     "metadata": {},
     "output_type": "execute_result"
    }
   ],
   "source": [
    "dataf.head()"
   ]
  },
  {
   "cell_type": "code",
   "execution_count": 43,
   "metadata": {},
   "outputs": [],
   "source": [
    "dataf['class'] = 'Grade 1'\n",
    "dataf.loc[dataf['max_col'] == 1, 'class'] = 'Grade 2'\n",
    "dataf.loc[dataf['max_col'] == 2, 'class'] = 'Grade 3'\n",
    "dataf.loc[dataf['max_col'] == 3, 'class'] = 'Grade 4'\n",
    "dataf.loc[dataf['max_col'] == 4, 'class'] = 'Grade 5'"
   ]
  },
  {
   "cell_type": "code",
   "execution_count": 44,
   "metadata": {},
   "outputs": [],
   "source": [
    "from sklearn.metrics import f1_score\n",
    "accu = f1_score(y_test, dataf['class'], average='weighted')"
   ]
  },
  {
   "cell_type": "code",
   "execution_count": 45,
   "metadata": {},
   "outputs": [
    {
     "data": {
      "text/plain": [
       "0.7834203557674116"
      ]
     },
     "execution_count": 45,
     "metadata": {},
     "output_type": "execute_result"
    }
   ],
   "source": [
    "accu"
   ]
  },
  {
   "cell_type": "code",
   "execution_count": 46,
   "metadata": {},
   "outputs": [],
   "source": [
    "submit = lgb_model.predict(test2)\n"
   ]
  },
  {
   "cell_type": "code",
   "execution_count": 47,
   "metadata": {},
   "outputs": [],
   "source": [
    "submit2 = pd.DataFrame(submit)"
   ]
  },
  {
   "cell_type": "code",
   "execution_count": 48,
   "metadata": {},
   "outputs": [],
   "source": [
    "submit2.head()\n",
    "submit2['max_col'] = submit2.idxmax(axis=1)"
   ]
  },
  {
   "cell_type": "code",
   "execution_count": 49,
   "metadata": {},
   "outputs": [],
   "source": [
    "submit2['class'] = 'Grade 1'\n",
    "submit2.loc[submit2['max_col'] == 1, 'class'] = 'Grade 2'\n",
    "submit2.loc[submit2['max_col'] == 2, 'class'] = 'Grade 3'\n",
    "submit2.loc[submit2['max_col'] == 3, 'class'] = 'Grade 4'\n",
    "submit2.loc[submit2['max_col'] == 4, 'class'] = 'Grade 5'"
   ]
  },
  {
   "cell_type": "code",
   "execution_count": 51,
   "metadata": {},
   "outputs": [],
   "source": [
    "test = pd.read_csv('test.csv')\n",
    "output = pd.DataFrame({'building_id': test.building_id, 'damage_grade' : submit2['class']})\n",
    "output.to_csv('output.csv', index=False)"
   ]
  },
  {
   "cell_type": "code",
   "execution_count": null,
   "metadata": {},
   "outputs": [],
   "source": []
  }
 ],
 "metadata": {
  "kernelspec": {
   "display_name": "Python 3",
   "language": "python",
   "name": "python3"
  },
  "language_info": {
   "codemirror_mode": {
    "name": "ipython",
    "version": 3
   },
   "file_extension": ".py",
   "mimetype": "text/x-python",
   "name": "python",
   "nbconvert_exporter": "python",
   "pygments_lexer": "ipython3",
   "version": "3.5.2"
  }
 },
 "nbformat": 4,
 "nbformat_minor": 2
}
