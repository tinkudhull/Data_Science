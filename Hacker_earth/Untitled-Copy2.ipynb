{
 "cells": [
  {
   "cell_type": "code",
   "execution_count": 59,
   "metadata": {},
   "outputs": [],
   "source": [
    "import numpy as np\n",
    "import pandas as pd"
   ]
  },
  {
   "cell_type": "code",
   "execution_count": 60,
   "metadata": {},
   "outputs": [],
   "source": [
    "train = pd.read_csv('yds_train2018.csv')\n",
    "test = pd.read_csv('yds_test2018.csv')\n",
    "holiday = pd.read_excel('holidays.xlsx')\n",
    "expenses = pd.read_csv('promotional_expense.csv')\n",
    "sample = pd.read_csv('sample_submission.csv')"
   ]
  },
  {
   "cell_type": "code",
   "execution_count": 61,
   "metadata": {},
   "outputs": [],
   "source": [
    "train.drop(['Merchant_ID', 'Week'], axis=1, inplace=True)"
   ]
  },
  {
   "cell_type": "code",
   "execution_count": 62,
   "metadata": {},
   "outputs": [],
   "source": [
    "train= train.groupby(['Year', 'Month', 'Product_ID','Country'], as_index=False).agg({\"Sales\":\"sum\"})"
   ]
  },
  {
   "cell_type": "code",
   "execution_count": 63,
   "metadata": {},
   "outputs": [],
   "source": [
    "test_sno = test.S_No\n",
    "test.drop(['S_No'], axis = 1, inplace=True)"
   ]
  },
  {
   "cell_type": "code",
   "execution_count": 64,
   "metadata": {},
   "outputs": [],
   "source": [
    "expenses.rename(columns={'Product_Type' : 'Product_ID'}, inplace=True)"
   ]
  },
  {
   "cell_type": "code",
   "execution_count": 65,
   "metadata": {},
   "outputs": [],
   "source": [
    "combin = pd.concat([train,test])"
   ]
  },
  {
   "cell_type": "code",
   "execution_count": 66,
   "metadata": {},
   "outputs": [],
   "source": [
    "combin2 = pd.merge(left = combin, right = expenses, how='left')"
   ]
  },
  {
   "cell_type": "code",
   "execution_count": 67,
   "metadata": {},
   "outputs": [],
   "source": [
    "combin2['Expense_Price'] = combin2.groupby(['Country','Year'])['Expense_Price'].apply(lambda x : x.fillna(x.mean()))"
   ]
  },
  {
   "cell_type": "code",
   "execution_count": 68,
   "metadata": {},
   "outputs": [],
   "source": [
    "combin2.Year = combin2.Year.astype('category')"
   ]
  },
  {
   "cell_type": "code",
   "execution_count": 69,
   "metadata": {},
   "outputs": [],
   "source": [
    "combin2.Product_ID = combin2.Product_ID.astype('category')"
   ]
  },
  {
   "cell_type": "code",
   "execution_count": 70,
   "metadata": {},
   "outputs": [],
   "source": [
    "combin2.Month = combin2.Month.astype('category')"
   ]
  },
  {
   "cell_type": "code",
   "execution_count": 71,
   "metadata": {},
   "outputs": [],
   "source": [
    "combin2 = pd.get_dummies(combin2, drop_first=True)\n",
    "#combin2['Expense_Price'] = np.log1p(combin2['Expense_Price'])"
   ]
  },
  {
   "cell_type": "code",
   "execution_count": 72,
   "metadata": {},
   "outputs": [],
   "source": [
    "train2 = combin2[~combin2.Sales.isnull()]"
   ]
  },
  {
   "cell_type": "code",
   "execution_count": 73,
   "metadata": {},
   "outputs": [],
   "source": [
    "test2 = combin2[combin2.Sales.isnull()]"
   ]
  },
  {
   "cell_type": "code",
   "execution_count": 74,
   "metadata": {},
   "outputs": [],
   "source": [
    "corrmat = train2.corr()\n",
    "train_X = train2.drop('Sales', axis = 1)\n",
    "train_y = train2['Sales']"
   ]
  },
  {
   "cell_type": "code",
   "execution_count": 75,
   "metadata": {},
   "outputs": [
    {
     "name": "stdout",
     "output_type": "stream",
     "text": [
      "[1]\tcv_agg's mape: 0.102687 + 0.0119094\n",
      "[2]\tcv_agg's mape: 0.0935027 + 0.0106846\n",
      "[3]\tcv_agg's mape: 0.0853682 + 0.00953714\n",
      "[4]\tcv_agg's mape: 0.0779952 + 0.00862447\n",
      "[5]\tcv_agg's mape: 0.0713851 + 0.00763557\n",
      "[6]\tcv_agg's mape: 0.0654943 + 0.00678154\n",
      "[7]\tcv_agg's mape: 0.0602175 + 0.00617478\n",
      "[8]\tcv_agg's mape: 0.05548 + 0.00593402\n",
      "[9]\tcv_agg's mape: 0.0510556 + 0.00561835\n",
      "[10]\tcv_agg's mape: 0.047309 + 0.00547287\n",
      "[11]\tcv_agg's mape: 0.0439919 + 0.00568592\n",
      "[12]\tcv_agg's mape: 0.0408553 + 0.00561787\n",
      "[13]\tcv_agg's mape: 0.0380475 + 0.005592\n",
      "[14]\tcv_agg's mape: 0.0354127 + 0.00552832\n",
      "[15]\tcv_agg's mape: 0.0331952 + 0.00553701\n",
      "[16]\tcv_agg's mape: 0.0310837 + 0.00544418\n",
      "[17]\tcv_agg's mape: 0.0293619 + 0.00540839\n",
      "[18]\tcv_agg's mape: 0.0276976 + 0.00539341\n",
      "[19]\tcv_agg's mape: 0.0260957 + 0.00533122\n",
      "[20]\tcv_agg's mape: 0.0247237 + 0.00531191\n",
      "[21]\tcv_agg's mape: 0.0235317 + 0.00534403\n",
      "[22]\tcv_agg's mape: 0.0224732 + 0.0053346\n",
      "[23]\tcv_agg's mape: 0.0215096 + 0.00530297\n",
      "[24]\tcv_agg's mape: 0.0206539 + 0.00528726\n",
      "[25]\tcv_agg's mape: 0.0199692 + 0.00524052\n",
      "[26]\tcv_agg's mape: 0.019367 + 0.00528317\n",
      "[27]\tcv_agg's mape: 0.0188643 + 0.00530975\n",
      "[28]\tcv_agg's mape: 0.0183302 + 0.00524869\n",
      "[29]\tcv_agg's mape: 0.017871 + 0.00519473\n",
      "[30]\tcv_agg's mape: 0.0175082 + 0.00514404\n",
      "[31]\tcv_agg's mape: 0.0171756 + 0.00506506\n",
      "[32]\tcv_agg's mape: 0.0169217 + 0.00502123\n",
      "[33]\tcv_agg's mape: 0.0166793 + 0.00495205\n",
      "[34]\tcv_agg's mape: 0.0164767 + 0.00495473\n",
      "[35]\tcv_agg's mape: 0.0162961 + 0.00495944\n",
      "[36]\tcv_agg's mape: 0.01613 + 0.0049843\n",
      "[37]\tcv_agg's mape: 0.01601 + 0.00502054\n",
      "[38]\tcv_agg's mape: 0.0159183 + 0.00504402\n",
      "[39]\tcv_agg's mape: 0.0157927 + 0.00508486\n",
      "[40]\tcv_agg's mape: 0.0156996 + 0.00507571\n",
      "[41]\tcv_agg's mape: 0.0156161 + 0.00509985\n",
      "[42]\tcv_agg's mape: 0.0154785 + 0.00511985\n",
      "[43]\tcv_agg's mape: 0.0153834 + 0.00514651\n",
      "[44]\tcv_agg's mape: 0.0153049 + 0.00514368\n",
      "[45]\tcv_agg's mape: 0.015242 + 0.00515695\n",
      "[46]\tcv_agg's mape: 0.0151427 + 0.0051318\n",
      "[47]\tcv_agg's mape: 0.0150738 + 0.00514323\n",
      "[48]\tcv_agg's mape: 0.015051 + 0.00513851\n",
      "[49]\tcv_agg's mape: 0.0150235 + 0.00516547\n",
      "[50]\tcv_agg's mape: 0.0149788 + 0.00516747\n",
      "[51]\tcv_agg's mape: 0.0149254 + 0.0051591\n",
      "[52]\tcv_agg's mape: 0.0148646 + 0.00515481\n",
      "[53]\tcv_agg's mape: 0.0148378 + 0.00515484\n",
      "[54]\tcv_agg's mape: 0.0148078 + 0.00516371\n",
      "[55]\tcv_agg's mape: 0.0147817 + 0.00516218\n",
      "[56]\tcv_agg's mape: 0.0147641 + 0.00517182\n",
      "[57]\tcv_agg's mape: 0.0147291 + 0.00516773\n",
      "[58]\tcv_agg's mape: 0.0146708 + 0.00517133\n",
      "[59]\tcv_agg's mape: 0.0146329 + 0.00517506\n",
      "[60]\tcv_agg's mape: 0.0146144 + 0.0051616\n",
      "[61]\tcv_agg's mape: 0.014566 + 0.00505172\n",
      "[62]\tcv_agg's mape: 0.0145578 + 0.00507541\n",
      "[63]\tcv_agg's mape: 0.0145544 + 0.00506299\n",
      "[64]\tcv_agg's mape: 0.014544 + 0.00507155\n",
      "[65]\tcv_agg's mape: 0.0145067 + 0.00508794\n",
      "[66]\tcv_agg's mape: 0.0144872 + 0.00508377\n",
      "[67]\tcv_agg's mape: 0.0144649 + 0.00510243\n",
      "[68]\tcv_agg's mape: 0.0144426 + 0.00513301\n",
      "[69]\tcv_agg's mape: 0.0144138 + 0.00513528\n",
      "[70]\tcv_agg's mape: 0.014384 + 0.00513086\n",
      "[71]\tcv_agg's mape: 0.0143733 + 0.00514214\n",
      "[72]\tcv_agg's mape: 0.0143666 + 0.00515293\n",
      "[73]\tcv_agg's mape: 0.0143721 + 0.00514711\n",
      "[74]\tcv_agg's mape: 0.0143556 + 0.00515203\n",
      "[75]\tcv_agg's mape: 0.0143404 + 0.00512245\n",
      "[76]\tcv_agg's mape: 0.0143075 + 0.005148\n",
      "[77]\tcv_agg's mape: 0.0142766 + 0.0051237\n",
      "[78]\tcv_agg's mape: 0.0142671 + 0.00513365\n",
      "[79]\tcv_agg's mape: 0.0142466 + 0.00514009\n",
      "[80]\tcv_agg's mape: 0.0142337 + 0.00514898\n",
      "[81]\tcv_agg's mape: 0.0142251 + 0.0051428\n",
      "[82]\tcv_agg's mape: 0.0142073 + 0.00514488\n",
      "[83]\tcv_agg's mape: 0.0141945 + 0.00514774\n",
      "[84]\tcv_agg's mape: 0.0141742 + 0.00515443\n",
      "[85]\tcv_agg's mape: 0.0141692 + 0.00516069\n",
      "[86]\tcv_agg's mape: 0.0141587 + 0.00516816\n",
      "[87]\tcv_agg's mape: 0.0141524 + 0.00517804\n",
      "[88]\tcv_agg's mape: 0.0141518 + 0.005186\n",
      "[89]\tcv_agg's mape: 0.0141182 + 0.0051919\n",
      "[90]\tcv_agg's mape: 0.0141092 + 0.00519785\n",
      "[91]\tcv_agg's mape: 0.014105 + 0.00519276\n",
      "[92]\tcv_agg's mape: 0.0140959 + 0.00519881\n",
      "[93]\tcv_agg's mape: 0.0140842 + 0.00520854\n",
      "[94]\tcv_agg's mape: 0.0140806 + 0.00520584\n",
      "[95]\tcv_agg's mape: 0.0140589 + 0.00520387\n",
      "[96]\tcv_agg's mape: 0.0140554 + 0.00520006\n",
      "[97]\tcv_agg's mape: 0.01404 + 0.00520518\n",
      "[98]\tcv_agg's mape: 0.0140341 + 0.00520745\n",
      "[99]\tcv_agg's mape: 0.0140242 + 0.00521117\n",
      "[100]\tcv_agg's mape: 0.0140285 + 0.00520587\n",
      "[101]\tcv_agg's mape: 0.0140302 + 0.00519701\n",
      "[102]\tcv_agg's mape: 0.0140199 + 0.00520135\n",
      "[103]\tcv_agg's mape: 0.0140126 + 0.00520477\n",
      "[104]\tcv_agg's mape: 0.0140062 + 0.00520885\n",
      "[105]\tcv_agg's mape: 0.0140032 + 0.00520293\n",
      "[106]\tcv_agg's mape: 0.0139851 + 0.0052111\n",
      "[107]\tcv_agg's mape: 0.0139651 + 0.00521205\n",
      "[108]\tcv_agg's mape: 0.0139577 + 0.00521126\n",
      "[109]\tcv_agg's mape: 0.0139556 + 0.00521483\n",
      "[110]\tcv_agg's mape: 0.0139563 + 0.00521171\n",
      "[111]\tcv_agg's mape: 0.0139488 + 0.00520932\n",
      "[112]\tcv_agg's mape: 0.0139459 + 0.00521105\n",
      "[113]\tcv_agg's mape: 0.0139496 + 0.00520475\n",
      "[114]\tcv_agg's mape: 0.0139509 + 0.00520886\n",
      "[115]\tcv_agg's mape: 0.0139462 + 0.00520376\n",
      "[116]\tcv_agg's mape: 0.0139036 + 0.005166\n",
      "[117]\tcv_agg's mape: 0.013892 + 0.00514952\n",
      "[118]\tcv_agg's mape: 0.0138735 + 0.0051471\n",
      "[119]\tcv_agg's mape: 0.013866 + 0.00515342\n",
      "[120]\tcv_agg's mape: 0.0138643 + 0.00515091\n",
      "[121]\tcv_agg's mape: 0.0138549 + 0.00516578\n",
      "[122]\tcv_agg's mape: 0.0138566 + 0.0051624\n",
      "[123]\tcv_agg's mape: 0.0138563 + 0.00516429\n",
      "[124]\tcv_agg's mape: 0.0138431 + 0.00512753\n",
      "[125]\tcv_agg's mape: 0.0138409 + 0.00511813\n",
      "[126]\tcv_agg's mape: 0.0138424 + 0.00512091\n",
      "[127]\tcv_agg's mape: 0.0138395 + 0.0051111\n",
      "[128]\tcv_agg's mape: 0.0138245 + 0.00511091\n",
      "[129]\tcv_agg's mape: 0.0138268 + 0.00511029\n",
      "[130]\tcv_agg's mape: 0.0138236 + 0.00511413\n",
      "[131]\tcv_agg's mape: 0.0138237 + 0.00510554\n",
      "[132]\tcv_agg's mape: 0.0138171 + 0.00510997\n",
      "[133]\tcv_agg's mape: 0.0138116 + 0.00511301\n",
      "[134]\tcv_agg's mape: 0.0138157 + 0.00510917\n",
      "[135]\tcv_agg's mape: 0.0138084 + 0.00511369\n",
      "[136]\tcv_agg's mape: 0.0137977 + 0.00512079\n",
      "[137]\tcv_agg's mape: 0.0138025 + 0.00512107\n",
      "[138]\tcv_agg's mape: 0.0138066 + 0.00512708\n",
      "[139]\tcv_agg's mape: 0.013814 + 0.00512318\n",
      "[140]\tcv_agg's mape: 0.0138156 + 0.00511585\n",
      "[141]\tcv_agg's mape: 0.013814 + 0.00510836\n",
      "[142]\tcv_agg's mape: 0.013808 + 0.00509929\n",
      "[143]\tcv_agg's mape: 0.0138142 + 0.00509626\n",
      "[144]\tcv_agg's mape: 0.0138075 + 0.0051048\n",
      "[145]\tcv_agg's mape: 0.0138112 + 0.00509726\n",
      "[146]\tcv_agg's mape: 0.0138126 + 0.00509819\n"
     ]
    }
   ],
   "source": [
    "import lightgbm as lgb\n",
    "dtrainlgb = lgb.Dataset(data = train_X, label = np.log1p(train_y))\n",
    "params = {'objective': 'mape',\n",
    "         'learning_rate' : 0.1,\n",
    "          'num_leaves' : 32\n",
    "         }\n",
    "cv_results = lgb.cv(params,\n",
    "                    dtrainlgb,\n",
    "                    num_boost_round = 1000,\n",
    "                    nfold = 10,\n",
    "                    metrics = 'mape',\n",
    "                    early_stopping_rounds = 10,\n",
    "                    verbose_eval = 1,\n",
    "                    stratified = False\n",
    "                   )         "
   ]
  },
  {
   "cell_type": "code",
   "execution_count": 76,
   "metadata": {},
   "outputs": [],
   "source": [
    "lgbmodel = lgb.train(params,\n",
    "                    dtrainlgb,\n",
    "                    num_boost_round = 136)"
   ]
  },
  {
   "cell_type": "code",
   "execution_count": 77,
   "metadata": {},
   "outputs": [],
   "source": [
    "# import matplotlib.pyplot as plt\n",
    "# a = lgb.plot_importance(lgbmodel, max_num_features=20, height=.2, figsize=(12,9))\n",
    "# plt.show()"
   ]
  },
  {
   "cell_type": "code",
   "execution_count": 78,
   "metadata": {},
   "outputs": [],
   "source": [
    "lgb_pred = lgbmodel.predict(train_X)"
   ]
  },
  {
   "cell_type": "code",
   "execution_count": 79,
   "metadata": {},
   "outputs": [],
   "source": [
    "def smape_calc(pred, original):\n",
    "    err = np.mean(np.abs(pred-original) / ((np.abs(pred+original))/2))\n",
    "    return(err)    "
   ]
  },
  {
   "cell_type": "code",
   "execution_count": 80,
   "metadata": {},
   "outputs": [
    {
     "data": {
      "text/plain": [
       "0.1261390711819645"
      ]
     },
     "execution_count": 80,
     "metadata": {},
     "output_type": "execute_result"
    }
   ],
   "source": [
    "smape = smape_calc((np.exp(lgb_pred)-1), train_y)\n",
    "smape"
   ]
  },
  {
   "cell_type": "code",
   "execution_count": 23,
   "metadata": {},
   "outputs": [
    {
     "name": "stderr",
     "output_type": "stream",
     "text": [
      "/home/tinku/.virtualenvs/cv/lib/python3.5/site-packages/pandas/core/frame.py:3697: SettingWithCopyWarning: \n",
      "A value is trying to be set on a copy of a slice from a DataFrame\n",
      "\n",
      "See the caveats in the documentation: http://pandas.pydata.org/pandas-docs/stable/indexing.html#indexing-view-versus-copy\n",
      "  errors=errors)\n"
     ]
    }
   ],
   "source": [
    "test2.drop('Sales', axis = 1, inplace=True)"
   ]
  },
  {
   "cell_type": "code",
   "execution_count": 24,
   "metadata": {},
   "outputs": [],
   "source": [
    "test_pred = lgbmodel.predict(test2)"
   ]
  },
  {
   "cell_type": "code",
   "execution_count": 25,
   "metadata": {},
   "outputs": [],
   "source": [
    "test = pd.read_csv('yds_test2018.csv')"
   ]
  },
  {
   "cell_type": "code",
   "execution_count": 26,
   "metadata": {},
   "outputs": [],
   "source": [
    "test.Sales = np.exp(test_pred)-1"
   ]
  },
  {
   "cell_type": "code",
   "execution_count": 27,
   "metadata": {},
   "outputs": [],
   "source": [
    "test.Sales = test.Sales.round(0)"
   ]
  },
  {
   "cell_type": "code",
   "execution_count": 28,
   "metadata": {},
   "outputs": [],
   "source": [
    "test.to_csv('submit22.csv', index = False)"
   ]
  },
  {
   "cell_type": "code",
   "execution_count": 29,
   "metadata": {},
   "outputs": [
    {
     "data": {
      "text/html": [
       "<div>\n",
       "<style scoped>\n",
       "    .dataframe tbody tr th:only-of-type {\n",
       "        vertical-align: middle;\n",
       "    }\n",
       "\n",
       "    .dataframe tbody tr th {\n",
       "        vertical-align: top;\n",
       "    }\n",
       "\n",
       "    .dataframe thead th {\n",
       "        text-align: right;\n",
       "    }\n",
       "</style>\n",
       "<table border=\"1\" class=\"dataframe\">\n",
       "  <thead>\n",
       "    <tr style=\"text-align: right;\">\n",
       "      <th></th>\n",
       "      <th>S_No</th>\n",
       "      <th>Year</th>\n",
       "      <th>Month</th>\n",
       "      <th>Product_ID</th>\n",
       "      <th>Country</th>\n",
       "      <th>Sales</th>\n",
       "    </tr>\n",
       "  </thead>\n",
       "  <tbody>\n",
       "    <tr>\n",
       "      <th>0</th>\n",
       "      <td>79073</td>\n",
       "      <td>2016</td>\n",
       "      <td>4</td>\n",
       "      <td>1</td>\n",
       "      <td>Argentina</td>\n",
       "      <td>14538225.0</td>\n",
       "    </tr>\n",
       "    <tr>\n",
       "      <th>1</th>\n",
       "      <td>79074</td>\n",
       "      <td>2016</td>\n",
       "      <td>5</td>\n",
       "      <td>1</td>\n",
       "      <td>Argentina</td>\n",
       "      <td>33524718.0</td>\n",
       "    </tr>\n",
       "    <tr>\n",
       "      <th>2</th>\n",
       "      <td>79075</td>\n",
       "      <td>2016</td>\n",
       "      <td>6</td>\n",
       "      <td>1</td>\n",
       "      <td>Argentina</td>\n",
       "      <td>14609195.0</td>\n",
       "    </tr>\n",
       "    <tr>\n",
       "      <th>3</th>\n",
       "      <td>79076</td>\n",
       "      <td>2016</td>\n",
       "      <td>7</td>\n",
       "      <td>1</td>\n",
       "      <td>Argentina</td>\n",
       "      <td>14821599.0</td>\n",
       "    </tr>\n",
       "    <tr>\n",
       "      <th>4</th>\n",
       "      <td>79077</td>\n",
       "      <td>2016</td>\n",
       "      <td>8</td>\n",
       "      <td>1</td>\n",
       "      <td>Argentina</td>\n",
       "      <td>14476930.0</td>\n",
       "    </tr>\n",
       "  </tbody>\n",
       "</table>\n",
       "</div>"
      ],
      "text/plain": [
       "    S_No  Year  Month  Product_ID    Country       Sales\n",
       "0  79073  2016      4           1  Argentina  14538225.0\n",
       "1  79074  2016      5           1  Argentina  33524718.0\n",
       "2  79075  2016      6           1  Argentina  14609195.0\n",
       "3  79076  2016      7           1  Argentina  14821599.0\n",
       "4  79077  2016      8           1  Argentina  14476930.0"
      ]
     },
     "execution_count": 29,
     "metadata": {},
     "output_type": "execute_result"
    }
   ],
   "source": [
    "test.head()\n",
    "#test.Sales.round(0)"
   ]
  }
 ],
 "metadata": {
  "kernelspec": {
   "display_name": "Python 3",
   "language": "python",
   "name": "python3"
  },
  "language_info": {
   "codemirror_mode": {
    "name": "ipython",
    "version": 3
   },
   "file_extension": ".py",
   "mimetype": "text/x-python",
   "name": "python",
   "nbconvert_exporter": "python",
   "pygments_lexer": "ipython3",
   "version": "3.5.2"
  }
 },
 "nbformat": 4,
 "nbformat_minor": 2
}
