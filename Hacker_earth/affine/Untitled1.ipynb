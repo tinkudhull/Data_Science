{
 "cells": [
  {
   "cell_type": "code",
   "execution_count": 2,
   "metadata": {
    "collapsed": true
   },
   "outputs": [],
   "source": [
    "import numpy as np # linear algebra\n",
    "import pandas as pd # data processing, CSV file I/O (e.g. pd.read_csv)\n",
    "from sklearn.metrics import roc_auc_score\n",
    "from sklearn.linear_model import LogisticRegression\n",
    "from collections import defaultdict"
   ]
  },
  {
   "cell_type": "code",
   "execution_count": 3,
   "metadata": {
    "collapsed": true
   },
   "outputs": [],
   "source": [
    "usecols = ['ncodpers', 'ind_ahor_fin_ult1', 'ind_aval_fin_ult1', 'ind_cco_fin_ult1',\n",
    "       'ind_cder_fin_ult1', 'ind_cno_fin_ult1', 'ind_ctju_fin_ult1',\n",
    "       'ind_ctma_fin_ult1', 'ind_ctop_fin_ult1', 'ind_ctpp_fin_ult1',\n",
    "       'ind_deco_fin_ult1', 'ind_deme_fin_ult1', 'ind_dela_fin_ult1',\n",
    "       'ind_ecue_fin_ult1', 'ind_fond_fin_ult1', 'ind_hip_fin_ult1',\n",
    "       'ind_plan_fin_ult1', 'ind_pres_fin_ult1', 'ind_reca_fin_ult1',\n",
    "       'ind_tjcr_fin_ult1', 'ind_valo_fin_ult1', 'ind_viv_fin_ult1',\n",
    "       'ind_nomina_ult1', 'ind_nom_pens_ult1', 'ind_recibo_ult1']"
   ]
  },
  {
   "cell_type": "code",
   "execution_count": 19,
   "metadata": {},
   "outputs": [],
   "source": [
    "#df_train = pd.read_csv('train_ver2.csv', usecols=usecols, nrows=7000000)\n",
    "sample = pd.read_csv('sample_submission.csv', nrows = 100)"
   ]
  },
  {
   "cell_type": "code",
   "execution_count": 6,
   "metadata": {
    "collapsed": true
   },
   "outputs": [],
   "source": [
    "df_train = df_train.drop_duplicates(['ncodpers'], keep='last')"
   ]
  },
  {
   "cell_type": "code",
   "execution_count": 7,
   "metadata": {
    "collapsed": true
   },
   "outputs": [],
   "source": [
    "df_train.fillna(0, inplace=True)"
   ]
  },
  {
   "cell_type": "code",
   "execution_count": 8,
   "metadata": {
    "collapsed": true
   },
   "outputs": [],
   "source": [
    "models = {}\n",
    "model_preds = {}"
   ]
  },
  {
   "cell_type": "code",
   "execution_count": 9,
   "metadata": {
    "collapsed": true
   },
   "outputs": [],
   "source": [
    "id_preds = defaultdict(list)"
   ]
  },
  {
   "cell_type": "code",
   "execution_count": 10,
   "metadata": {
    "collapsed": true
   },
   "outputs": [],
   "source": [
    "ids = df_train['ncodpers'].values"
   ]
  },
  {
   "cell_type": "code",
   "execution_count": 13,
   "metadata": {
    "scrolled": true
   },
   "outputs": [
    {
     "name": "stdout",
     "output_type": "stream",
     "text": [
      "ind_ahor_fin_ult1\n",
      "0.80899342\n",
      "ind_aval_fin_ult1\n",
      "0.982231304931\n",
      "ind_cco_fin_ult1\n",
      "0.645184638818\n",
      "ind_cder_fin_ult1\n",
      "0.780425218234\n",
      "ind_cno_fin_ult1\n",
      "0.975975743989\n",
      "ind_ctju_fin_ult1\n",
      "0.871581911298\n",
      "ind_ctma_fin_ult1\n",
      "0.691373709082\n",
      "ind_ctop_fin_ult1\n",
      "0.609121295155\n",
      "ind_ctpp_fin_ult1\n",
      "0.724824356456\n",
      "ind_deco_fin_ult1\n",
      "0.621992963603\n",
      "ind_deme_fin_ult1\n",
      "0.856226187346\n",
      "ind_dela_fin_ult1\n",
      "0.778887635629\n",
      "ind_ecue_fin_ult1\n",
      "0.785597188521\n",
      "ind_fond_fin_ult1\n",
      "0.857678914772\n",
      "ind_hip_fin_ult1\n",
      "0.922229634454\n",
      "ind_plan_fin_ult1\n",
      "0.8464687116\n",
      "ind_pres_fin_ult1\n",
      "0.713859409195\n",
      "ind_reca_fin_ult1\n",
      "0.845247045346\n",
      "ind_tjcr_fin_ult1\n",
      "0.905090361334\n",
      "ind_valo_fin_ult1\n",
      "0.83668013566\n",
      "ind_viv_fin_ult1\n",
      "0.764697879545\n",
      "ind_nomina_ult1\n",
      "0.998183076205\n",
      "ind_nom_pens_ult1\n",
      "0.998820052244\n",
      "ind_recibo_ult1\n",
      "0.872553280971\n"
     ]
    }
   ],
   "source": [
    "for c in df_train.columns:\n",
    "    if c!= 'ncodpers' :\n",
    "        print(c)\n",
    "        y_train = df_train[c]\n",
    "        x_train = df_train.drop([c, 'ncodpers'], 1)\n",
    "        clf = LogisticRegression()\n",
    "        clf.fit(x_train, y_train)\n",
    "        p_train = clf.predict_proba(x_train)[:,1]\n",
    "        \n",
    "        models[c] = clf\n",
    "        model_preds[c] = p_train\n",
    "        for id, p in zip(ids, p_train):\n",
    "            id_preds[id].append(p)\n",
    "        \n",
    "        print(roc_auc_score(y_train, p_train))   \n",
    "        "
   ]
  },
  {
   "cell_type": "code",
   "execution_count": 14,
   "metadata": {
    "collapsed": true
   },
   "outputs": [],
   "source": [
    "already_active = {}\n",
    "for row in df_train.values:\n",
    "    row = list(row)\n",
    "    id = row.pop(0)\n",
    "    active = [c[0] for c in zip(df_train.columns[1:], row) if c[1] > 0]\n",
    "    already_active[id] = active"
   ]
  },
  {
   "cell_type": "code",
   "execution_count": 15,
   "metadata": {
    "collapsed": true
   },
   "outputs": [],
   "source": [
    "train_preds = {}\n",
    "for id, p in id_preds.items():\n",
    "    # Here be dragons\n",
    "    preds = [i[0] for i in sorted([i for i in zip(df_train.columns[1:], p) if i[0] not in already_active[id]], key=lambda i:i [1], reverse=True)[:7]]\n",
    "    train_preds[id] = preds"
   ]
  },
  {
   "cell_type": "code",
   "execution_count": 20,
   "metadata": {},
   "outputs": [],
   "source": [
    "test_preds = []\n",
    "for row in sample.values:\n",
    "    id = row[0]\n",
    "    p = train_preds[id]\n",
    "    test_preds.append(' '.join(p))"
   ]
  },
  {
   "cell_type": "code",
   "execution_count": 21,
   "metadata": {
    "collapsed": true
   },
   "outputs": [],
   "source": [
    "sample['added_products'] = test_preds\n",
    "sample.to_csv('collab_sub.csv', index=False)"
   ]
  },
  {
   "cell_type": "code",
   "execution_count": null,
   "metadata": {
    "collapsed": true
   },
   "outputs": [],
   "source": [
    "#https://www.kaggle.com/anokas/collaborative-filtering-btb-lb-0-01691"
   ]
  }
 ],
 "metadata": {
  "kernelspec": {
   "display_name": "Python 3",
   "language": "python",
   "name": "python3"
  },
  "language_info": {
   "codemirror_mode": {
    "name": "ipython",
    "version": 3
   },
   "file_extension": ".py",
   "mimetype": "text/x-python",
   "name": "python",
   "nbconvert_exporter": "python",
   "pygments_lexer": "ipython3",
   "version": "3.6.1"
  }
 },
 "nbformat": 4,
 "nbformat_minor": 2
}
